{
 "cells": [
  {
   "cell_type": "code",
   "execution_count": 4,
   "metadata": {},
   "outputs": [],
   "source": [
    "import numpy as np\n",
    "import pandas as pd"
   ]
  },
  {
   "cell_type": "code",
   "execution_count": 5,
   "metadata": {},
   "outputs": [],
   "source": [
    "t = '2019-10-25'"
   ]
  },
  {
   "cell_type": "markdown",
   "metadata": {},
   "source": [
    "Python packages: `datetime` and `dateutil`"
   ]
  },
  {
   "cell_type": "code",
   "execution_count": 7,
   "metadata": {},
   "outputs": [],
   "source": [
    "import datetime"
   ]
  },
  {
   "cell_type": "code",
   "execution_count": 16,
   "metadata": {},
   "outputs": [],
   "source": [
    "### timestamp\n",
    "some_day = datetime.datetime(year=2019, month=10, day=25)\n",
    "other_day = datetime.datetime(year=2019, month=12, day=31)"
   ]
  },
  {
   "cell_type": "code",
   "execution_count": 14,
   "metadata": {},
   "outputs": [],
   "source": [
    "### timedelta = a difference between two timestamps\n",
    "some_diff = datetime.timedelta(10)"
   ]
  },
  {
   "cell_type": "code",
   "execution_count": 15,
   "metadata": {},
   "outputs": [
    {
     "data": {
      "text/plain": [
       "datetime.datetime(2019, 11, 4, 0, 0)"
      ]
     },
     "execution_count": 15,
     "metadata": {},
     "output_type": "execute_result"
    }
   ],
   "source": [
    "some_day + some_diff"
   ]
  },
  {
   "cell_type": "code",
   "execution_count": 17,
   "metadata": {},
   "outputs": [
    {
     "data": {
      "text/plain": [
       "datetime.timedelta(67)"
      ]
     },
     "execution_count": 17,
     "metadata": {},
     "output_type": "execute_result"
    }
   ],
   "source": [
    "other_day - some_day"
   ]
  },
  {
   "cell_type": "code",
   "execution_count": 28,
   "metadata": {},
   "outputs": [
    {
     "data": {
      "text/plain": [
       "'This is in year 2019.  Today is October 25th.  It is Friday in this week.'"
      ]
     },
     "execution_count": 28,
     "metadata": {},
     "output_type": "execute_result"
    }
   ],
   "source": [
    "some_day.strftime(\"This is in year %Y.  Today is %B %dth.  It is %A in this week.\")"
   ]
  },
  {
   "cell_type": "code",
   "execution_count": 25,
   "metadata": {},
   "outputs": [],
   "source": [
    "some_day.strftime"
   ]
  },
  {
   "cell_type": "code",
   "execution_count": 29,
   "metadata": {},
   "outputs": [],
   "source": [
    "birth_day = datetime.datetime(year=1987, month=3, day=21)"
   ]
  },
  {
   "cell_type": "code",
   "execution_count": 30,
   "metadata": {},
   "outputs": [
    {
     "data": {
      "text/plain": [
       "'Saturday'"
      ]
     },
     "execution_count": 30,
     "metadata": {},
     "output_type": "execute_result"
    }
   ],
   "source": [
    "birth_day.strftime(\"%A\")"
   ]
  },
  {
   "cell_type": "code",
   "execution_count": 31,
   "metadata": {},
   "outputs": [],
   "source": [
    "import dateutil"
   ]
  },
  {
   "cell_type": "code",
   "execution_count": 32,
   "metadata": {},
   "outputs": [
    {
     "data": {
      "text/plain": [
       "datetime.datetime(2020, 10, 10, 0, 0)"
      ]
     },
     "execution_count": 32,
     "metadata": {},
     "output_type": "execute_result"
    }
   ],
   "source": [
    "dateutil.parser.parse('20201010')"
   ]
  },
  {
   "cell_type": "code",
   "execution_count": 34,
   "metadata": {},
   "outputs": [
    {
     "data": {
      "text/plain": [
       "datetime.datetime(2020, 10, 10, 0, 0)"
      ]
     },
     "execution_count": 34,
     "metadata": {},
     "output_type": "execute_result"
    }
   ],
   "source": [
    "dateutil.parser.parse('2020-10-10')"
   ]
  },
  {
   "cell_type": "code",
   "execution_count": 35,
   "metadata": {},
   "outputs": [
    {
     "data": {
      "text/plain": [
       "datetime.datetime(2019, 10, 25, 0, 0)"
      ]
     },
     "execution_count": 35,
     "metadata": {},
     "output_type": "execute_result"
    }
   ],
   "source": [
    "dateutil.parser.parse('2019, October 25')"
   ]
  },
  {
   "cell_type": "code",
   "execution_count": 36,
   "metadata": {},
   "outputs": [
    {
     "data": {
      "text/plain": [
       "datetime.datetime(2019, 10, 25, 0, 0)"
      ]
     },
     "execution_count": 36,
     "metadata": {},
     "output_type": "execute_result"
    }
   ],
   "source": [
    "dateutil.parser.parse('October 25, 2019')"
   ]
  },
  {
   "cell_type": "markdown",
   "metadata": {},
   "source": [
    "Numpy: `datetime64` and `timedelta64`"
   ]
  },
  {
   "cell_type": "code",
   "execution_count": 37,
   "metadata": {},
   "outputs": [],
   "source": [
    "import numpy as np"
   ]
  },
  {
   "cell_type": "code",
   "execution_count": 40,
   "metadata": {},
   "outputs": [
    {
     "data": {
      "text/plain": [
       "numpy.datetime64('2019-10-25')"
      ]
     },
     "execution_count": 40,
     "metadata": {},
     "output_type": "execute_result"
    }
   ],
   "source": [
    "some_day = np.datetime64('2019-10-25')\n",
    "some_day"
   ]
  },
  {
   "cell_type": "code",
   "execution_count": 41,
   "metadata": {},
   "outputs": [],
   "source": [
    "some_diff = np.timedelta64('10')"
   ]
  },
  {
   "cell_type": "code",
   "execution_count": 42,
   "metadata": {},
   "outputs": [
    {
     "data": {
      "text/plain": [
       "numpy.datetime64('2019-11-04')"
      ]
     },
     "execution_count": 42,
     "metadata": {},
     "output_type": "execute_result"
    }
   ],
   "source": [
    "some_day + some_diff"
   ]
  },
  {
   "cell_type": "code",
   "execution_count": 43,
   "metadata": {},
   "outputs": [
    {
     "data": {
      "text/plain": [
       "array(['2019-10-25', '2019-10-26', '2019-10-27', '2019-10-28',\n",
       "       '2019-10-29', '2019-10-30', '2019-10-31', '2019-11-01',\n",
       "       '2019-11-02', '2019-11-03'], dtype='datetime64[D]')"
      ]
     },
     "execution_count": 43,
     "metadata": {},
     "output_type": "execute_result"
    }
   ],
   "source": [
    "some_day + np.arange(10)"
   ]
  },
  {
   "cell_type": "markdown",
   "metadata": {},
   "source": [
    "Pandas: `to_datetime`, `to_timedelta`, and `date_range`"
   ]
  },
  {
   "cell_type": "code",
   "execution_count": 44,
   "metadata": {},
   "outputs": [],
   "source": [
    "import pandas as pd"
   ]
  },
  {
   "cell_type": "code",
   "execution_count": 46,
   "metadata": {},
   "outputs": [
    {
     "data": {
      "text/plain": [
       "Timestamp('2019-10-25 00:00:00')"
      ]
     },
     "execution_count": 46,
     "metadata": {},
     "output_type": "execute_result"
    }
   ],
   "source": [
    "some_day = pd.to_datetime('2019-10-25')\n",
    "some_day"
   ]
  },
  {
   "cell_type": "code",
   "execution_count": 48,
   "metadata": {},
   "outputs": [
    {
     "data": {
      "text/plain": [
       "Timestamp('2019-10-25 00:00:00')"
      ]
     },
     "execution_count": 48,
     "metadata": {},
     "output_type": "execute_result"
    }
   ],
   "source": [
    "some_day = pd.to_datetime('Oct 25, 2019')\n",
    "some_day"
   ]
  },
  {
   "cell_type": "code",
   "execution_count": 52,
   "metadata": {},
   "outputs": [],
   "source": [
    "some_diff = pd.to_timedelta(10, unit='d')"
   ]
  },
  {
   "cell_type": "code",
   "execution_count": 53,
   "metadata": {},
   "outputs": [
    {
     "data": {
      "text/plain": [
       "Timestamp('2019-11-04 00:00:00')"
      ]
     },
     "execution_count": 53,
     "metadata": {},
     "output_type": "execute_result"
    }
   ],
   "source": [
    "some_day + some_diff"
   ]
  },
  {
   "cell_type": "code",
   "execution_count": 54,
   "metadata": {},
   "outputs": [
    {
     "data": {
      "text/plain": [
       "0    2019-10-25\n",
       "1    2019-10-26\n",
       "2    2019-10-27\n",
       "dtype: object"
      ]
     },
     "execution_count": 54,
     "metadata": {},
     "output_type": "execute_result"
    }
   ],
   "source": [
    "s = pd.Series(['2019-10-25',\n",
    "              '2019-10-26',\n",
    "              '2019-10-27'])\n",
    "s"
   ]
  },
  {
   "cell_type": "code",
   "execution_count": 55,
   "metadata": {},
   "outputs": [
    {
     "data": {
      "text/plain": [
       "0   2019-10-25\n",
       "1   2019-10-26\n",
       "2   2019-10-27\n",
       "dtype: datetime64[ns]"
      ]
     },
     "execution_count": 55,
     "metadata": {},
     "output_type": "execute_result"
    }
   ],
   "source": [
    "pd.to_datetime(s)"
   ]
  },
  {
   "cell_type": "code",
   "execution_count": 56,
   "metadata": {},
   "outputs": [],
   "source": [
    "s = pd.date_range?"
   ]
  },
  {
   "cell_type": "code",
   "execution_count": 59,
   "metadata": {},
   "outputs": [
    {
     "data": {
      "text/plain": [
       "DatetimeIndex(['2019-10-25', '2019-10-26', '2019-10-27', '2019-10-28',\n",
       "               '2019-10-29', '2019-10-30', '2019-10-31', '2019-11-01',\n",
       "               '2019-11-02', '2019-11-03', '2019-11-04'],\n",
       "              dtype='datetime64[ns]', freq='D')"
      ]
     },
     "execution_count": 59,
     "metadata": {},
     "output_type": "execute_result"
    }
   ],
   "source": [
    "s = pd.date_range('2019-10-25','2019-11-4', freq='D')\n",
    "s"
   ]
  },
  {
   "cell_type": "code",
   "execution_count": 61,
   "metadata": {},
   "outputs": [],
   "source": [
    "prices = 200 + np.arange(11) + np.random.randn(11)"
   ]
  },
  {
   "cell_type": "code",
   "execution_count": 62,
   "metadata": {},
   "outputs": [
    {
     "data": {
      "text/plain": [
       "2019-10-25    199.834385\n",
       "2019-10-26    201.640913\n",
       "2019-10-27    201.499231\n",
       "2019-10-28    203.462227\n",
       "2019-10-29    202.482018\n",
       "2019-10-30    203.763600\n",
       "2019-10-31    205.940757\n",
       "2019-11-01    206.729322\n",
       "2019-11-02    206.508707\n",
       "2019-11-03    207.543906\n",
       "2019-11-04    212.166298\n",
       "Freq: D, dtype: float64"
      ]
     },
     "execution_count": 62,
     "metadata": {},
     "output_type": "execute_result"
    }
   ],
   "source": [
    "TSM = pd.Series(prices, \n",
    "               index=s)\n",
    "TSM"
   ]
  },
  {
   "cell_type": "code",
   "execution_count": 67,
   "metadata": {},
   "outputs": [
    {
     "data": {
      "text/plain": [
       "Index(['Friday', 'Saturday', 'Sunday', 'Monday', 'Tuesday', 'Wednesday',\n",
       "       'Thursday', 'Friday', 'Saturday', 'Sunday', 'Monday'],\n",
       "      dtype='object')"
      ]
     },
     "execution_count": 67,
     "metadata": {},
     "output_type": "execute_result"
    }
   ],
   "source": [
    "TSM.index.strftime(\"%A\")"
   ]
  },
  {
   "cell_type": "code",
   "execution_count": 69,
   "metadata": {},
   "outputs": [
    {
     "data": {
      "text/plain": [
       "2019-10-25    199.834385\n",
       "2019-10-26    201.640913\n",
       "2019-10-27    201.499231\n",
       "2019-10-28    203.462227\n",
       "2019-10-29    202.482018\n",
       "2019-10-30    203.763600\n",
       "2019-10-31    205.940757\n",
       "2019-11-01    206.729322\n",
       "Freq: D, dtype: float64"
      ]
     },
     "execution_count": 69,
     "metadata": {},
     "output_type": "execute_result"
    }
   ],
   "source": [
    "TSM['2019-10-25':'2019-11-01']"
   ]
  },
  {
   "cell_type": "code",
   "execution_count": 71,
   "metadata": {},
   "outputs": [
    {
     "data": {
      "text/plain": [
       "2019-10-25    199.834385\n",
       "2019-10-26    201.640913\n",
       "2019-10-27    201.499231\n",
       "2019-10-28    203.462227\n",
       "2019-10-29    202.482018\n",
       "2019-10-30    203.763600\n",
       "2019-10-31    205.940757\n",
       "Freq: D, dtype: float64"
      ]
     },
     "execution_count": 71,
     "metadata": {},
     "output_type": "execute_result"
    }
   ],
   "source": [
    "TSM['2019-10']"
   ]
  },
  {
   "cell_type": "markdown",
   "metadata": {},
   "source": [
    "`eval()` and `query()`"
   ]
  },
  {
   "cell_type": "code",
   "execution_count": 1,
   "metadata": {},
   "outputs": [],
   "source": [
    "import numpy as np\n",
    "import pandas as pd"
   ]
  },
  {
   "cell_type": "code",
   "execution_count": 8,
   "metadata": {},
   "outputs": [
    {
     "data": {
      "text/plain": [
       "(100000, 100)"
      ]
     },
     "execution_count": 8,
     "metadata": {},
     "output_type": "execute_result"
    }
   ],
   "source": [
    "df1 = pd.DataFrame(np.random.randn(100000, 100))\n",
    "df2 = pd.DataFrame(np.random.randn(100000, 100))\n",
    "df3 = pd.DataFrame(np.random.randn(100000, 100))\n",
    "df4 = pd.DataFrame(np.random.randn(100000, 100))\n",
    "\n",
    "df1.shape"
   ]
  },
  {
   "cell_type": "code",
   "execution_count": 9,
   "metadata": {},
   "outputs": [
    {
     "name": "stdout",
     "output_type": "stream",
     "text": [
      "1 loop, best of 3: 146 ms per loop\n"
     ]
    }
   ],
   "source": [
    "%%timeit\n",
    "\n",
    "df1 + df2 + df3 + df4"
   ]
  },
  {
   "cell_type": "code",
   "execution_count": null,
   "metadata": {},
   "outputs": [],
   "source": [
    "tem1 = df1 + df2\n",
    "tem2 = tem1 + df3\n",
    "tem3 = tem2 + df4"
   ]
  },
  {
   "cell_type": "code",
   "execution_count": 10,
   "metadata": {},
   "outputs": [
    {
     "name": "stdout",
     "output_type": "stream",
     "text": [
      "10 loops, best of 3: 147 ms per loop\n"
     ]
    }
   ],
   "source": [
    "%%timeit\n",
    "\n",
    "pd.eval('df1 + df2 + df3 + df4')"
   ]
  },
  {
   "cell_type": "markdown",
   "metadata": {},
   "source": [
    "`+`, `-`, `*`, `/`, ..."
   ]
  },
  {
   "cell_type": "code",
   "execution_count": 11,
   "metadata": {
    "scrolled": true
   },
   "outputs": [
    {
     "data": {
      "text/html": [
       "<div>\n",
       "<style scoped>\n",
       "    .dataframe tbody tr th:only-of-type {\n",
       "        vertical-align: middle;\n",
       "    }\n",
       "\n",
       "    .dataframe tbody tr th {\n",
       "        vertical-align: top;\n",
       "    }\n",
       "\n",
       "    .dataframe thead th {\n",
       "        text-align: right;\n",
       "    }\n",
       "</style>\n",
       "<table border=\"1\" class=\"dataframe\">\n",
       "  <thead>\n",
       "    <tr style=\"text-align: right;\">\n",
       "      <th></th>\n",
       "      <th>0</th>\n",
       "      <th>1</th>\n",
       "      <th>2</th>\n",
       "      <th>3</th>\n",
       "      <th>4</th>\n",
       "      <th>5</th>\n",
       "      <th>6</th>\n",
       "      <th>7</th>\n",
       "      <th>8</th>\n",
       "      <th>9</th>\n",
       "      <th>...</th>\n",
       "      <th>90</th>\n",
       "      <th>91</th>\n",
       "      <th>92</th>\n",
       "      <th>93</th>\n",
       "      <th>94</th>\n",
       "      <th>95</th>\n",
       "      <th>96</th>\n",
       "      <th>97</th>\n",
       "      <th>98</th>\n",
       "      <th>99</th>\n",
       "    </tr>\n",
       "  </thead>\n",
       "  <tbody>\n",
       "    <tr>\n",
       "      <th>0</th>\n",
       "      <td>-2.062187</td>\n",
       "      <td>2.652629</td>\n",
       "      <td>4.980300</td>\n",
       "      <td>2.139690</td>\n",
       "      <td>-1.602544</td>\n",
       "      <td>-0.627224</td>\n",
       "      <td>-2.215872</td>\n",
       "      <td>1.320299</td>\n",
       "      <td>10.684332</td>\n",
       "      <td>-0.312572</td>\n",
       "      <td>...</td>\n",
       "      <td>-4.378124</td>\n",
       "      <td>-4.848419</td>\n",
       "      <td>0.519658</td>\n",
       "      <td>1.753211</td>\n",
       "      <td>74.898305</td>\n",
       "      <td>-3.897641</td>\n",
       "      <td>0.170642</td>\n",
       "      <td>1.655469</td>\n",
       "      <td>-3.246920</td>\n",
       "      <td>0.924213</td>\n",
       "    </tr>\n",
       "    <tr>\n",
       "      <th>1</th>\n",
       "      <td>-0.816783</td>\n",
       "      <td>-0.655444</td>\n",
       "      <td>-5.973452</td>\n",
       "      <td>0.267592</td>\n",
       "      <td>51.537249</td>\n",
       "      <td>0.189146</td>\n",
       "      <td>2.407347</td>\n",
       "      <td>0.037959</td>\n",
       "      <td>-3.983387</td>\n",
       "      <td>1.581811</td>\n",
       "      <td>...</td>\n",
       "      <td>-2.312995</td>\n",
       "      <td>791.369899</td>\n",
       "      <td>-0.454800</td>\n",
       "      <td>0.884469</td>\n",
       "      <td>-6.572774</td>\n",
       "      <td>-7.780174</td>\n",
       "      <td>7.560844</td>\n",
       "      <td>-2.632137</td>\n",
       "      <td>3.652286</td>\n",
       "      <td>2.291073</td>\n",
       "    </tr>\n",
       "    <tr>\n",
       "      <th>2</th>\n",
       "      <td>0.969070</td>\n",
       "      <td>-2.644673</td>\n",
       "      <td>-1.512008</td>\n",
       "      <td>0.965527</td>\n",
       "      <td>0.625778</td>\n",
       "      <td>2.259248</td>\n",
       "      <td>-0.923807</td>\n",
       "      <td>-1.181028</td>\n",
       "      <td>-0.601291</td>\n",
       "      <td>2.315596</td>\n",
       "      <td>...</td>\n",
       "      <td>0.348154</td>\n",
       "      <td>3.590523</td>\n",
       "      <td>-3.904637</td>\n",
       "      <td>-1.166786</td>\n",
       "      <td>0.182846</td>\n",
       "      <td>-0.979982</td>\n",
       "      <td>3.865090</td>\n",
       "      <td>-0.850729</td>\n",
       "      <td>-3.379885</td>\n",
       "      <td>-1.008932</td>\n",
       "    </tr>\n",
       "    <tr>\n",
       "      <th>3</th>\n",
       "      <td>4.976576</td>\n",
       "      <td>-0.985036</td>\n",
       "      <td>-0.474501</td>\n",
       "      <td>-0.665369</td>\n",
       "      <td>2.175882</td>\n",
       "      <td>-7.454850</td>\n",
       "      <td>0.180508</td>\n",
       "      <td>6.783729</td>\n",
       "      <td>-1.628206</td>\n",
       "      <td>-0.641968</td>\n",
       "      <td>...</td>\n",
       "      <td>-0.977737</td>\n",
       "      <td>0.677885</td>\n",
       "      <td>0.245173</td>\n",
       "      <td>-0.074130</td>\n",
       "      <td>1.689288</td>\n",
       "      <td>0.715807</td>\n",
       "      <td>2.676736</td>\n",
       "      <td>2.514096</td>\n",
       "      <td>-6.152811</td>\n",
       "      <td>-3.214402</td>\n",
       "    </tr>\n",
       "    <tr>\n",
       "      <th>4</th>\n",
       "      <td>-1.336823</td>\n",
       "      <td>-7.797253</td>\n",
       "      <td>0.273747</td>\n",
       "      <td>2.390426</td>\n",
       "      <td>8.091452</td>\n",
       "      <td>-5.757350</td>\n",
       "      <td>1.305063</td>\n",
       "      <td>1.775400</td>\n",
       "      <td>-0.649304</td>\n",
       "      <td>-3.123965</td>\n",
       "      <td>...</td>\n",
       "      <td>0.926734</td>\n",
       "      <td>0.769919</td>\n",
       "      <td>-9.567607</td>\n",
       "      <td>-2.492863</td>\n",
       "      <td>-0.923274</td>\n",
       "      <td>1.449439</td>\n",
       "      <td>-1.958739</td>\n",
       "      <td>1.827754</td>\n",
       "      <td>0.412697</td>\n",
       "      <td>3.217012</td>\n",
       "    </tr>\n",
       "    <tr>\n",
       "      <th>...</th>\n",
       "      <td>...</td>\n",
       "      <td>...</td>\n",
       "      <td>...</td>\n",
       "      <td>...</td>\n",
       "      <td>...</td>\n",
       "      <td>...</td>\n",
       "      <td>...</td>\n",
       "      <td>...</td>\n",
       "      <td>...</td>\n",
       "      <td>...</td>\n",
       "      <td>...</td>\n",
       "      <td>...</td>\n",
       "      <td>...</td>\n",
       "      <td>...</td>\n",
       "      <td>...</td>\n",
       "      <td>...</td>\n",
       "      <td>...</td>\n",
       "      <td>...</td>\n",
       "      <td>...</td>\n",
       "      <td>...</td>\n",
       "      <td>...</td>\n",
       "    </tr>\n",
       "    <tr>\n",
       "      <th>99995</th>\n",
       "      <td>-1.089232</td>\n",
       "      <td>-6.936742</td>\n",
       "      <td>1.259896</td>\n",
       "      <td>1.033288</td>\n",
       "      <td>-2.030108</td>\n",
       "      <td>0.388080</td>\n",
       "      <td>1.332277</td>\n",
       "      <td>0.539227</td>\n",
       "      <td>-1.128019</td>\n",
       "      <td>-1.473425</td>\n",
       "      <td>...</td>\n",
       "      <td>-18.571773</td>\n",
       "      <td>0.090512</td>\n",
       "      <td>-1.866536</td>\n",
       "      <td>3.711762</td>\n",
       "      <td>-1.009828</td>\n",
       "      <td>-1.107419</td>\n",
       "      <td>0.063171</td>\n",
       "      <td>0.532609</td>\n",
       "      <td>-13.858761</td>\n",
       "      <td>-69.211219</td>\n",
       "    </tr>\n",
       "    <tr>\n",
       "      <th>99996</th>\n",
       "      <td>10.920879</td>\n",
       "      <td>1.740719</td>\n",
       "      <td>-0.055152</td>\n",
       "      <td>-0.051854</td>\n",
       "      <td>-9.810960</td>\n",
       "      <td>-1.353868</td>\n",
       "      <td>2.217714</td>\n",
       "      <td>0.160597</td>\n",
       "      <td>-0.017868</td>\n",
       "      <td>0.554034</td>\n",
       "      <td>...</td>\n",
       "      <td>5.368351</td>\n",
       "      <td>0.409813</td>\n",
       "      <td>-2.380903</td>\n",
       "      <td>0.394155</td>\n",
       "      <td>-0.159474</td>\n",
       "      <td>-5.868232</td>\n",
       "      <td>-1.791293</td>\n",
       "      <td>-1.704740</td>\n",
       "      <td>0.948516</td>\n",
       "      <td>-1.846769</td>\n",
       "    </tr>\n",
       "    <tr>\n",
       "      <th>99997</th>\n",
       "      <td>-1.625064</td>\n",
       "      <td>-0.626945</td>\n",
       "      <td>-0.287079</td>\n",
       "      <td>0.674776</td>\n",
       "      <td>0.950174</td>\n",
       "      <td>-2.685941</td>\n",
       "      <td>-0.692071</td>\n",
       "      <td>-1.840357</td>\n",
       "      <td>-3.188209</td>\n",
       "      <td>-1.091987</td>\n",
       "      <td>...</td>\n",
       "      <td>1.350714</td>\n",
       "      <td>0.709999</td>\n",
       "      <td>0.504739</td>\n",
       "      <td>0.989039</td>\n",
       "      <td>-3.476572</td>\n",
       "      <td>3.838271</td>\n",
       "      <td>-1.278188</td>\n",
       "      <td>-2.640193</td>\n",
       "      <td>-0.517498</td>\n",
       "      <td>9.784832</td>\n",
       "    </tr>\n",
       "    <tr>\n",
       "      <th>99998</th>\n",
       "      <td>-0.014597</td>\n",
       "      <td>1.007785</td>\n",
       "      <td>-21.095094</td>\n",
       "      <td>3.593985</td>\n",
       "      <td>-2.082536</td>\n",
       "      <td>2.382687</td>\n",
       "      <td>1.689739</td>\n",
       "      <td>-2.675452</td>\n",
       "      <td>1.605033</td>\n",
       "      <td>-7.751373</td>\n",
       "      <td>...</td>\n",
       "      <td>1.505546</td>\n",
       "      <td>-0.652271</td>\n",
       "      <td>-157.516054</td>\n",
       "      <td>-0.421702</td>\n",
       "      <td>-1.110249</td>\n",
       "      <td>-0.912743</td>\n",
       "      <td>3.980201</td>\n",
       "      <td>-6.774522</td>\n",
       "      <td>-3.357197</td>\n",
       "      <td>0.835255</td>\n",
       "    </tr>\n",
       "    <tr>\n",
       "      <th>99999</th>\n",
       "      <td>1.522628</td>\n",
       "      <td>-4.004126</td>\n",
       "      <td>-0.941249</td>\n",
       "      <td>-0.453911</td>\n",
       "      <td>-0.881993</td>\n",
       "      <td>-0.749247</td>\n",
       "      <td>-2.637693</td>\n",
       "      <td>-1.188668</td>\n",
       "      <td>1.830179</td>\n",
       "      <td>1.243300</td>\n",
       "      <td>...</td>\n",
       "      <td>2.074476</td>\n",
       "      <td>-0.722055</td>\n",
       "      <td>-1.118333</td>\n",
       "      <td>-2.257821</td>\n",
       "      <td>0.678403</td>\n",
       "      <td>3.146432</td>\n",
       "      <td>-0.305444</td>\n",
       "      <td>1.573797</td>\n",
       "      <td>-2.588797</td>\n",
       "      <td>-2.043795</td>\n",
       "    </tr>\n",
       "  </tbody>\n",
       "</table>\n",
       "<p>100000 rows × 100 columns</p>\n",
       "</div>"
      ],
      "text/plain": [
       "              0         1          2         3          4         5   \\\n",
       "0      -2.062187  2.652629   4.980300  2.139690  -1.602544 -0.627224   \n",
       "1      -0.816783 -0.655444  -5.973452  0.267592  51.537249  0.189146   \n",
       "2       0.969070 -2.644673  -1.512008  0.965527   0.625778  2.259248   \n",
       "3       4.976576 -0.985036  -0.474501 -0.665369   2.175882 -7.454850   \n",
       "4      -1.336823 -7.797253   0.273747  2.390426   8.091452 -5.757350   \n",
       "...          ...       ...        ...       ...        ...       ...   \n",
       "99995  -1.089232 -6.936742   1.259896  1.033288  -2.030108  0.388080   \n",
       "99996  10.920879  1.740719  -0.055152 -0.051854  -9.810960 -1.353868   \n",
       "99997  -1.625064 -0.626945  -0.287079  0.674776   0.950174 -2.685941   \n",
       "99998  -0.014597  1.007785 -21.095094  3.593985  -2.082536  2.382687   \n",
       "99999   1.522628 -4.004126  -0.941249 -0.453911  -0.881993 -0.749247   \n",
       "\n",
       "             6         7          8         9   ...         90          91  \\\n",
       "0     -2.215872  1.320299  10.684332 -0.312572  ...  -4.378124   -4.848419   \n",
       "1      2.407347  0.037959  -3.983387  1.581811  ...  -2.312995  791.369899   \n",
       "2     -0.923807 -1.181028  -0.601291  2.315596  ...   0.348154    3.590523   \n",
       "3      0.180508  6.783729  -1.628206 -0.641968  ...  -0.977737    0.677885   \n",
       "4      1.305063  1.775400  -0.649304 -3.123965  ...   0.926734    0.769919   \n",
       "...         ...       ...        ...       ...  ...        ...         ...   \n",
       "99995  1.332277  0.539227  -1.128019 -1.473425  ... -18.571773    0.090512   \n",
       "99996  2.217714  0.160597  -0.017868  0.554034  ...   5.368351    0.409813   \n",
       "99997 -0.692071 -1.840357  -3.188209 -1.091987  ...   1.350714    0.709999   \n",
       "99998  1.689739 -2.675452   1.605033 -7.751373  ...   1.505546   -0.652271   \n",
       "99999 -2.637693 -1.188668   1.830179  1.243300  ...   2.074476   -0.722055   \n",
       "\n",
       "               92        93         94        95        96        97  \\\n",
       "0        0.519658  1.753211  74.898305 -3.897641  0.170642  1.655469   \n",
       "1       -0.454800  0.884469  -6.572774 -7.780174  7.560844 -2.632137   \n",
       "2       -3.904637 -1.166786   0.182846 -0.979982  3.865090 -0.850729   \n",
       "3        0.245173 -0.074130   1.689288  0.715807  2.676736  2.514096   \n",
       "4       -9.567607 -2.492863  -0.923274  1.449439 -1.958739  1.827754   \n",
       "...           ...       ...        ...       ...       ...       ...   \n",
       "99995   -1.866536  3.711762  -1.009828 -1.107419  0.063171  0.532609   \n",
       "99996   -2.380903  0.394155  -0.159474 -5.868232 -1.791293 -1.704740   \n",
       "99997    0.504739  0.989039  -3.476572  3.838271 -1.278188 -2.640193   \n",
       "99998 -157.516054 -0.421702  -1.110249 -0.912743  3.980201 -6.774522   \n",
       "99999   -1.118333 -2.257821   0.678403  3.146432 -0.305444  1.573797   \n",
       "\n",
       "              98         99  \n",
       "0      -3.246920   0.924213  \n",
       "1       3.652286   2.291073  \n",
       "2      -3.379885  -1.008932  \n",
       "3      -6.152811  -3.214402  \n",
       "4       0.412697   3.217012  \n",
       "...          ...        ...  \n",
       "99995 -13.858761 -69.211219  \n",
       "99996   0.948516  -1.846769  \n",
       "99997  -0.517498   9.784832  \n",
       "99998  -3.357197   0.835255  \n",
       "99999  -2.588797  -2.043795  \n",
       "\n",
       "[100000 rows x 100 columns]"
      ]
     },
     "execution_count": 11,
     "metadata": {},
     "output_type": "execute_result"
    }
   ],
   "source": [
    "pd.eval('df1 + df2 - df3 / df4')"
   ]
  },
  {
   "cell_type": "code",
   "execution_count": 15,
   "metadata": {
    "scrolled": true
   },
   "outputs": [
    {
     "data": {
      "text/html": [
       "<div>\n",
       "<style scoped>\n",
       "    .dataframe tbody tr th:only-of-type {\n",
       "        vertical-align: middle;\n",
       "    }\n",
       "\n",
       "    .dataframe tbody tr th {\n",
       "        vertical-align: top;\n",
       "    }\n",
       "\n",
       "    .dataframe thead th {\n",
       "        text-align: right;\n",
       "    }\n",
       "</style>\n",
       "<table border=\"1\" class=\"dataframe\">\n",
       "  <thead>\n",
       "    <tr style=\"text-align: right;\">\n",
       "      <th></th>\n",
       "      <th>A</th>\n",
       "      <th>B</th>\n",
       "      <th>C</th>\n",
       "      <th>D</th>\n",
       "    </tr>\n",
       "  </thead>\n",
       "  <tbody>\n",
       "    <tr>\n",
       "      <th>0</th>\n",
       "      <td>0.468116</td>\n",
       "      <td>0.727914</td>\n",
       "      <td>-1.042124</td>\n",
       "      <td>1.532085</td>\n",
       "    </tr>\n",
       "    <tr>\n",
       "      <th>1</th>\n",
       "      <td>-0.335058</td>\n",
       "      <td>1.066467</td>\n",
       "      <td>-0.005903</td>\n",
       "      <td>0.069709</td>\n",
       "    </tr>\n",
       "    <tr>\n",
       "      <th>2</th>\n",
       "      <td>-0.336378</td>\n",
       "      <td>0.153801</td>\n",
       "      <td>0.187738</td>\n",
       "      <td>0.063746</td>\n",
       "    </tr>\n",
       "    <tr>\n",
       "      <th>3</th>\n",
       "      <td>-0.379191</td>\n",
       "      <td>0.479328</td>\n",
       "      <td>-0.241734</td>\n",
       "      <td>-0.580085</td>\n",
       "    </tr>\n",
       "    <tr>\n",
       "      <th>4</th>\n",
       "      <td>0.639351</td>\n",
       "      <td>-1.504349</td>\n",
       "      <td>0.561449</td>\n",
       "      <td>1.120917</td>\n",
       "    </tr>\n",
       "  </tbody>\n",
       "</table>\n",
       "</div>"
      ],
      "text/plain": [
       "          A         B         C         D\n",
       "0  0.468116  0.727914 -1.042124  1.532085\n",
       "1 -0.335058  1.066467 -0.005903  0.069709\n",
       "2 -0.336378  0.153801  0.187738  0.063746\n",
       "3 -0.379191  0.479328 -0.241734 -0.580085\n",
       "4  0.639351 -1.504349  0.561449  1.120917"
      ]
     },
     "execution_count": 15,
     "metadata": {},
     "output_type": "execute_result"
    }
   ],
   "source": [
    "df = pd.DataFrame(np.random.randn(100,4), \n",
    "                 columns=list('ABCD'))\n",
    "df.head()"
   ]
  },
  {
   "cell_type": "code",
   "execution_count": 17,
   "metadata": {
    "scrolled": true
   },
   "outputs": [
    {
     "data": {
      "text/plain": [
       "0     0.468116\n",
       "1    -0.335058\n",
       "2    -0.336378\n",
       "3    -0.379191\n",
       "4     0.639351\n",
       "        ...   \n",
       "95   -2.237527\n",
       "96    0.628829\n",
       "97    0.223733\n",
       "98   -0.704893\n",
       "99   -0.518390\n",
       "Name: A, Length: 100, dtype: float64"
      ]
     },
     "execution_count": 17,
     "metadata": {},
     "output_type": "execute_result"
    }
   ],
   "source": [
    "df.A ### df['A']"
   ]
  },
  {
   "cell_type": "code",
   "execution_count": 18,
   "metadata": {},
   "outputs": [
    {
     "data": {
      "text/plain": [
       "0     1.685991\n",
       "1     0.795214\n",
       "2     0.068906\n",
       "3    -0.721683\n",
       "4     0.817368\n",
       "        ...   \n",
       "95    0.886191\n",
       "96   -0.251228\n",
       "97    0.473100\n",
       "98   -0.355611\n",
       "99    0.301006\n",
       "Length: 100, dtype: float64"
      ]
     },
     "execution_count": 18,
     "metadata": {},
     "output_type": "execute_result"
    }
   ],
   "source": [
    "pd.eval(' df.A + df.B + df.C + df.D ')"
   ]
  },
  {
   "cell_type": "code",
   "execution_count": 21,
   "metadata": {
    "scrolled": true
   },
   "outputs": [
    {
     "data": {
      "text/plain": [
       "0     1.685991\n",
       "1     0.795214\n",
       "2     0.068906\n",
       "3    -0.721683\n",
       "4     0.817368\n",
       "        ...   \n",
       "95    0.886191\n",
       "96   -0.251228\n",
       "97    0.473100\n",
       "98   -0.355611\n",
       "99    0.301006\n",
       "Length: 100, dtype: float64"
      ]
     },
     "execution_count": 21,
     "metadata": {},
     "output_type": "execute_result"
    }
   ],
   "source": [
    "df.eval(' A + B + C + D ')"
   ]
  },
  {
   "cell_type": "markdown",
   "metadata": {},
   "source": [
    "`query()`"
   ]
  },
  {
   "cell_type": "code",
   "execution_count": 24,
   "metadata": {
    "scrolled": true
   },
   "outputs": [
    {
     "data": {
      "text/html": [
       "<div>\n",
       "<style scoped>\n",
       "    .dataframe tbody tr th:only-of-type {\n",
       "        vertical-align: middle;\n",
       "    }\n",
       "\n",
       "    .dataframe tbody tr th {\n",
       "        vertical-align: top;\n",
       "    }\n",
       "\n",
       "    .dataframe thead th {\n",
       "        text-align: right;\n",
       "    }\n",
       "</style>\n",
       "<table border=\"1\" class=\"dataframe\">\n",
       "  <thead>\n",
       "    <tr style=\"text-align: right;\">\n",
       "      <th></th>\n",
       "      <th>A</th>\n",
       "      <th>B</th>\n",
       "      <th>C</th>\n",
       "      <th>D</th>\n",
       "    </tr>\n",
       "  </thead>\n",
       "  <tbody>\n",
       "    <tr>\n",
       "      <th>0</th>\n",
       "      <td>0.468116</td>\n",
       "      <td>0.727914</td>\n",
       "      <td>-1.042124</td>\n",
       "      <td>1.532085</td>\n",
       "    </tr>\n",
       "    <tr>\n",
       "      <th>4</th>\n",
       "      <td>0.639351</td>\n",
       "      <td>-1.504349</td>\n",
       "      <td>0.561449</td>\n",
       "      <td>1.120917</td>\n",
       "    </tr>\n",
       "    <tr>\n",
       "      <th>5</th>\n",
       "      <td>1.139319</td>\n",
       "      <td>0.880233</td>\n",
       "      <td>-2.121008</td>\n",
       "      <td>0.094869</td>\n",
       "    </tr>\n",
       "    <tr>\n",
       "      <th>7</th>\n",
       "      <td>1.797316</td>\n",
       "      <td>1.320260</td>\n",
       "      <td>0.842888</td>\n",
       "      <td>1.640422</td>\n",
       "    </tr>\n",
       "    <tr>\n",
       "      <th>8</th>\n",
       "      <td>0.896035</td>\n",
       "      <td>-0.302972</td>\n",
       "      <td>-1.283640</td>\n",
       "      <td>0.478745</td>\n",
       "    </tr>\n",
       "    <tr>\n",
       "      <th>10</th>\n",
       "      <td>0.339444</td>\n",
       "      <td>-0.522488</td>\n",
       "      <td>-0.249035</td>\n",
       "      <td>1.732643</td>\n",
       "    </tr>\n",
       "    <tr>\n",
       "      <th>12</th>\n",
       "      <td>0.421559</td>\n",
       "      <td>1.829282</td>\n",
       "      <td>-0.465249</td>\n",
       "      <td>-0.419592</td>\n",
       "    </tr>\n",
       "    <tr>\n",
       "      <th>13</th>\n",
       "      <td>0.863134</td>\n",
       "      <td>0.221408</td>\n",
       "      <td>-0.512303</td>\n",
       "      <td>0.561401</td>\n",
       "    </tr>\n",
       "    <tr>\n",
       "      <th>15</th>\n",
       "      <td>0.456254</td>\n",
       "      <td>-0.270838</td>\n",
       "      <td>1.865521</td>\n",
       "      <td>-0.635997</td>\n",
       "    </tr>\n",
       "    <tr>\n",
       "      <th>16</th>\n",
       "      <td>0.585512</td>\n",
       "      <td>-0.521221</td>\n",
       "      <td>1.415940</td>\n",
       "      <td>0.057755</td>\n",
       "    </tr>\n",
       "    <tr>\n",
       "      <th>18</th>\n",
       "      <td>1.254958</td>\n",
       "      <td>-0.086674</td>\n",
       "      <td>0.666108</td>\n",
       "      <td>-0.179936</td>\n",
       "    </tr>\n",
       "    <tr>\n",
       "      <th>19</th>\n",
       "      <td>0.172150</td>\n",
       "      <td>0.614698</td>\n",
       "      <td>0.285030</td>\n",
       "      <td>1.125211</td>\n",
       "    </tr>\n",
       "    <tr>\n",
       "      <th>22</th>\n",
       "      <td>0.904440</td>\n",
       "      <td>1.031435</td>\n",
       "      <td>-1.402701</td>\n",
       "      <td>2.258773</td>\n",
       "    </tr>\n",
       "    <tr>\n",
       "      <th>24</th>\n",
       "      <td>0.498638</td>\n",
       "      <td>0.394398</td>\n",
       "      <td>0.346137</td>\n",
       "      <td>-0.635885</td>\n",
       "    </tr>\n",
       "    <tr>\n",
       "      <th>29</th>\n",
       "      <td>0.969078</td>\n",
       "      <td>0.416639</td>\n",
       "      <td>-1.056063</td>\n",
       "      <td>-0.478506</td>\n",
       "    </tr>\n",
       "    <tr>\n",
       "      <th>30</th>\n",
       "      <td>0.282493</td>\n",
       "      <td>1.371601</td>\n",
       "      <td>0.033436</td>\n",
       "      <td>0.731605</td>\n",
       "    </tr>\n",
       "    <tr>\n",
       "      <th>33</th>\n",
       "      <td>0.617111</td>\n",
       "      <td>0.244328</td>\n",
       "      <td>-0.713104</td>\n",
       "      <td>1.511324</td>\n",
       "    </tr>\n",
       "    <tr>\n",
       "      <th>34</th>\n",
       "      <td>0.781663</td>\n",
       "      <td>-0.240414</td>\n",
       "      <td>-1.095982</td>\n",
       "      <td>1.656772</td>\n",
       "    </tr>\n",
       "    <tr>\n",
       "      <th>38</th>\n",
       "      <td>0.798013</td>\n",
       "      <td>-0.059424</td>\n",
       "      <td>-0.287552</td>\n",
       "      <td>0.202814</td>\n",
       "    </tr>\n",
       "    <tr>\n",
       "      <th>39</th>\n",
       "      <td>0.200599</td>\n",
       "      <td>-0.854046</td>\n",
       "      <td>0.657007</td>\n",
       "      <td>-1.325841</td>\n",
       "    </tr>\n",
       "    <tr>\n",
       "      <th>40</th>\n",
       "      <td>0.840989</td>\n",
       "      <td>0.815435</td>\n",
       "      <td>-1.093338</td>\n",
       "      <td>-0.097608</td>\n",
       "    </tr>\n",
       "    <tr>\n",
       "      <th>55</th>\n",
       "      <td>0.585450</td>\n",
       "      <td>-0.780606</td>\n",
       "      <td>0.076710</td>\n",
       "      <td>-1.732150</td>\n",
       "    </tr>\n",
       "    <tr>\n",
       "      <th>56</th>\n",
       "      <td>0.666489</td>\n",
       "      <td>-0.271554</td>\n",
       "      <td>-0.189705</td>\n",
       "      <td>1.420916</td>\n",
       "    </tr>\n",
       "    <tr>\n",
       "      <th>57</th>\n",
       "      <td>1.209022</td>\n",
       "      <td>1.621435</td>\n",
       "      <td>1.371824</td>\n",
       "      <td>1.247801</td>\n",
       "    </tr>\n",
       "    <tr>\n",
       "      <th>58</th>\n",
       "      <td>0.187194</td>\n",
       "      <td>1.394923</td>\n",
       "      <td>1.129562</td>\n",
       "      <td>-0.235603</td>\n",
       "    </tr>\n",
       "    <tr>\n",
       "      <th>59</th>\n",
       "      <td>1.732496</td>\n",
       "      <td>0.169720</td>\n",
       "      <td>-0.676698</td>\n",
       "      <td>1.008637</td>\n",
       "    </tr>\n",
       "    <tr>\n",
       "      <th>65</th>\n",
       "      <td>0.275208</td>\n",
       "      <td>1.024219</td>\n",
       "      <td>0.452849</td>\n",
       "      <td>0.757448</td>\n",
       "    </tr>\n",
       "    <tr>\n",
       "      <th>66</th>\n",
       "      <td>0.872049</td>\n",
       "      <td>-1.776226</td>\n",
       "      <td>1.811907</td>\n",
       "      <td>0.820232</td>\n",
       "    </tr>\n",
       "    <tr>\n",
       "      <th>67</th>\n",
       "      <td>1.423914</td>\n",
       "      <td>0.109174</td>\n",
       "      <td>1.794722</td>\n",
       "      <td>1.283392</td>\n",
       "    </tr>\n",
       "    <tr>\n",
       "      <th>68</th>\n",
       "      <td>1.491760</td>\n",
       "      <td>-1.304709</td>\n",
       "      <td>-0.842416</td>\n",
       "      <td>-0.959453</td>\n",
       "    </tr>\n",
       "    <tr>\n",
       "      <th>70</th>\n",
       "      <td>1.763160</td>\n",
       "      <td>0.897295</td>\n",
       "      <td>0.114292</td>\n",
       "      <td>0.012005</td>\n",
       "    </tr>\n",
       "    <tr>\n",
       "      <th>72</th>\n",
       "      <td>0.215086</td>\n",
       "      <td>-0.047135</td>\n",
       "      <td>-0.173511</td>\n",
       "      <td>0.030278</td>\n",
       "    </tr>\n",
       "    <tr>\n",
       "      <th>74</th>\n",
       "      <td>0.514769</td>\n",
       "      <td>0.297702</td>\n",
       "      <td>0.200287</td>\n",
       "      <td>1.111143</td>\n",
       "    </tr>\n",
       "    <tr>\n",
       "      <th>76</th>\n",
       "      <td>1.063708</td>\n",
       "      <td>0.649123</td>\n",
       "      <td>-1.834716</td>\n",
       "      <td>-1.438720</td>\n",
       "    </tr>\n",
       "    <tr>\n",
       "      <th>77</th>\n",
       "      <td>0.134570</td>\n",
       "      <td>-1.470564</td>\n",
       "      <td>0.888105</td>\n",
       "      <td>0.878431</td>\n",
       "    </tr>\n",
       "    <tr>\n",
       "      <th>78</th>\n",
       "      <td>0.756737</td>\n",
       "      <td>-0.781125</td>\n",
       "      <td>-0.429401</td>\n",
       "      <td>-1.027867</td>\n",
       "    </tr>\n",
       "    <tr>\n",
       "      <th>83</th>\n",
       "      <td>0.535350</td>\n",
       "      <td>1.011784</td>\n",
       "      <td>-0.774278</td>\n",
       "      <td>-1.472242</td>\n",
       "    </tr>\n",
       "    <tr>\n",
       "      <th>84</th>\n",
       "      <td>0.885752</td>\n",
       "      <td>0.117140</td>\n",
       "      <td>-1.673529</td>\n",
       "      <td>-0.462761</td>\n",
       "    </tr>\n",
       "    <tr>\n",
       "      <th>88</th>\n",
       "      <td>0.317772</td>\n",
       "      <td>0.444891</td>\n",
       "      <td>1.004420</td>\n",
       "      <td>-0.687517</td>\n",
       "    </tr>\n",
       "    <tr>\n",
       "      <th>89</th>\n",
       "      <td>1.189945</td>\n",
       "      <td>-0.663718</td>\n",
       "      <td>-0.203158</td>\n",
       "      <td>-1.043514</td>\n",
       "    </tr>\n",
       "    <tr>\n",
       "      <th>91</th>\n",
       "      <td>0.684324</td>\n",
       "      <td>0.704299</td>\n",
       "      <td>-1.135362</td>\n",
       "      <td>-0.620382</td>\n",
       "    </tr>\n",
       "    <tr>\n",
       "      <th>92</th>\n",
       "      <td>0.437311</td>\n",
       "      <td>-1.909173</td>\n",
       "      <td>0.147226</td>\n",
       "      <td>0.200887</td>\n",
       "    </tr>\n",
       "    <tr>\n",
       "      <th>94</th>\n",
       "      <td>0.790474</td>\n",
       "      <td>-0.199975</td>\n",
       "      <td>1.978910</td>\n",
       "      <td>-0.527775</td>\n",
       "    </tr>\n",
       "    <tr>\n",
       "      <th>96</th>\n",
       "      <td>0.628829</td>\n",
       "      <td>0.550148</td>\n",
       "      <td>-1.016270</td>\n",
       "      <td>-0.413935</td>\n",
       "    </tr>\n",
       "    <tr>\n",
       "      <th>97</th>\n",
       "      <td>0.223733</td>\n",
       "      <td>-0.714509</td>\n",
       "      <td>0.693081</td>\n",
       "      <td>0.270794</td>\n",
       "    </tr>\n",
       "  </tbody>\n",
       "</table>\n",
       "</div>"
      ],
      "text/plain": [
       "           A         B         C         D\n",
       "0   0.468116  0.727914 -1.042124  1.532085\n",
       "4   0.639351 -1.504349  0.561449  1.120917\n",
       "5   1.139319  0.880233 -2.121008  0.094869\n",
       "7   1.797316  1.320260  0.842888  1.640422\n",
       "8   0.896035 -0.302972 -1.283640  0.478745\n",
       "10  0.339444 -0.522488 -0.249035  1.732643\n",
       "12  0.421559  1.829282 -0.465249 -0.419592\n",
       "13  0.863134  0.221408 -0.512303  0.561401\n",
       "15  0.456254 -0.270838  1.865521 -0.635997\n",
       "16  0.585512 -0.521221  1.415940  0.057755\n",
       "18  1.254958 -0.086674  0.666108 -0.179936\n",
       "19  0.172150  0.614698  0.285030  1.125211\n",
       "22  0.904440  1.031435 -1.402701  2.258773\n",
       "24  0.498638  0.394398  0.346137 -0.635885\n",
       "29  0.969078  0.416639 -1.056063 -0.478506\n",
       "30  0.282493  1.371601  0.033436  0.731605\n",
       "33  0.617111  0.244328 -0.713104  1.511324\n",
       "34  0.781663 -0.240414 -1.095982  1.656772\n",
       "38  0.798013 -0.059424 -0.287552  0.202814\n",
       "39  0.200599 -0.854046  0.657007 -1.325841\n",
       "40  0.840989  0.815435 -1.093338 -0.097608\n",
       "55  0.585450 -0.780606  0.076710 -1.732150\n",
       "56  0.666489 -0.271554 -0.189705  1.420916\n",
       "57  1.209022  1.621435  1.371824  1.247801\n",
       "58  0.187194  1.394923  1.129562 -0.235603\n",
       "59  1.732496  0.169720 -0.676698  1.008637\n",
       "65  0.275208  1.024219  0.452849  0.757448\n",
       "66  0.872049 -1.776226  1.811907  0.820232\n",
       "67  1.423914  0.109174  1.794722  1.283392\n",
       "68  1.491760 -1.304709 -0.842416 -0.959453\n",
       "70  1.763160  0.897295  0.114292  0.012005\n",
       "72  0.215086 -0.047135 -0.173511  0.030278\n",
       "74  0.514769  0.297702  0.200287  1.111143\n",
       "76  1.063708  0.649123 -1.834716 -1.438720\n",
       "77  0.134570 -1.470564  0.888105  0.878431\n",
       "78  0.756737 -0.781125 -0.429401 -1.027867\n",
       "83  0.535350  1.011784 -0.774278 -1.472242\n",
       "84  0.885752  0.117140 -1.673529 -0.462761\n",
       "88  0.317772  0.444891  1.004420 -0.687517\n",
       "89  1.189945 -0.663718 -0.203158 -1.043514\n",
       "91  0.684324  0.704299 -1.135362 -0.620382\n",
       "92  0.437311 -1.909173  0.147226  0.200887\n",
       "94  0.790474 -0.199975  1.978910 -0.527775\n",
       "96  0.628829  0.550148 -1.016270 -0.413935\n",
       "97  0.223733 -0.714509  0.693081  0.270794"
      ]
     },
     "execution_count": 24,
     "metadata": {},
     "output_type": "execute_result"
    }
   ],
   "source": [
    "df[ df.A > 0 ]"
   ]
  },
  {
   "cell_type": "code",
   "execution_count": 25,
   "metadata": {},
   "outputs": [
    {
     "data": {
      "text/html": [
       "<div>\n",
       "<style scoped>\n",
       "    .dataframe tbody tr th:only-of-type {\n",
       "        vertical-align: middle;\n",
       "    }\n",
       "\n",
       "    .dataframe tbody tr th {\n",
       "        vertical-align: top;\n",
       "    }\n",
       "\n",
       "    .dataframe thead th {\n",
       "        text-align: right;\n",
       "    }\n",
       "</style>\n",
       "<table border=\"1\" class=\"dataframe\">\n",
       "  <thead>\n",
       "    <tr style=\"text-align: right;\">\n",
       "      <th></th>\n",
       "      <th>A</th>\n",
       "      <th>B</th>\n",
       "      <th>C</th>\n",
       "      <th>D</th>\n",
       "    </tr>\n",
       "  </thead>\n",
       "  <tbody>\n",
       "    <tr>\n",
       "      <th>0</th>\n",
       "      <td>0.468116</td>\n",
       "      <td>0.727914</td>\n",
       "      <td>-1.042124</td>\n",
       "      <td>1.532085</td>\n",
       "    </tr>\n",
       "    <tr>\n",
       "      <th>4</th>\n",
       "      <td>0.639351</td>\n",
       "      <td>-1.504349</td>\n",
       "      <td>0.561449</td>\n",
       "      <td>1.120917</td>\n",
       "    </tr>\n",
       "    <tr>\n",
       "      <th>5</th>\n",
       "      <td>1.139319</td>\n",
       "      <td>0.880233</td>\n",
       "      <td>-2.121008</td>\n",
       "      <td>0.094869</td>\n",
       "    </tr>\n",
       "    <tr>\n",
       "      <th>7</th>\n",
       "      <td>1.797316</td>\n",
       "      <td>1.320260</td>\n",
       "      <td>0.842888</td>\n",
       "      <td>1.640422</td>\n",
       "    </tr>\n",
       "    <tr>\n",
       "      <th>8</th>\n",
       "      <td>0.896035</td>\n",
       "      <td>-0.302972</td>\n",
       "      <td>-1.283640</td>\n",
       "      <td>0.478745</td>\n",
       "    </tr>\n",
       "    <tr>\n",
       "      <th>10</th>\n",
       "      <td>0.339444</td>\n",
       "      <td>-0.522488</td>\n",
       "      <td>-0.249035</td>\n",
       "      <td>1.732643</td>\n",
       "    </tr>\n",
       "    <tr>\n",
       "      <th>12</th>\n",
       "      <td>0.421559</td>\n",
       "      <td>1.829282</td>\n",
       "      <td>-0.465249</td>\n",
       "      <td>-0.419592</td>\n",
       "    </tr>\n",
       "    <tr>\n",
       "      <th>13</th>\n",
       "      <td>0.863134</td>\n",
       "      <td>0.221408</td>\n",
       "      <td>-0.512303</td>\n",
       "      <td>0.561401</td>\n",
       "    </tr>\n",
       "    <tr>\n",
       "      <th>15</th>\n",
       "      <td>0.456254</td>\n",
       "      <td>-0.270838</td>\n",
       "      <td>1.865521</td>\n",
       "      <td>-0.635997</td>\n",
       "    </tr>\n",
       "    <tr>\n",
       "      <th>16</th>\n",
       "      <td>0.585512</td>\n",
       "      <td>-0.521221</td>\n",
       "      <td>1.415940</td>\n",
       "      <td>0.057755</td>\n",
       "    </tr>\n",
       "    <tr>\n",
       "      <th>18</th>\n",
       "      <td>1.254958</td>\n",
       "      <td>-0.086674</td>\n",
       "      <td>0.666108</td>\n",
       "      <td>-0.179936</td>\n",
       "    </tr>\n",
       "    <tr>\n",
       "      <th>19</th>\n",
       "      <td>0.172150</td>\n",
       "      <td>0.614698</td>\n",
       "      <td>0.285030</td>\n",
       "      <td>1.125211</td>\n",
       "    </tr>\n",
       "    <tr>\n",
       "      <th>22</th>\n",
       "      <td>0.904440</td>\n",
       "      <td>1.031435</td>\n",
       "      <td>-1.402701</td>\n",
       "      <td>2.258773</td>\n",
       "    </tr>\n",
       "    <tr>\n",
       "      <th>24</th>\n",
       "      <td>0.498638</td>\n",
       "      <td>0.394398</td>\n",
       "      <td>0.346137</td>\n",
       "      <td>-0.635885</td>\n",
       "    </tr>\n",
       "    <tr>\n",
       "      <th>29</th>\n",
       "      <td>0.969078</td>\n",
       "      <td>0.416639</td>\n",
       "      <td>-1.056063</td>\n",
       "      <td>-0.478506</td>\n",
       "    </tr>\n",
       "    <tr>\n",
       "      <th>30</th>\n",
       "      <td>0.282493</td>\n",
       "      <td>1.371601</td>\n",
       "      <td>0.033436</td>\n",
       "      <td>0.731605</td>\n",
       "    </tr>\n",
       "    <tr>\n",
       "      <th>33</th>\n",
       "      <td>0.617111</td>\n",
       "      <td>0.244328</td>\n",
       "      <td>-0.713104</td>\n",
       "      <td>1.511324</td>\n",
       "    </tr>\n",
       "    <tr>\n",
       "      <th>34</th>\n",
       "      <td>0.781663</td>\n",
       "      <td>-0.240414</td>\n",
       "      <td>-1.095982</td>\n",
       "      <td>1.656772</td>\n",
       "    </tr>\n",
       "    <tr>\n",
       "      <th>38</th>\n",
       "      <td>0.798013</td>\n",
       "      <td>-0.059424</td>\n",
       "      <td>-0.287552</td>\n",
       "      <td>0.202814</td>\n",
       "    </tr>\n",
       "    <tr>\n",
       "      <th>39</th>\n",
       "      <td>0.200599</td>\n",
       "      <td>-0.854046</td>\n",
       "      <td>0.657007</td>\n",
       "      <td>-1.325841</td>\n",
       "    </tr>\n",
       "    <tr>\n",
       "      <th>40</th>\n",
       "      <td>0.840989</td>\n",
       "      <td>0.815435</td>\n",
       "      <td>-1.093338</td>\n",
       "      <td>-0.097608</td>\n",
       "    </tr>\n",
       "    <tr>\n",
       "      <th>55</th>\n",
       "      <td>0.585450</td>\n",
       "      <td>-0.780606</td>\n",
       "      <td>0.076710</td>\n",
       "      <td>-1.732150</td>\n",
       "    </tr>\n",
       "    <tr>\n",
       "      <th>56</th>\n",
       "      <td>0.666489</td>\n",
       "      <td>-0.271554</td>\n",
       "      <td>-0.189705</td>\n",
       "      <td>1.420916</td>\n",
       "    </tr>\n",
       "    <tr>\n",
       "      <th>57</th>\n",
       "      <td>1.209022</td>\n",
       "      <td>1.621435</td>\n",
       "      <td>1.371824</td>\n",
       "      <td>1.247801</td>\n",
       "    </tr>\n",
       "    <tr>\n",
       "      <th>58</th>\n",
       "      <td>0.187194</td>\n",
       "      <td>1.394923</td>\n",
       "      <td>1.129562</td>\n",
       "      <td>-0.235603</td>\n",
       "    </tr>\n",
       "    <tr>\n",
       "      <th>59</th>\n",
       "      <td>1.732496</td>\n",
       "      <td>0.169720</td>\n",
       "      <td>-0.676698</td>\n",
       "      <td>1.008637</td>\n",
       "    </tr>\n",
       "    <tr>\n",
       "      <th>65</th>\n",
       "      <td>0.275208</td>\n",
       "      <td>1.024219</td>\n",
       "      <td>0.452849</td>\n",
       "      <td>0.757448</td>\n",
       "    </tr>\n",
       "    <tr>\n",
       "      <th>66</th>\n",
       "      <td>0.872049</td>\n",
       "      <td>-1.776226</td>\n",
       "      <td>1.811907</td>\n",
       "      <td>0.820232</td>\n",
       "    </tr>\n",
       "    <tr>\n",
       "      <th>67</th>\n",
       "      <td>1.423914</td>\n",
       "      <td>0.109174</td>\n",
       "      <td>1.794722</td>\n",
       "      <td>1.283392</td>\n",
       "    </tr>\n",
       "    <tr>\n",
       "      <th>68</th>\n",
       "      <td>1.491760</td>\n",
       "      <td>-1.304709</td>\n",
       "      <td>-0.842416</td>\n",
       "      <td>-0.959453</td>\n",
       "    </tr>\n",
       "    <tr>\n",
       "      <th>70</th>\n",
       "      <td>1.763160</td>\n",
       "      <td>0.897295</td>\n",
       "      <td>0.114292</td>\n",
       "      <td>0.012005</td>\n",
       "    </tr>\n",
       "    <tr>\n",
       "      <th>72</th>\n",
       "      <td>0.215086</td>\n",
       "      <td>-0.047135</td>\n",
       "      <td>-0.173511</td>\n",
       "      <td>0.030278</td>\n",
       "    </tr>\n",
       "    <tr>\n",
       "      <th>74</th>\n",
       "      <td>0.514769</td>\n",
       "      <td>0.297702</td>\n",
       "      <td>0.200287</td>\n",
       "      <td>1.111143</td>\n",
       "    </tr>\n",
       "    <tr>\n",
       "      <th>76</th>\n",
       "      <td>1.063708</td>\n",
       "      <td>0.649123</td>\n",
       "      <td>-1.834716</td>\n",
       "      <td>-1.438720</td>\n",
       "    </tr>\n",
       "    <tr>\n",
       "      <th>77</th>\n",
       "      <td>0.134570</td>\n",
       "      <td>-1.470564</td>\n",
       "      <td>0.888105</td>\n",
       "      <td>0.878431</td>\n",
       "    </tr>\n",
       "    <tr>\n",
       "      <th>78</th>\n",
       "      <td>0.756737</td>\n",
       "      <td>-0.781125</td>\n",
       "      <td>-0.429401</td>\n",
       "      <td>-1.027867</td>\n",
       "    </tr>\n",
       "    <tr>\n",
       "      <th>83</th>\n",
       "      <td>0.535350</td>\n",
       "      <td>1.011784</td>\n",
       "      <td>-0.774278</td>\n",
       "      <td>-1.472242</td>\n",
       "    </tr>\n",
       "    <tr>\n",
       "      <th>84</th>\n",
       "      <td>0.885752</td>\n",
       "      <td>0.117140</td>\n",
       "      <td>-1.673529</td>\n",
       "      <td>-0.462761</td>\n",
       "    </tr>\n",
       "    <tr>\n",
       "      <th>88</th>\n",
       "      <td>0.317772</td>\n",
       "      <td>0.444891</td>\n",
       "      <td>1.004420</td>\n",
       "      <td>-0.687517</td>\n",
       "    </tr>\n",
       "    <tr>\n",
       "      <th>89</th>\n",
       "      <td>1.189945</td>\n",
       "      <td>-0.663718</td>\n",
       "      <td>-0.203158</td>\n",
       "      <td>-1.043514</td>\n",
       "    </tr>\n",
       "    <tr>\n",
       "      <th>91</th>\n",
       "      <td>0.684324</td>\n",
       "      <td>0.704299</td>\n",
       "      <td>-1.135362</td>\n",
       "      <td>-0.620382</td>\n",
       "    </tr>\n",
       "    <tr>\n",
       "      <th>92</th>\n",
       "      <td>0.437311</td>\n",
       "      <td>-1.909173</td>\n",
       "      <td>0.147226</td>\n",
       "      <td>0.200887</td>\n",
       "    </tr>\n",
       "    <tr>\n",
       "      <th>94</th>\n",
       "      <td>0.790474</td>\n",
       "      <td>-0.199975</td>\n",
       "      <td>1.978910</td>\n",
       "      <td>-0.527775</td>\n",
       "    </tr>\n",
       "    <tr>\n",
       "      <th>96</th>\n",
       "      <td>0.628829</td>\n",
       "      <td>0.550148</td>\n",
       "      <td>-1.016270</td>\n",
       "      <td>-0.413935</td>\n",
       "    </tr>\n",
       "    <tr>\n",
       "      <th>97</th>\n",
       "      <td>0.223733</td>\n",
       "      <td>-0.714509</td>\n",
       "      <td>0.693081</td>\n",
       "      <td>0.270794</td>\n",
       "    </tr>\n",
       "  </tbody>\n",
       "</table>\n",
       "</div>"
      ],
      "text/plain": [
       "           A         B         C         D\n",
       "0   0.468116  0.727914 -1.042124  1.532085\n",
       "4   0.639351 -1.504349  0.561449  1.120917\n",
       "5   1.139319  0.880233 -2.121008  0.094869\n",
       "7   1.797316  1.320260  0.842888  1.640422\n",
       "8   0.896035 -0.302972 -1.283640  0.478745\n",
       "10  0.339444 -0.522488 -0.249035  1.732643\n",
       "12  0.421559  1.829282 -0.465249 -0.419592\n",
       "13  0.863134  0.221408 -0.512303  0.561401\n",
       "15  0.456254 -0.270838  1.865521 -0.635997\n",
       "16  0.585512 -0.521221  1.415940  0.057755\n",
       "18  1.254958 -0.086674  0.666108 -0.179936\n",
       "19  0.172150  0.614698  0.285030  1.125211\n",
       "22  0.904440  1.031435 -1.402701  2.258773\n",
       "24  0.498638  0.394398  0.346137 -0.635885\n",
       "29  0.969078  0.416639 -1.056063 -0.478506\n",
       "30  0.282493  1.371601  0.033436  0.731605\n",
       "33  0.617111  0.244328 -0.713104  1.511324\n",
       "34  0.781663 -0.240414 -1.095982  1.656772\n",
       "38  0.798013 -0.059424 -0.287552  0.202814\n",
       "39  0.200599 -0.854046  0.657007 -1.325841\n",
       "40  0.840989  0.815435 -1.093338 -0.097608\n",
       "55  0.585450 -0.780606  0.076710 -1.732150\n",
       "56  0.666489 -0.271554 -0.189705  1.420916\n",
       "57  1.209022  1.621435  1.371824  1.247801\n",
       "58  0.187194  1.394923  1.129562 -0.235603\n",
       "59  1.732496  0.169720 -0.676698  1.008637\n",
       "65  0.275208  1.024219  0.452849  0.757448\n",
       "66  0.872049 -1.776226  1.811907  0.820232\n",
       "67  1.423914  0.109174  1.794722  1.283392\n",
       "68  1.491760 -1.304709 -0.842416 -0.959453\n",
       "70  1.763160  0.897295  0.114292  0.012005\n",
       "72  0.215086 -0.047135 -0.173511  0.030278\n",
       "74  0.514769  0.297702  0.200287  1.111143\n",
       "76  1.063708  0.649123 -1.834716 -1.438720\n",
       "77  0.134570 -1.470564  0.888105  0.878431\n",
       "78  0.756737 -0.781125 -0.429401 -1.027867\n",
       "83  0.535350  1.011784 -0.774278 -1.472242\n",
       "84  0.885752  0.117140 -1.673529 -0.462761\n",
       "88  0.317772  0.444891  1.004420 -0.687517\n",
       "89  1.189945 -0.663718 -0.203158 -1.043514\n",
       "91  0.684324  0.704299 -1.135362 -0.620382\n",
       "92  0.437311 -1.909173  0.147226  0.200887\n",
       "94  0.790474 -0.199975  1.978910 -0.527775\n",
       "96  0.628829  0.550148 -1.016270 -0.413935\n",
       "97  0.223733 -0.714509  0.693081  0.270794"
      ]
     },
     "execution_count": 25,
     "metadata": {},
     "output_type": "execute_result"
    }
   ],
   "source": [
    "df.query(' A > 0 ')"
   ]
  },
  {
   "cell_type": "code",
   "execution_count": 2,
   "metadata": {},
   "outputs": [],
   "source": [
    "import matplotlib.pyplot as plt\n",
    "import numpy as np"
   ]
  },
  {
   "cell_type": "markdown",
   "metadata": {},
   "source": [
    "`plt.plot([x coordinates], [y coordinates])`"
   ]
  },
  {
   "cell_type": "code",
   "execution_count": 3,
   "metadata": {
    "scrolled": false
   },
   "outputs": [
    {
     "data": {
      "text/plain": [
       "[<matplotlib.lines.Line2D at 0x7f975c9e70b8>]"
      ]
     },
     "execution_count": 3,
     "metadata": {},
     "output_type": "execute_result"
    },
    {
     "data": {
      "image/png": "[encoded data removed]",
      "text/plain": [
       "<Figure size 432x288 with 1 Axes>"
      ]
     },
     "metadata": {
      "image/png": {
       "height": 248,
       "width": 372
      }
     },
     "output_type": "display_data"
    }
   ],
   "source": [
    "x = np.linspace(-3,3,50)\n",
    "y = np.exp(-x**2)\n",
    "plt.plot(x, y)"
   ]
  },
  {
   "cell_type": "markdown",
   "metadata": {},
   "source": [
    "`plt.scatter(x, y)`"
   ]
  },
  {
   "cell_type": "code",
   "execution_count": 35,
   "metadata": {},
   "outputs": [
    {
     "data": {
      "text/plain": [
       "<matplotlib.collections.PathCollection at 0x7f3ead490358>"
      ]
     },
     "execution_count": 35,
     "metadata": {},
     "output_type": "execute_result"
    },
    {
     "data": {
      "image/png": "[encoded data removed]",
      "text/plain": [
       "<Figure size 432x288 with 1 Axes>"
      ]
     },
     "metadata": {
      "image/png": {
       "height": 248,
       "width": 372
      }
     },
     "output_type": "display_data"
    }
   ],
   "source": [
    "x = np.linspace(-3,3,50)\n",
    "y = np.exp(-x**2)\n",
    "plt.scatter(x, y)"
   ]
  },
  {
   "cell_type": "markdown",
   "metadata": {},
   "source": [
    "`plt.hist( [lots of samples] )`"
   ]
  },
  {
   "cell_type": "code",
   "execution_count": 42,
   "metadata": {
    "scrolled": true
   },
   "outputs": [
    {
     "data": {
      "text/plain": [
       "(array([  1.,   0.,   4.,   4.,   4.,  11.,  19.,  19.,  14.,  33.,  57.,\n",
       "         59.,  88., 116., 132., 193., 230., 276., 319., 387., 409., 444.,\n",
       "        464., 567., 576., 526., 579., 544., 527., 513., 454., 418., 412.,\n",
       "        305., 289., 237., 184., 138., 121.,  87.,  66.,  54.,  39.,  21.,\n",
       "         26.,  13.,   6.,   8.,   2.,   5.]),\n",
       " array([-3.69498765, -3.55372045, -3.41245325, -3.27118605, -3.12991885,\n",
       "        -2.98865165, -2.84738445, -2.70611725, -2.56485005, -2.42358285,\n",
       "        -2.28231565, -2.14104845, -1.99978125, -1.85851405, -1.71724685,\n",
       "        -1.57597965, -1.43471245, -1.29344525, -1.15217805, -1.01091085,\n",
       "        -0.86964365, -0.72837645, -0.58710925, -0.44584205, -0.30457485,\n",
       "        -0.16330765, -0.02204045,  0.11922675,  0.26049395,  0.40176115,\n",
       "         0.54302835,  0.68429555,  0.82556275,  0.96682995,  1.10809715,\n",
       "         1.24936435,  1.39063155,  1.53189875,  1.67316595,  1.81443314,\n",
       "         1.95570034,  2.09696754,  2.23823474,  2.37950194,  2.52076914,\n",
       "         2.66203634,  2.80330354,  2.94457074,  3.08583794,  3.22710514,\n",
       "         3.36837234]),\n",
       " <a list of 50 Patch objects>)"
      ]
     },
     "execution_count": 42,
     "metadata": {},
     "output_type": "execute_result"
    },
    {
     "data": {
      "image/png": "[encoded data removed]",
      "text/plain": [
       "<Figure size 432x288 with 1 Axes>"
      ]
     },
     "metadata": {
      "image/png": {
       "height": 249,
       "width": 375
      }
     },
     "output_type": "display_data"
    }
   ],
   "source": [
    "dist = np.random.randn(10000)\n",
    "plt.hist(dist, bins=50)"
   ]
  },
  {
   "cell_type": "code",
   "execution_count": 14,
   "metadata": {},
   "outputs": [
    {
     "data": {
      "text/plain": [
       "[<matplotlib.lines.Line2D at 0x7f9755dff6d8>]"
      ]
     },
     "execution_count": 14,
     "metadata": {},
     "output_type": "execute_result"
    },
    {
     "data": {
      "image/png": "[encoded data removed]",
      "text/plain": [
       "<Figure size 432x288 with 1 Axes>"
      ]
     },
     "metadata": {
      "image/png": {
       "height": 248,
       "width": 372
      }
     },
     "output_type": "display_data"
    }
   ],
   "source": [
    "plt.plot(x, y, 'mv:')"
   ]
  },
  {
   "cell_type": "markdown",
   "metadata": {},
   "source": [
    "Python: `datetime` and `dateutil`"
   ]
  },
  {
   "cell_type": "code",
   "execution_count": 1,
   "metadata": {},
   "outputs": [],
   "source": [
    "import datetime"
   ]
  },
  {
   "cell_type": "code",
   "execution_count": 5,
   "metadata": {},
   "outputs": [
    {
     "data": {
      "text/plain": [
       "datetime.datetime(2019, 10, 25, 0, 0)"
      ]
     },
     "execution_count": 5,
     "metadata": {},
     "output_type": "execute_result"
    }
   ],
   "source": [
    "some_day = datetime.datetime(year=2019, month=10, day=25)\n",
    "some_day"
   ]
  },
  {
   "cell_type": "code",
   "execution_count": 13,
   "metadata": {},
   "outputs": [],
   "source": [
    "some_diff = datetime.timedelta(10)"
   ]
  },
  {
   "cell_type": "code",
   "execution_count": 14,
   "metadata": {},
   "outputs": [
    {
     "data": {
      "text/plain": [
       "datetime.datetime(2019, 11, 4, 0, 0)"
      ]
     },
     "execution_count": 14,
     "metadata": {},
     "output_type": "execute_result"
    }
   ],
   "source": [
    "some_day + some_diff"
   ]
  },
  {
   "cell_type": "code",
   "execution_count": 20,
   "metadata": {},
   "outputs": [
    {
     "data": {
      "text/plain": [
       "'This is year 2019. Today it Oct 25th.'"
      ]
     },
     "execution_count": 20,
     "metadata": {},
     "output_type": "execute_result"
    }
   ],
   "source": [
    "some_day.strftime(\"This is year %Y. Today it %b %dth.\")"
   ]
  },
  {
   "cell_type": "code",
   "execution_count": 21,
   "metadata": {},
   "outputs": [],
   "source": [
    "import dateutil"
   ]
  },
  {
   "cell_type": "code",
   "execution_count": 22,
   "metadata": {},
   "outputs": [
    {
     "data": {
      "text/plain": [
       "datetime.datetime(2019, 10, 25, 0, 0)"
      ]
     },
     "execution_count": 22,
     "metadata": {},
     "output_type": "execute_result"
    }
   ],
   "source": [
    "dateutil.parser.parse('20191025')"
   ]
  },
  {
   "cell_type": "code",
   "execution_count": 23,
   "metadata": {},
   "outputs": [
    {
     "data": {
      "text/plain": [
       "datetime.datetime(2019, 10, 25, 0, 0)"
      ]
     },
     "execution_count": 23,
     "metadata": {},
     "output_type": "execute_result"
    }
   ],
   "source": [
    "dateutil.parser.parse('2019, October 25')"
   ]
  },
  {
   "cell_type": "code",
   "execution_count": 24,
   "metadata": {},
   "outputs": [
    {
     "data": {
      "text/plain": [
       "datetime.datetime(2019, 10, 25, 0, 0)"
      ]
     },
     "execution_count": 24,
     "metadata": {},
     "output_type": "execute_result"
    }
   ],
   "source": [
    "dateutil.parser.parse('Oct 25, 2019')"
   ]
  },
  {
   "cell_type": "code",
   "execution_count": 27,
   "metadata": {},
   "outputs": [
    {
     "data": {
      "text/plain": [
       "'Saturday'"
      ]
     },
     "execution_count": 27,
     "metadata": {},
     "output_type": "execute_result"
    }
   ],
   "source": [
    "birthday = dateutil.parser.parse('19870321')\n",
    "birthday.strftime(\"%A\")"
   ]
  },
  {
   "cell_type": "markdown",
   "metadata": {},
   "source": [
    "NumPy: `datetime64` and `timedelta64`"
   ]
  },
  {
   "cell_type": "code",
   "execution_count": 28,
   "metadata": {},
   "outputs": [],
   "source": [
    "import numpy as np"
   ]
  },
  {
   "cell_type": "code",
   "execution_count": 31,
   "metadata": {},
   "outputs": [
    {
     "data": {
      "text/plain": [
       "numpy.datetime64('2019-10-25')"
      ]
     },
     "execution_count": 31,
     "metadata": {},
     "output_type": "execute_result"
    }
   ],
   "source": [
    "some_day = np.datetime64('2019-10-25')\n",
    "some_day"
   ]
  },
  {
   "cell_type": "code",
   "execution_count": 33,
   "metadata": {},
   "outputs": [],
   "source": [
    "some_diff = np.timedelta64(10)"
   ]
  },
  {
   "cell_type": "code",
   "execution_count": 34,
   "metadata": {},
   "outputs": [
    {
     "data": {
      "text/plain": [
       "numpy.datetime64('2019-11-04')"
      ]
     },
     "execution_count": 34,
     "metadata": {},
     "output_type": "execute_result"
    }
   ],
   "source": [
    "some_day + some_diff"
   ]
  },
  {
   "cell_type": "code",
   "execution_count": 36,
   "metadata": {},
   "outputs": [
    {
     "data": {
      "text/plain": [
       "array(['2019-10-25', '2019-10-26', '2019-10-27', '2019-10-28',\n",
       "       '2019-10-29', '2019-10-30', '2019-10-31', '2019-11-01',\n",
       "       '2019-11-02', '2019-11-03'], dtype='datetime64[D]')"
      ]
     },
     "execution_count": 36,
     "metadata": {},
     "output_type": "execute_result"
    }
   ],
   "source": [
    "some_day + np.arange(10)"
   ]
  },
  {
   "cell_type": "markdown",
   "metadata": {},
   "source": [
    "pandas: `to_datetime`, `to_timedelta`, and `date_range`"
   ]
  },
  {
   "cell_type": "code",
   "execution_count": 38,
   "metadata": {},
   "outputs": [],
   "source": [
    "import pandas as pd"
   ]
  },
  {
   "cell_type": "code",
   "execution_count": 50,
   "metadata": {},
   "outputs": [
    {
     "data": {
      "text/plain": [
       "Timestamp('2019-10-25 00:00:00')"
      ]
     },
     "execution_count": 50,
     "metadata": {},
     "output_type": "execute_result"
    }
   ],
   "source": [
    "some_day = pd.to_datetime('2019, October 25')\n",
    "some_day"
   ]
  },
  {
   "cell_type": "code",
   "execution_count": 51,
   "metadata": {},
   "outputs": [
    {
     "data": {
      "text/plain": [
       "Timedelta('10 days 00:00:00')"
      ]
     },
     "execution_count": 51,
     "metadata": {},
     "output_type": "execute_result"
    }
   ],
   "source": [
    "some_diff = pd.to_timedelta(10, unit='D')\n",
    "some_diff"
   ]
  },
  {
   "cell_type": "code",
   "execution_count": 52,
   "metadata": {},
   "outputs": [
    {
     "data": {
      "text/plain": [
       "Timestamp('2019-11-04 00:00:00')"
      ]
     },
     "execution_count": 52,
     "metadata": {},
     "output_type": "execute_result"
    }
   ],
   "source": [
    "some_day + some_diff"
   ]
  },
  {
   "cell_type": "code",
   "execution_count": 54,
   "metadata": {},
   "outputs": [
    {
     "data": {
      "text/plain": [
       "0    2019-10-25\n",
       "1    2019-11-25\n",
       "2    2019-12-25\n",
       "3    2020-01-25\n",
       "dtype: object"
      ]
     },
     "execution_count": 54,
     "metadata": {},
     "output_type": "execute_result"
    }
   ],
   "source": [
    "s = pd.Series(['2019-10-25',\n",
    "          '2019-11-25',\n",
    "          '2019-12-25',\n",
    "          '2020-01-25',])\n",
    "s"
   ]
  },
  {
   "cell_type": "code",
   "execution_count": 55,
   "metadata": {},
   "outputs": [
    {
     "data": {
      "text/plain": [
       "0   2019-10-25\n",
       "1   2019-11-25\n",
       "2   2019-12-25\n",
       "3   2020-01-25\n",
       "dtype: datetime64[ns]"
      ]
     },
     "execution_count": 55,
     "metadata": {},
     "output_type": "execute_result"
    }
   ],
   "source": [
    "pd.to_datetime(s)"
   ]
  },
  {
   "cell_type": "code",
   "execution_count": 60,
   "metadata": {},
   "outputs": [
    {
     "data": {
      "text/plain": [
       "DatetimeIndex(['2019-10-25', '2019-10-26', '2019-10-27', '2019-10-28',\n",
       "               '2019-10-29', '2019-10-30', '2019-10-31', '2019-11-01',\n",
       "               '2019-11-02', '2019-11-03'],\n",
       "              dtype='datetime64[ns]', freq='D')"
      ]
     },
     "execution_count": 60,
     "metadata": {},
     "output_type": "execute_result"
    }
   ],
   "source": [
    "dates = pd.date_range('2019-10-25', '2019-11-3')\n",
    "dates"
   ]
  },
  {
   "cell_type": "code",
   "execution_count": 59,
   "metadata": {},
   "outputs": [
    {
     "data": {
      "text/plain": [
       "array([199.72308245, 199.4599729 , 202.23199534, 203.29783557,\n",
       "       204.55714551, 205.44289119, 206.48126413, 206.01631446,\n",
       "       208.76229724, 207.70662129])"
      ]
     },
     "execution_count": 59,
     "metadata": {},
     "output_type": "execute_result"
    }
   ],
   "source": [
    "prices = 200 + np.arange(10) + np.random.randn(10)\n",
    "prices"
   ]
  },
  {
   "cell_type": "code",
   "execution_count": 62,
   "metadata": {},
   "outputs": [
    {
     "data": {
      "text/plain": [
       "2019-10-25    199.723082\n",
       "2019-10-26    199.459973\n",
       "2019-10-27    202.231995\n",
       "2019-10-28    203.297836\n",
       "2019-10-29    204.557146\n",
       "2019-10-30    205.442891\n",
       "2019-10-31    206.481264\n",
       "2019-11-01    206.016314\n",
       "2019-11-02    208.762297\n",
       "2019-11-03    207.706621\n",
       "Freq: D, dtype: float64"
      ]
     },
     "execution_count": 62,
     "metadata": {},
     "output_type": "execute_result"
    }
   ],
   "source": [
    "s = pd.Series(prices, \n",
    "             index=dates)\n",
    "s"
   ]
  },
  {
   "cell_type": "code",
   "execution_count": null,
   "metadata": {},
   "outputs": [],
   "source": [
    "s.plot()"
   ]
  },
  {
   "cell_type": "code",
   "execution_count": 64,
   "metadata": {},
   "outputs": [
    {
     "data": {
      "text/plain": [
       "199.7230824473618"
      ]
     },
     "execution_count": 64,
     "metadata": {},
     "output_type": "execute_result"
    }
   ],
   "source": [
    "s['2019-10-25']"
   ]
  },
  {
   "cell_type": "code",
   "execution_count": 65,
   "metadata": {},
   "outputs": [
    {
     "data": {
      "text/plain": [
       "2019-10-28    203.297836\n",
       "2019-10-29    204.557146\n",
       "2019-10-30    205.442891\n",
       "2019-10-31    206.481264\n",
       "2019-11-01    206.016314\n",
       "Freq: D, dtype: float64"
      ]
     },
     "execution_count": 65,
     "metadata": {},
     "output_type": "execute_result"
    }
   ],
   "source": [
    "s['2019-10-28':'2019-11-01']"
   ]
  },
  {
   "cell_type": "code",
   "execution_count": 66,
   "metadata": {},
   "outputs": [
    {
     "data": {
      "text/plain": [
       "2019-10-25    199.723082\n",
       "2019-10-26    199.459973\n",
       "2019-10-27    202.231995\n",
       "2019-10-28    203.297836\n",
       "2019-10-29    204.557146\n",
       "2019-10-30    205.442891\n",
       "2019-10-31    206.481264\n",
       "Freq: D, dtype: float64"
      ]
     },
     "execution_count": 66,
     "metadata": {},
     "output_type": "execute_result"
    }
   ],
   "source": [
    "s['2019-10']"
   ]
  },
  {
   "cell_type": "code",
   "execution_count": 68,
   "metadata": {},
   "outputs": [
    {
     "data": {
      "text/plain": [
       "Index(['Friday', 'Saturday', 'Sunday', 'Monday', 'Tuesday', 'Wednesday',\n",
       "       'Thursday', 'Friday', 'Saturday', 'Sunday'],\n",
       "      dtype='object')"
      ]
     },
     "execution_count": 68,
     "metadata": {},
     "output_type": "execute_result"
    }
   ],
   "source": [
    "s.index.strftime('%A')"
   ]
  },
  {
   "cell_type": "code",
   "execution_count": 70,
   "metadata": {},
   "outputs": [
    {
     "data": {
      "text/plain": [
       "2019-10-25       Friday\n",
       "2019-10-26     Saturday\n",
       "2019-10-27       Sunday\n",
       "2019-10-28       Monday\n",
       "2019-10-29      Tuesday\n",
       "2019-10-30    Wednesday\n",
       "2019-10-31     Thursday\n",
       "2019-11-01       Friday\n",
       "2019-11-02     Saturday\n",
       "2019-11-03       Sunday\n",
       "Freq: D, dtype: object"
      ]
     },
     "execution_count": 70,
     "metadata": {},
     "output_type": "execute_result"
    }
   ],
   "source": [
    "new_s = pd.Series(s.index.strftime('%A'), \n",
    "                 index=dates)\n",
    "new_s"
   ]
  },
  {
   "cell_type": "code",
   "execution_count": 1,
   "metadata": {},
   "outputs": [],
   "source": [
    "import numpy as np\n",
    "import pandas as pd"
   ]
  },
  {
   "cell_type": "code",
   "execution_count": 2,
   "metadata": {},
   "outputs": [],
   "source": [
    "df1 = pd.DataFrame(np.random.randn(100000,100))\n",
    "df2 = pd.DataFrame(np.random.randn(100000,100))\n",
    "df3 = pd.DataFrame(np.random.randn(100000,100))\n",
    "df4 = pd.DataFrame(np.random.randn(100000,100))"
   ]
  },
  {
   "cell_type": "code",
   "execution_count": 4,
   "metadata": {},
   "outputs": [
    {
     "name": "stdout",
     "output_type": "stream",
     "text": [
      "1 loop, best of 3: 139 ms per loop\n"
     ]
    }
   ],
   "source": [
    "%%timeit\n",
    "\n",
    "df1 + df2 + df3 + df4"
   ]
  },
  {
   "cell_type": "code",
   "execution_count": null,
   "metadata": {},
   "outputs": [],
   "source": [
    "tem1 = df1 + df2\n",
    "tem2 = tem1 + df3\n",
    "tem3 = tem2 + df4\n",
    "### create three extra dataframes"
   ]
  },
  {
   "cell_type": "code",
   "execution_count": 6,
   "metadata": {},
   "outputs": [
    {
     "name": "stdout",
     "output_type": "stream",
     "text": [
      "10 loops, best of 3: 138 ms per loop\n"
     ]
    }
   ],
   "source": [
    "%%timeit\n",
    "\n",
    "pd.eval('df1 + df2 + df3 + df4')\n",
    "### directly create tem3"
   ]
  },
  {
   "cell_type": "markdown",
   "metadata": {},
   "source": [
    "`+`, `-`, and all kinds of operations"
   ]
  },
  {
   "cell_type": "code",
   "execution_count": 8,
   "metadata": {},
   "outputs": [
    {
     "data": {
      "text/html": [
       "<div>\n",
       "<style scoped>\n",
       "    .dataframe tbody tr th:only-of-type {\n",
       "        vertical-align: middle;\n",
       "    }\n",
       "\n",
       "    .dataframe tbody tr th {\n",
       "        vertical-align: top;\n",
       "    }\n",
       "\n",
       "    .dataframe thead th {\n",
       "        text-align: right;\n",
       "    }\n",
       "</style>\n",
       "<table border=\"1\" class=\"dataframe\">\n",
       "  <thead>\n",
       "    <tr style=\"text-align: right;\">\n",
       "      <th></th>\n",
       "      <th>A</th>\n",
       "      <th>B</th>\n",
       "      <th>C</th>\n",
       "      <th>D</th>\n",
       "    </tr>\n",
       "  </thead>\n",
       "  <tbody>\n",
       "    <tr>\n",
       "      <th>0</th>\n",
       "      <td>-0.639242</td>\n",
       "      <td>2.337191</td>\n",
       "      <td>-0.400065</td>\n",
       "      <td>0.266330</td>\n",
       "    </tr>\n",
       "    <tr>\n",
       "      <th>1</th>\n",
       "      <td>0.591316</td>\n",
       "      <td>0.080931</td>\n",
       "      <td>1.103469</td>\n",
       "      <td>0.283673</td>\n",
       "    </tr>\n",
       "    <tr>\n",
       "      <th>2</th>\n",
       "      <td>0.540553</td>\n",
       "      <td>0.080861</td>\n",
       "      <td>0.018719</td>\n",
       "      <td>0.709229</td>\n",
       "    </tr>\n",
       "    <tr>\n",
       "      <th>3</th>\n",
       "      <td>-0.239308</td>\n",
       "      <td>-0.803219</td>\n",
       "      <td>-1.308761</td>\n",
       "      <td>0.578809</td>\n",
       "    </tr>\n",
       "    <tr>\n",
       "      <th>4</th>\n",
       "      <td>2.464077</td>\n",
       "      <td>1.018815</td>\n",
       "      <td>-0.048092</td>\n",
       "      <td>-0.104020</td>\n",
       "    </tr>\n",
       "  </tbody>\n",
       "</table>\n",
       "</div>"
      ],
      "text/plain": [
       "          A         B         C         D\n",
       "0 -0.639242  2.337191 -0.400065  0.266330\n",
       "1  0.591316  0.080931  1.103469  0.283673\n",
       "2  0.540553  0.080861  0.018719  0.709229\n",
       "3 -0.239308 -0.803219 -1.308761  0.578809\n",
       "4  2.464077  1.018815 -0.048092 -0.104020"
      ]
     },
     "execution_count": 8,
     "metadata": {},
     "output_type": "execute_result"
    }
   ],
   "source": [
    "df = pd.DataFrame(np.random.randn(100,4), \n",
    "                 columns=list('ABCD'))\n",
    "df.head()"
   ]
  },
  {
   "cell_type": "code",
   "execution_count": 9,
   "metadata": {},
   "outputs": [
    {
     "data": {
      "text/plain": [
       "0    -0.639242\n",
       "1     0.591316\n",
       "2     0.540553\n",
       "3    -0.239308\n",
       "4     2.464077\n",
       "        ...   \n",
       "95    0.928807\n",
       "96   -0.570406\n",
       "97   -1.384845\n",
       "98   -1.163224\n",
       "99   -0.200561\n",
       "Name: A, Length: 100, dtype: float64"
      ]
     },
     "execution_count": 9,
     "metadata": {},
     "output_type": "execute_result"
    }
   ],
   "source": [
    "df['A']"
   ]
  },
  {
   "cell_type": "code",
   "execution_count": 11,
   "metadata": {},
   "outputs": [
    {
     "data": {
      "text/plain": [
       "0    -0.639242\n",
       "1     0.591316\n",
       "2     0.540553\n",
       "3    -0.239308\n",
       "4     2.464077\n",
       "        ...   \n",
       "95    0.928807\n",
       "96   -0.570406\n",
       "97   -1.384845\n",
       "98   -1.163224\n",
       "99   -0.200561\n",
       "Name: A, Length: 100, dtype: float64"
      ]
     },
     "execution_count": 11,
     "metadata": {},
     "output_type": "execute_result"
    }
   ],
   "source": [
    "df.A ### it does not contain the quotation marks"
   ]
  },
  {
   "cell_type": "code",
   "execution_count": 12,
   "metadata": {},
   "outputs": [
    {
     "data": {
      "text/plain": [
       "0     1.564215\n",
       "1     2.059390\n",
       "2     1.349361\n",
       "3    -1.772479\n",
       "4     3.330779\n",
       "        ...   \n",
       "95    2.171100\n",
       "96    0.849502\n",
       "97   -2.069990\n",
       "98   -4.580436\n",
       "99   -3.157705\n",
       "Length: 100, dtype: float64"
      ]
     },
     "execution_count": 12,
     "metadata": {},
     "output_type": "execute_result"
    }
   ],
   "source": [
    "df.A + df.B + df.C + df.D"
   ]
  },
  {
   "cell_type": "code",
   "execution_count": 13,
   "metadata": {},
   "outputs": [
    {
     "data": {
      "text/plain": [
       "0     1.564215\n",
       "1     2.059390\n",
       "2     1.349361\n",
       "3    -1.772479\n",
       "4     3.330779\n",
       "        ...   \n",
       "95    2.171100\n",
       "96    0.849502\n",
       "97   -2.069990\n",
       "98   -4.580436\n",
       "99   -3.157705\n",
       "Length: 100, dtype: float64"
      ]
     },
     "execution_count": 13,
     "metadata": {},
     "output_type": "execute_result"
    }
   ],
   "source": [
    "pd.eval(' df.A + df.B + df.C + df.D ')"
   ]
  },
  {
   "cell_type": "markdown",
   "metadata": {},
   "source": [
    "`eval` on DataFrame"
   ]
  },
  {
   "cell_type": "code",
   "execution_count": 15,
   "metadata": {},
   "outputs": [
    {
     "data": {
      "text/plain": [
       "0     1.564215\n",
       "1     2.059390\n",
       "2     1.349361\n",
       "3    -1.772479\n",
       "4     3.330779\n",
       "        ...   \n",
       "95    2.171100\n",
       "96    0.849502\n",
       "97   -2.069990\n",
       "98   -4.580436\n",
       "99   -3.157705\n",
       "Length: 100, dtype: float64"
      ]
     },
     "execution_count": 15,
     "metadata": {},
     "output_type": "execute_result"
    }
   ],
   "source": [
    "df.eval(' A + B + C + D ')"
   ]
  },
  {
   "cell_type": "markdown",
   "metadata": {},
   "source": [
    "`pandas.eval( command )`  \n",
    "`DataFrame.eval( command under this df )`  \n",
    "`DataFrame.query( criteria )`"
   ]
  },
  {
   "cell_type": "code",
   "execution_count": 19,
   "metadata": {
    "scrolled": true
   },
   "outputs": [
    {
     "data": {
      "text/html": [
       "<div>\n",
       "<style scoped>\n",
       "    .dataframe tbody tr th:only-of-type {\n",
       "        vertical-align: middle;\n",
       "    }\n",
       "\n",
       "    .dataframe tbody tr th {\n",
       "        vertical-align: top;\n",
       "    }\n",
       "\n",
       "    .dataframe thead th {\n",
       "        text-align: right;\n",
       "    }\n",
       "</style>\n",
       "<table border=\"1\" class=\"dataframe\">\n",
       "  <thead>\n",
       "    <tr style=\"text-align: right;\">\n",
       "      <th></th>\n",
       "      <th>A</th>\n",
       "      <th>B</th>\n",
       "      <th>C</th>\n",
       "      <th>D</th>\n",
       "    </tr>\n",
       "  </thead>\n",
       "  <tbody>\n",
       "    <tr>\n",
       "      <th>1</th>\n",
       "      <td>0.591316</td>\n",
       "      <td>0.080931</td>\n",
       "      <td>1.103469</td>\n",
       "      <td>0.283673</td>\n",
       "    </tr>\n",
       "    <tr>\n",
       "      <th>2</th>\n",
       "      <td>0.540553</td>\n",
       "      <td>0.080861</td>\n",
       "      <td>0.018719</td>\n",
       "      <td>0.709229</td>\n",
       "    </tr>\n",
       "    <tr>\n",
       "      <th>4</th>\n",
       "      <td>2.464077</td>\n",
       "      <td>1.018815</td>\n",
       "      <td>-0.048092</td>\n",
       "      <td>-0.104020</td>\n",
       "    </tr>\n",
       "    <tr>\n",
       "      <th>5</th>\n",
       "      <td>0.324101</td>\n",
       "      <td>-0.957495</td>\n",
       "      <td>0.364678</td>\n",
       "      <td>0.541017</td>\n",
       "    </tr>\n",
       "    <tr>\n",
       "      <th>11</th>\n",
       "      <td>0.167346</td>\n",
       "      <td>0.975426</td>\n",
       "      <td>0.315874</td>\n",
       "      <td>1.140763</td>\n",
       "    </tr>\n",
       "    <tr>\n",
       "      <th>12</th>\n",
       "      <td>1.808612</td>\n",
       "      <td>-0.572140</td>\n",
       "      <td>-0.653436</td>\n",
       "      <td>-0.550473</td>\n",
       "    </tr>\n",
       "    <tr>\n",
       "      <th>14</th>\n",
       "      <td>0.512946</td>\n",
       "      <td>1.048871</td>\n",
       "      <td>-1.009565</td>\n",
       "      <td>-2.521926</td>\n",
       "    </tr>\n",
       "    <tr>\n",
       "      <th>18</th>\n",
       "      <td>1.081804</td>\n",
       "      <td>0.424640</td>\n",
       "      <td>0.293065</td>\n",
       "      <td>1.135852</td>\n",
       "    </tr>\n",
       "    <tr>\n",
       "      <th>19</th>\n",
       "      <td>1.062591</td>\n",
       "      <td>1.248521</td>\n",
       "      <td>-1.017524</td>\n",
       "      <td>0.470019</td>\n",
       "    </tr>\n",
       "    <tr>\n",
       "      <th>22</th>\n",
       "      <td>0.139304</td>\n",
       "      <td>1.357931</td>\n",
       "      <td>1.304929</td>\n",
       "      <td>-0.087977</td>\n",
       "    </tr>\n",
       "    <tr>\n",
       "      <th>23</th>\n",
       "      <td>1.615644</td>\n",
       "      <td>0.077580</td>\n",
       "      <td>1.764336</td>\n",
       "      <td>0.225050</td>\n",
       "    </tr>\n",
       "    <tr>\n",
       "      <th>24</th>\n",
       "      <td>0.111879</td>\n",
       "      <td>-1.415460</td>\n",
       "      <td>-1.635240</td>\n",
       "      <td>0.955284</td>\n",
       "    </tr>\n",
       "    <tr>\n",
       "      <th>28</th>\n",
       "      <td>0.305924</td>\n",
       "      <td>0.141213</td>\n",
       "      <td>0.982973</td>\n",
       "      <td>1.057886</td>\n",
       "    </tr>\n",
       "    <tr>\n",
       "      <th>29</th>\n",
       "      <td>0.223714</td>\n",
       "      <td>0.887254</td>\n",
       "      <td>0.242948</td>\n",
       "      <td>-0.959543</td>\n",
       "    </tr>\n",
       "    <tr>\n",
       "      <th>30</th>\n",
       "      <td>1.237302</td>\n",
       "      <td>-0.141058</td>\n",
       "      <td>-0.512992</td>\n",
       "      <td>0.910975</td>\n",
       "    </tr>\n",
       "    <tr>\n",
       "      <th>32</th>\n",
       "      <td>0.985943</td>\n",
       "      <td>1.293266</td>\n",
       "      <td>1.551506</td>\n",
       "      <td>0.875439</td>\n",
       "    </tr>\n",
       "    <tr>\n",
       "      <th>34</th>\n",
       "      <td>1.954834</td>\n",
       "      <td>-0.129059</td>\n",
       "      <td>0.421801</td>\n",
       "      <td>-0.573484</td>\n",
       "    </tr>\n",
       "    <tr>\n",
       "      <th>35</th>\n",
       "      <td>1.934591</td>\n",
       "      <td>0.242888</td>\n",
       "      <td>-0.620923</td>\n",
       "      <td>0.222378</td>\n",
       "    </tr>\n",
       "    <tr>\n",
       "      <th>36</th>\n",
       "      <td>2.261469</td>\n",
       "      <td>0.257627</td>\n",
       "      <td>-0.981967</td>\n",
       "      <td>-0.465670</td>\n",
       "    </tr>\n",
       "    <tr>\n",
       "      <th>41</th>\n",
       "      <td>0.210893</td>\n",
       "      <td>-0.365822</td>\n",
       "      <td>0.614050</td>\n",
       "      <td>1.445904</td>\n",
       "    </tr>\n",
       "    <tr>\n",
       "      <th>42</th>\n",
       "      <td>0.020350</td>\n",
       "      <td>-0.633353</td>\n",
       "      <td>-0.181135</td>\n",
       "      <td>-1.976453</td>\n",
       "    </tr>\n",
       "    <tr>\n",
       "      <th>44</th>\n",
       "      <td>1.318221</td>\n",
       "      <td>0.372016</td>\n",
       "      <td>0.143247</td>\n",
       "      <td>0.000283</td>\n",
       "    </tr>\n",
       "    <tr>\n",
       "      <th>45</th>\n",
       "      <td>0.530189</td>\n",
       "      <td>0.328609</td>\n",
       "      <td>-0.281519</td>\n",
       "      <td>1.292332</td>\n",
       "    </tr>\n",
       "    <tr>\n",
       "      <th>46</th>\n",
       "      <td>2.725359</td>\n",
       "      <td>-0.135701</td>\n",
       "      <td>-3.306916</td>\n",
       "      <td>-2.638342</td>\n",
       "    </tr>\n",
       "    <tr>\n",
       "      <th>47</th>\n",
       "      <td>0.018698</td>\n",
       "      <td>1.796555</td>\n",
       "      <td>0.153439</td>\n",
       "      <td>-1.536533</td>\n",
       "    </tr>\n",
       "    <tr>\n",
       "      <th>50</th>\n",
       "      <td>0.113863</td>\n",
       "      <td>-0.255066</td>\n",
       "      <td>-0.479676</td>\n",
       "      <td>-0.393080</td>\n",
       "    </tr>\n",
       "    <tr>\n",
       "      <th>52</th>\n",
       "      <td>0.740404</td>\n",
       "      <td>0.155994</td>\n",
       "      <td>1.141425</td>\n",
       "      <td>0.653500</td>\n",
       "    </tr>\n",
       "    <tr>\n",
       "      <th>54</th>\n",
       "      <td>0.780251</td>\n",
       "      <td>-1.523930</td>\n",
       "      <td>1.403066</td>\n",
       "      <td>-0.817715</td>\n",
       "    </tr>\n",
       "    <tr>\n",
       "      <th>56</th>\n",
       "      <td>1.878218</td>\n",
       "      <td>2.058111</td>\n",
       "      <td>-1.224440</td>\n",
       "      <td>-1.032457</td>\n",
       "    </tr>\n",
       "    <tr>\n",
       "      <th>58</th>\n",
       "      <td>0.298038</td>\n",
       "      <td>-0.555068</td>\n",
       "      <td>0.430534</td>\n",
       "      <td>0.207283</td>\n",
       "    </tr>\n",
       "    <tr>\n",
       "      <th>60</th>\n",
       "      <td>1.048583</td>\n",
       "      <td>-1.485589</td>\n",
       "      <td>-0.638913</td>\n",
       "      <td>-0.247869</td>\n",
       "    </tr>\n",
       "    <tr>\n",
       "      <th>63</th>\n",
       "      <td>0.262247</td>\n",
       "      <td>-0.525427</td>\n",
       "      <td>0.158541</td>\n",
       "      <td>0.563928</td>\n",
       "    </tr>\n",
       "    <tr>\n",
       "      <th>64</th>\n",
       "      <td>0.344725</td>\n",
       "      <td>-0.221527</td>\n",
       "      <td>0.266203</td>\n",
       "      <td>-0.491052</td>\n",
       "    </tr>\n",
       "    <tr>\n",
       "      <th>66</th>\n",
       "      <td>0.379155</td>\n",
       "      <td>1.216170</td>\n",
       "      <td>-0.994315</td>\n",
       "      <td>-0.296801</td>\n",
       "    </tr>\n",
       "    <tr>\n",
       "      <th>67</th>\n",
       "      <td>1.980019</td>\n",
       "      <td>0.127515</td>\n",
       "      <td>1.032357</td>\n",
       "      <td>0.794106</td>\n",
       "    </tr>\n",
       "    <tr>\n",
       "      <th>70</th>\n",
       "      <td>1.505160</td>\n",
       "      <td>-0.618108</td>\n",
       "      <td>0.575998</td>\n",
       "      <td>-0.583634</td>\n",
       "    </tr>\n",
       "    <tr>\n",
       "      <th>71</th>\n",
       "      <td>0.056753</td>\n",
       "      <td>1.298378</td>\n",
       "      <td>-0.142031</td>\n",
       "      <td>-0.863238</td>\n",
       "    </tr>\n",
       "    <tr>\n",
       "      <th>72</th>\n",
       "      <td>0.896492</td>\n",
       "      <td>0.269772</td>\n",
       "      <td>-1.549786</td>\n",
       "      <td>0.699892</td>\n",
       "    </tr>\n",
       "    <tr>\n",
       "      <th>74</th>\n",
       "      <td>2.162510</td>\n",
       "      <td>2.298395</td>\n",
       "      <td>-1.574505</td>\n",
       "      <td>1.112824</td>\n",
       "    </tr>\n",
       "    <tr>\n",
       "      <th>76</th>\n",
       "      <td>0.083508</td>\n",
       "      <td>-2.403204</td>\n",
       "      <td>-0.315747</td>\n",
       "      <td>-0.036611</td>\n",
       "    </tr>\n",
       "    <tr>\n",
       "      <th>77</th>\n",
       "      <td>1.982524</td>\n",
       "      <td>0.583979</td>\n",
       "      <td>0.786267</td>\n",
       "      <td>-0.001129</td>\n",
       "    </tr>\n",
       "    <tr>\n",
       "      <th>78</th>\n",
       "      <td>0.074292</td>\n",
       "      <td>-1.303974</td>\n",
       "      <td>1.440554</td>\n",
       "      <td>0.414223</td>\n",
       "    </tr>\n",
       "    <tr>\n",
       "      <th>79</th>\n",
       "      <td>0.474296</td>\n",
       "      <td>0.130923</td>\n",
       "      <td>-1.038447</td>\n",
       "      <td>-0.870958</td>\n",
       "    </tr>\n",
       "    <tr>\n",
       "      <th>80</th>\n",
       "      <td>0.179234</td>\n",
       "      <td>-1.041717</td>\n",
       "      <td>-0.354806</td>\n",
       "      <td>-2.545396</td>\n",
       "    </tr>\n",
       "    <tr>\n",
       "      <th>81</th>\n",
       "      <td>0.845256</td>\n",
       "      <td>0.527635</td>\n",
       "      <td>0.013368</td>\n",
       "      <td>0.807961</td>\n",
       "    </tr>\n",
       "    <tr>\n",
       "      <th>87</th>\n",
       "      <td>0.384059</td>\n",
       "      <td>1.176734</td>\n",
       "      <td>1.195336</td>\n",
       "      <td>-1.588885</td>\n",
       "    </tr>\n",
       "    <tr>\n",
       "      <th>94</th>\n",
       "      <td>0.343125</td>\n",
       "      <td>-0.701464</td>\n",
       "      <td>-1.861442</td>\n",
       "      <td>1.505950</td>\n",
       "    </tr>\n",
       "    <tr>\n",
       "      <th>95</th>\n",
       "      <td>0.928807</td>\n",
       "      <td>0.309495</td>\n",
       "      <td>-0.165854</td>\n",
       "      <td>1.098652</td>\n",
       "    </tr>\n",
       "  </tbody>\n",
       "</table>\n",
       "</div>"
      ],
      "text/plain": [
       "           A         B         C         D\n",
       "1   0.591316  0.080931  1.103469  0.283673\n",
       "2   0.540553  0.080861  0.018719  0.709229\n",
       "4   2.464077  1.018815 -0.048092 -0.104020\n",
       "5   0.324101 -0.957495  0.364678  0.541017\n",
       "11  0.167346  0.975426  0.315874  1.140763\n",
       "12  1.808612 -0.572140 -0.653436 -0.550473\n",
       "14  0.512946  1.048871 -1.009565 -2.521926\n",
       "18  1.081804  0.424640  0.293065  1.135852\n",
       "19  1.062591  1.248521 -1.017524  0.470019\n",
       "22  0.139304  1.357931  1.304929 -0.087977\n",
       "23  1.615644  0.077580  1.764336  0.225050\n",
       "24  0.111879 -1.415460 -1.635240  0.955284\n",
       "28  0.305924  0.141213  0.982973  1.057886\n",
       "29  0.223714  0.887254  0.242948 -0.959543\n",
       "30  1.237302 -0.141058 -0.512992  0.910975\n",
       "32  0.985943  1.293266  1.551506  0.875439\n",
       "34  1.954834 -0.129059  0.421801 -0.573484\n",
       "35  1.934591  0.242888 -0.620923  0.222378\n",
       "36  2.261469  0.257627 -0.981967 -0.465670\n",
       "41  0.210893 -0.365822  0.614050  1.445904\n",
       "42  0.020350 -0.633353 -0.181135 -1.976453\n",
       "44  1.318221  0.372016  0.143247  0.000283\n",
       "45  0.530189  0.328609 -0.281519  1.292332\n",
       "46  2.725359 -0.135701 -3.306916 -2.638342\n",
       "47  0.018698  1.796555  0.153439 -1.536533\n",
       "50  0.113863 -0.255066 -0.479676 -0.393080\n",
       "52  0.740404  0.155994  1.141425  0.653500\n",
       "54  0.780251 -1.523930  1.403066 -0.817715\n",
       "56  1.878218  2.058111 -1.224440 -1.032457\n",
       "58  0.298038 -0.555068  0.430534  0.207283\n",
       "60  1.048583 -1.485589 -0.638913 -0.247869\n",
       "63  0.262247 -0.525427  0.158541  0.563928\n",
       "64  0.344725 -0.221527  0.266203 -0.491052\n",
       "66  0.379155  1.216170 -0.994315 -0.296801\n",
       "67  1.980019  0.127515  1.032357  0.794106\n",
       "70  1.505160 -0.618108  0.575998 -0.583634\n",
       "71  0.056753  1.298378 -0.142031 -0.863238\n",
       "72  0.896492  0.269772 -1.549786  0.699892\n",
       "74  2.162510  2.298395 -1.574505  1.112824\n",
       "76  0.083508 -2.403204 -0.315747 -0.036611\n",
       "77  1.982524  0.583979  0.786267 -0.001129\n",
       "78  0.074292 -1.303974  1.440554  0.414223\n",
       "79  0.474296  0.130923 -1.038447 -0.870958\n",
       "80  0.179234 -1.041717 -0.354806 -2.545396\n",
       "81  0.845256  0.527635  0.013368  0.807961\n",
       "87  0.384059  1.176734  1.195336 -1.588885\n",
       "94  0.343125 -0.701464 -1.861442  1.505950\n",
       "95  0.928807  0.309495 -0.165854  1.098652"
      ]
     },
     "execution_count": 19,
     "metadata": {},
     "output_type": "execute_result"
    }
   ],
   "source": [
    "df.query(' A > 0 ')"
   ]
  },
  {
   "cell_type": "code",
   "execution_count": 18,
   "metadata": {
    "scrolled": true
   },
   "outputs": [
    {
     "name": "stdout",
     "output_type": "stream",
     "text": [
      "(48, 4)\n"
     ]
    },
    {
     "data": {
      "text/html": [
       "<div>\n",
       "<style scoped>\n",
       "    .dataframe tbody tr th:only-of-type {\n",
       "        vertical-align: middle;\n",
       "    }\n",
       "\n",
       "    .dataframe tbody tr th {\n",
       "        vertical-align: top;\n",
       "    }\n",
       "\n",
       "    .dataframe thead th {\n",
       "        text-align: right;\n",
       "    }\n",
       "</style>\n",
       "<table border=\"1\" class=\"dataframe\">\n",
       "  <thead>\n",
       "    <tr style=\"text-align: right;\">\n",
       "      <th></th>\n",
       "      <th>A</th>\n",
       "      <th>B</th>\n",
       "      <th>C</th>\n",
       "      <th>D</th>\n",
       "    </tr>\n",
       "  </thead>\n",
       "  <tbody>\n",
       "    <tr>\n",
       "      <th>1</th>\n",
       "      <td>0.591316</td>\n",
       "      <td>0.080931</td>\n",
       "      <td>1.103469</td>\n",
       "      <td>0.283673</td>\n",
       "    </tr>\n",
       "    <tr>\n",
       "      <th>2</th>\n",
       "      <td>0.540553</td>\n",
       "      <td>0.080861</td>\n",
       "      <td>0.018719</td>\n",
       "      <td>0.709229</td>\n",
       "    </tr>\n",
       "    <tr>\n",
       "      <th>4</th>\n",
       "      <td>2.464077</td>\n",
       "      <td>1.018815</td>\n",
       "      <td>-0.048092</td>\n",
       "      <td>-0.104020</td>\n",
       "    </tr>\n",
       "    <tr>\n",
       "      <th>5</th>\n",
       "      <td>0.324101</td>\n",
       "      <td>-0.957495</td>\n",
       "      <td>0.364678</td>\n",
       "      <td>0.541017</td>\n",
       "    </tr>\n",
       "    <tr>\n",
       "      <th>11</th>\n",
       "      <td>0.167346</td>\n",
       "      <td>0.975426</td>\n",
       "      <td>0.315874</td>\n",
       "      <td>1.140763</td>\n",
       "    </tr>\n",
       "    <tr>\n",
       "      <th>12</th>\n",
       "      <td>1.808612</td>\n",
       "      <td>-0.572140</td>\n",
       "      <td>-0.653436</td>\n",
       "      <td>-0.550473</td>\n",
       "    </tr>\n",
       "    <tr>\n",
       "      <th>14</th>\n",
       "      <td>0.512946</td>\n",
       "      <td>1.048871</td>\n",
       "      <td>-1.009565</td>\n",
       "      <td>-2.521926</td>\n",
       "    </tr>\n",
       "    <tr>\n",
       "      <th>18</th>\n",
       "      <td>1.081804</td>\n",
       "      <td>0.424640</td>\n",
       "      <td>0.293065</td>\n",
       "      <td>1.135852</td>\n",
       "    </tr>\n",
       "    <tr>\n",
       "      <th>19</th>\n",
       "      <td>1.062591</td>\n",
       "      <td>1.248521</td>\n",
       "      <td>-1.017524</td>\n",
       "      <td>0.470019</td>\n",
       "    </tr>\n",
       "    <tr>\n",
       "      <th>22</th>\n",
       "      <td>0.139304</td>\n",
       "      <td>1.357931</td>\n",
       "      <td>1.304929</td>\n",
       "      <td>-0.087977</td>\n",
       "    </tr>\n",
       "    <tr>\n",
       "      <th>23</th>\n",
       "      <td>1.615644</td>\n",
       "      <td>0.077580</td>\n",
       "      <td>1.764336</td>\n",
       "      <td>0.225050</td>\n",
       "    </tr>\n",
       "    <tr>\n",
       "      <th>24</th>\n",
       "      <td>0.111879</td>\n",
       "      <td>-1.415460</td>\n",
       "      <td>-1.635240</td>\n",
       "      <td>0.955284</td>\n",
       "    </tr>\n",
       "    <tr>\n",
       "      <th>28</th>\n",
       "      <td>0.305924</td>\n",
       "      <td>0.141213</td>\n",
       "      <td>0.982973</td>\n",
       "      <td>1.057886</td>\n",
       "    </tr>\n",
       "    <tr>\n",
       "      <th>29</th>\n",
       "      <td>0.223714</td>\n",
       "      <td>0.887254</td>\n",
       "      <td>0.242948</td>\n",
       "      <td>-0.959543</td>\n",
       "    </tr>\n",
       "    <tr>\n",
       "      <th>30</th>\n",
       "      <td>1.237302</td>\n",
       "      <td>-0.141058</td>\n",
       "      <td>-0.512992</td>\n",
       "      <td>0.910975</td>\n",
       "    </tr>\n",
       "    <tr>\n",
       "      <th>32</th>\n",
       "      <td>0.985943</td>\n",
       "      <td>1.293266</td>\n",
       "      <td>1.551506</td>\n",
       "      <td>0.875439</td>\n",
       "    </tr>\n",
       "    <tr>\n",
       "      <th>34</th>\n",
       "      <td>1.954834</td>\n",
       "      <td>-0.129059</td>\n",
       "      <td>0.421801</td>\n",
       "      <td>-0.573484</td>\n",
       "    </tr>\n",
       "    <tr>\n",
       "      <th>35</th>\n",
       "      <td>1.934591</td>\n",
       "      <td>0.242888</td>\n",
       "      <td>-0.620923</td>\n",
       "      <td>0.222378</td>\n",
       "    </tr>\n",
       "    <tr>\n",
       "      <th>36</th>\n",
       "      <td>2.261469</td>\n",
       "      <td>0.257627</td>\n",
       "      <td>-0.981967</td>\n",
       "      <td>-0.465670</td>\n",
       "    </tr>\n",
       "    <tr>\n",
       "      <th>41</th>\n",
       "      <td>0.210893</td>\n",
       "      <td>-0.365822</td>\n",
       "      <td>0.614050</td>\n",
       "      <td>1.445904</td>\n",
       "    </tr>\n",
       "    <tr>\n",
       "      <th>42</th>\n",
       "      <td>0.020350</td>\n",
       "      <td>-0.633353</td>\n",
       "      <td>-0.181135</td>\n",
       "      <td>-1.976453</td>\n",
       "    </tr>\n",
       "    <tr>\n",
       "      <th>44</th>\n",
       "      <td>1.318221</td>\n",
       "      <td>0.372016</td>\n",
       "      <td>0.143247</td>\n",
       "      <td>0.000283</td>\n",
       "    </tr>\n",
       "    <tr>\n",
       "      <th>45</th>\n",
       "      <td>0.530189</td>\n",
       "      <td>0.328609</td>\n",
       "      <td>-0.281519</td>\n",
       "      <td>1.292332</td>\n",
       "    </tr>\n",
       "    <tr>\n",
       "      <th>46</th>\n",
       "      <td>2.725359</td>\n",
       "      <td>-0.135701</td>\n",
       "      <td>-3.306916</td>\n",
       "      <td>-2.638342</td>\n",
       "    </tr>\n",
       "    <tr>\n",
       "      <th>47</th>\n",
       "      <td>0.018698</td>\n",
       "      <td>1.796555</td>\n",
       "      <td>0.153439</td>\n",
       "      <td>-1.536533</td>\n",
       "    </tr>\n",
       "    <tr>\n",
       "      <th>50</th>\n",
       "      <td>0.113863</td>\n",
       "      <td>-0.255066</td>\n",
       "      <td>-0.479676</td>\n",
       "      <td>-0.393080</td>\n",
       "    </tr>\n",
       "    <tr>\n",
       "      <th>52</th>\n",
       "      <td>0.740404</td>\n",
       "      <td>0.155994</td>\n",
       "      <td>1.141425</td>\n",
       "      <td>0.653500</td>\n",
       "    </tr>\n",
       "    <tr>\n",
       "      <th>54</th>\n",
       "      <td>0.780251</td>\n",
       "      <td>-1.523930</td>\n",
       "      <td>1.403066</td>\n",
       "      <td>-0.817715</td>\n",
       "    </tr>\n",
       "    <tr>\n",
       "      <th>56</th>\n",
       "      <td>1.878218</td>\n",
       "      <td>2.058111</td>\n",
       "      <td>-1.224440</td>\n",
       "      <td>-1.032457</td>\n",
       "    </tr>\n",
       "    <tr>\n",
       "      <th>58</th>\n",
       "      <td>0.298038</td>\n",
       "      <td>-0.555068</td>\n",
       "      <td>0.430534</td>\n",
       "      <td>0.207283</td>\n",
       "    </tr>\n",
       "    <tr>\n",
       "      <th>60</th>\n",
       "      <td>1.048583</td>\n",
       "      <td>-1.485589</td>\n",
       "      <td>-0.638913</td>\n",
       "      <td>-0.247869</td>\n",
       "    </tr>\n",
       "    <tr>\n",
       "      <th>63</th>\n",
       "      <td>0.262247</td>\n",
       "      <td>-0.525427</td>\n",
       "      <td>0.158541</td>\n",
       "      <td>0.563928</td>\n",
       "    </tr>\n",
       "    <tr>\n",
       "      <th>64</th>\n",
       "      <td>0.344725</td>\n",
       "      <td>-0.221527</td>\n",
       "      <td>0.266203</td>\n",
       "      <td>-0.491052</td>\n",
       "    </tr>\n",
       "    <tr>\n",
       "      <th>66</th>\n",
       "      <td>0.379155</td>\n",
       "      <td>1.216170</td>\n",
       "      <td>-0.994315</td>\n",
       "      <td>-0.296801</td>\n",
       "    </tr>\n",
       "    <tr>\n",
       "      <th>67</th>\n",
       "      <td>1.980019</td>\n",
       "      <td>0.127515</td>\n",
       "      <td>1.032357</td>\n",
       "      <td>0.794106</td>\n",
       "    </tr>\n",
       "    <tr>\n",
       "      <th>70</th>\n",
       "      <td>1.505160</td>\n",
       "      <td>-0.618108</td>\n",
       "      <td>0.575998</td>\n",
       "      <td>-0.583634</td>\n",
       "    </tr>\n",
       "    <tr>\n",
       "      <th>71</th>\n",
       "      <td>0.056753</td>\n",
       "      <td>1.298378</td>\n",
       "      <td>-0.142031</td>\n",
       "      <td>-0.863238</td>\n",
       "    </tr>\n",
       "    <tr>\n",
       "      <th>72</th>\n",
       "      <td>0.896492</td>\n",
       "      <td>0.269772</td>\n",
       "      <td>-1.549786</td>\n",
       "      <td>0.699892</td>\n",
       "    </tr>\n",
       "    <tr>\n",
       "      <th>74</th>\n",
       "      <td>2.162510</td>\n",
       "      <td>2.298395</td>\n",
       "      <td>-1.574505</td>\n",
       "      <td>1.112824</td>\n",
       "    </tr>\n",
       "    <tr>\n",
       "      <th>76</th>\n",
       "      <td>0.083508</td>\n",
       "      <td>-2.403204</td>\n",
       "      <td>-0.315747</td>\n",
       "      <td>-0.036611</td>\n",
       "    </tr>\n",
       "    <tr>\n",
       "      <th>77</th>\n",
       "      <td>1.982524</td>\n",
       "      <td>0.583979</td>\n",
       "      <td>0.786267</td>\n",
       "      <td>-0.001129</td>\n",
       "    </tr>\n",
       "    <tr>\n",
       "      <th>78</th>\n",
       "      <td>0.074292</td>\n",
       "      <td>-1.303974</td>\n",
       "      <td>1.440554</td>\n",
       "      <td>0.414223</td>\n",
       "    </tr>\n",
       "    <tr>\n",
       "      <th>79</th>\n",
       "      <td>0.474296</td>\n",
       "      <td>0.130923</td>\n",
       "      <td>-1.038447</td>\n",
       "      <td>-0.870958</td>\n",
       "    </tr>\n",
       "    <tr>\n",
       "      <th>80</th>\n",
       "      <td>0.179234</td>\n",
       "      <td>-1.041717</td>\n",
       "      <td>-0.354806</td>\n",
       "      <td>-2.545396</td>\n",
       "    </tr>\n",
       "    <tr>\n",
       "      <th>81</th>\n",
       "      <td>0.845256</td>\n",
       "      <td>0.527635</td>\n",
       "      <td>0.013368</td>\n",
       "      <td>0.807961</td>\n",
       "    </tr>\n",
       "    <tr>\n",
       "      <th>87</th>\n",
       "      <td>0.384059</td>\n",
       "      <td>1.176734</td>\n",
       "      <td>1.195336</td>\n",
       "      <td>-1.588885</td>\n",
       "    </tr>\n",
       "    <tr>\n",
       "      <th>94</th>\n",
       "      <td>0.343125</td>\n",
       "      <td>-0.701464</td>\n",
       "      <td>-1.861442</td>\n",
       "      <td>1.505950</td>\n",
       "    </tr>\n",
       "    <tr>\n",
       "      <th>95</th>\n",
       "      <td>0.928807</td>\n",
       "      <td>0.309495</td>\n",
       "      <td>-0.165854</td>\n",
       "      <td>1.098652</td>\n",
       "    </tr>\n",
       "  </tbody>\n",
       "</table>\n",
       "</div>"
      ],
      "text/plain": [
       "           A         B         C         D\n",
       "1   0.591316  0.080931  1.103469  0.283673\n",
       "2   0.540553  0.080861  0.018719  0.709229\n",
       "4   2.464077  1.018815 -0.048092 -0.104020\n",
       "5   0.324101 -0.957495  0.364678  0.541017\n",
       "11  0.167346  0.975426  0.315874  1.140763\n",
       "12  1.808612 -0.572140 -0.653436 -0.550473\n",
       "14  0.512946  1.048871 -1.009565 -2.521926\n",
       "18  1.081804  0.424640  0.293065  1.135852\n",
       "19  1.062591  1.248521 -1.017524  0.470019\n",
       "22  0.139304  1.357931  1.304929 -0.087977\n",
       "23  1.615644  0.077580  1.764336  0.225050\n",
       "24  0.111879 -1.415460 -1.635240  0.955284\n",
       "28  0.305924  0.141213  0.982973  1.057886\n",
       "29  0.223714  0.887254  0.242948 -0.959543\n",
       "30  1.237302 -0.141058 -0.512992  0.910975\n",
       "32  0.985943  1.293266  1.551506  0.875439\n",
       "34  1.954834 -0.129059  0.421801 -0.573484\n",
       "35  1.934591  0.242888 -0.620923  0.222378\n",
       "36  2.261469  0.257627 -0.981967 -0.465670\n",
       "41  0.210893 -0.365822  0.614050  1.445904\n",
       "42  0.020350 -0.633353 -0.181135 -1.976453\n",
       "44  1.318221  0.372016  0.143247  0.000283\n",
       "45  0.530189  0.328609 -0.281519  1.292332\n",
       "46  2.725359 -0.135701 -3.306916 -2.638342\n",
       "47  0.018698  1.796555  0.153439 -1.536533\n",
       "50  0.113863 -0.255066 -0.479676 -0.393080\n",
       "52  0.740404  0.155994  1.141425  0.653500\n",
       "54  0.780251 -1.523930  1.403066 -0.817715\n",
       "56  1.878218  2.058111 -1.224440 -1.032457\n",
       "58  0.298038 -0.555068  0.430534  0.207283\n",
       "60  1.048583 -1.485589 -0.638913 -0.247869\n",
       "63  0.262247 -0.525427  0.158541  0.563928\n",
       "64  0.344725 -0.221527  0.266203 -0.491052\n",
       "66  0.379155  1.216170 -0.994315 -0.296801\n",
       "67  1.980019  0.127515  1.032357  0.794106\n",
       "70  1.505160 -0.618108  0.575998 -0.583634\n",
       "71  0.056753  1.298378 -0.142031 -0.863238\n",
       "72  0.896492  0.269772 -1.549786  0.699892\n",
       "74  2.162510  2.298395 -1.574505  1.112824\n",
       "76  0.083508 -2.403204 -0.315747 -0.036611\n",
       "77  1.982524  0.583979  0.786267 -0.001129\n",
       "78  0.074292 -1.303974  1.440554  0.414223\n",
       "79  0.474296  0.130923 -1.038447 -0.870958\n",
       "80  0.179234 -1.041717 -0.354806 -2.545396\n",
       "81  0.845256  0.527635  0.013368  0.807961\n",
       "87  0.384059  1.176734  1.195336 -1.588885\n",
       "94  0.343125 -0.701464 -1.861442  1.505950\n",
       "95  0.928807  0.309495 -0.165854  1.098652"
      ]
     },
     "execution_count": 18,
     "metadata": {},
     "output_type": "execute_result"
    }
   ],
   "source": [
    "print(df[ df.A > 0 ].shape)\n",
    "df[ df.A > 0 ]"
   ]
  },
  {
   "cell_type": "code",
   "execution_count": 22,
   "metadata": {},
   "outputs": [],
   "source": [
    "import numpy as np\n",
    "import matplotlib.pyplot as plt"
   ]
  },
  {
   "cell_type": "markdown",
   "metadata": {},
   "source": [
    "`plt.plot( [x coordinates], [y coordinates])`"
   ]
  },
  {
   "cell_type": "code",
   "execution_count": 24,
   "metadata": {},
   "outputs": [
    {
     "name": "stdout",
     "output_type": "stream",
     "text": [
      "[1 2 3 4 5]\n",
      "[ 1  4  9 16 25]\n"
     ]
    },
    {
     "data": {
      "text/plain": [
       "[<matplotlib.lines.Line2D at 0x7f528f648630>]"
      ]
     },
     "execution_count": 24,
     "metadata": {},
     "output_type": "execute_result"
    },
    {
     "data": {
      "image/png": "[encoded data removed]",
      "text/plain": [
       "<Figure size 432x288 with 1 Axes>"
      ]
     },
     "metadata": {
      "image/png": {
       "height": 248,
       "width": 369
      }
     },
     "output_type": "display_data"
    }
   ],
   "source": [
    "x = np.array([1,2,3,4,5])\n",
    "y = x**2\n",
    "print(x)\n",
    "print(y)\n",
    "plt.plot(x, y)"
   ]
  },
  {
   "cell_type": "code",
   "execution_count": 27,
   "metadata": {},
   "outputs": [
    {
     "data": {
      "text/plain": [
       "[<matplotlib.lines.Line2D at 0x7f528ee40908>]"
      ]
     },
     "execution_count": 27,
     "metadata": {},
     "output_type": "execute_result"
    },
    {
     "data": {
      "image/png": "[encoded data removed]",
      "text/plain": [
       "<Figure size 432x288 with 1 Axes>"
      ]
     },
     "metadata": {
      "image/png": {
       "height": 248,
       "width": 372
      }
     },
     "output_type": "display_data"
    }
   ],
   "source": [
    "x = np.linspace(-3, 3, 50)\n",
    "y = np.exp(-x**2)\n",
    "\n",
    "plt.plot(x, y)"
   ]
  },
  {
   "cell_type": "markdown",
   "metadata": {},
   "source": [
    "`plt.scatter( [x coordinates], [y coordinates] )`"
   ]
  },
  {
   "cell_type": "code",
   "execution_count": 28,
   "metadata": {},
   "outputs": [
    {
     "data": {
      "text/plain": [
       "<matplotlib.collections.PathCollection at 0x7f528ee2b208>"
      ]
     },
     "execution_count": 28,
     "metadata": {},
     "output_type": "execute_result"
    },
    {
     "data": {
      "image/png": "[encoded data removed]",
      "text/plain": [
       "<Figure size 432x288 with 1 Axes>"
      ]
     },
     "metadata": {
      "image/png": {
       "height": 248,
       "width": 372
      }
     },
     "output_type": "display_data"
    }
   ],
   "source": [
    "x = np.linspace(-3, 3, 50)\n",
    "y = np.exp(-x**2)\n",
    "\n",
    "plt.scatter(x, y)"
   ]
  },
  {
   "cell_type": "markdown",
   "metadata": {},
   "source": [
    "`plt.hist( [ samples ] )`"
   ]
  },
  {
   "cell_type": "code",
   "execution_count": 33,
   "metadata": {
    "scrolled": true
   },
   "outputs": [
    {
     "data": {
      "text/plain": [
       "(array([3.000e+00, 2.000e+00, 1.000e+01, 6.000e+00, 1.200e+01, 2.800e+01,\n",
       "        5.900e+01, 7.600e+01, 1.580e+02, 2.290e+02, 3.200e+02, 5.370e+02,\n",
       "        7.540e+02, 1.016e+03, 1.425e+03, 1.978e+03, 2.501e+03, 3.116e+03,\n",
       "        3.763e+03, 4.492e+03, 5.335e+03, 5.789e+03, 6.255e+03, 6.607e+03,\n",
       "        6.833e+03, 6.919e+03, 6.524e+03, 6.374e+03, 5.467e+03, 4.803e+03,\n",
       "        4.275e+03, 3.545e+03, 2.901e+03, 2.192e+03, 1.719e+03, 1.263e+03,\n",
       "        8.880e+02, 6.510e+02, 4.610e+02, 2.460e+02, 2.030e+02, 1.140e+02,\n",
       "        6.400e+01, 3.700e+01, 1.900e+01, 1.700e+01, 8.000e+00, 2.000e+00,\n",
       "        0.000e+00, 4.000e+00]),\n",
       " array([-4.24085832, -4.06975035, -3.89864238, -3.72753441, -3.55642644,\n",
       "        -3.38531847, -3.21421051, -3.04310254, -2.87199457, -2.7008866 ,\n",
       "        -2.52977863, -2.35867066, -2.1875627 , -2.01645473, -1.84534676,\n",
       "        -1.67423879, -1.50313082, -1.33202285, -1.16091489, -0.98980692,\n",
       "        -0.81869895, -0.64759098, -0.47648301, -0.30537504, -0.13426708,\n",
       "         0.03684089,  0.20794886,  0.37905683,  0.5501648 ,  0.72127277,\n",
       "         0.89238073,  1.0634887 ,  1.23459667,  1.40570464,  1.57681261,\n",
       "         1.74792058,  1.91902855,  2.09013651,  2.26124448,  2.43235245,\n",
       "         2.60346042,  2.77456839,  2.94567636,  3.11678432,  3.28789229,\n",
       "         3.45900026,  3.63010823,  3.8012162 ,  3.97232417,  4.14343213,\n",
       "         4.3145401 ]),\n",
       " <a list of 50 Patch objects>)"
      ]
     },
     "execution_count": 33,
     "metadata": {},
     "output_type": "execute_result"
    },
    {
     "data": {
      "image/png": "[encoded data removed]",
      "text/plain": [
       "<Figure size 432x288 with 1 Axes>"
      ]
     },
     "metadata": {
      "image/png": {
       "height": 248,
       "width": 381
      }
     },
     "output_type": "display_data"
    }
   ],
   "source": [
    "dist = np.random.randn(100000)\n",
    "plt.hist(dist, bins=50)"
   ]
  },
  {
   "cell_type": "code",
   "execution_count": 43,
   "metadata": {},
   "outputs": [
    {
     "data": {
      "text/plain": [
       "[<matplotlib.lines.Line2D at 0x7f528e83f208>]"
      ]
     },
     "execution_count": 43,
     "metadata": {},
     "output_type": "execute_result"
    },
    {
     "data": {
      "image/png": "[encoded data removed]",
      "text/plain": [
       "<Figure size 432x288 with 1 Axes>"
      ]
     },
     "metadata": {
      "image/png": {
       "height": 248,
       "width": 372
      }
     },
     "output_type": "display_data"
    }
   ],
   "source": [
    "plt.plot(x, y, 'c>:')"
   ]
  },
  {
   "cell_type": "code",
   "execution_count": null,
   "metadata": {},
   "outputs": [],
   "source": []
  }
 ],
 "metadata": {
  "kernelspec": {
   "display_name": "Python 3 (Ubuntu Linux)",
   "language": "python",
   "name": "python3"
  },
  "language_info": {
   "codemirror_mode": {
    "name": "ipython",
    "version": 3
   },
   "file_extension": ".py",
   "mimetype": "text/x-python",
   "name": "python",
   "nbconvert_exporter": "python",
   "pygments_lexer": "ipython3",
   "version": "3.6.7"
  }
 },
 "nbformat": 4,
 "nbformat_minor": 2
}
