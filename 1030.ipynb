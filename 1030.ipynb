{
 "cells": [
  {
   "cell_type": "code",
   "execution_count": 4,
   "metadata": {},
   "outputs": [],
   "source": [
    "import numpy as np\n",
    "import pandas as pd"
   ]
  },
  {
   "cell_type": "code",
   "execution_count": 5,
   "metadata": {},
   "outputs": [],
   "source": [
    "t = '2019-10-25'"
   ]
  },
  {
   "cell_type": "markdown",
   "metadata": {},
   "source": [
    "Python packages: `datetime` and `dateutil`"
   ]
  },
  {
   "cell_type": "code",
   "execution_count": 7,
   "metadata": {},
   "outputs": [],
   "source": [
    "import datetime"
   ]
  },
  {
   "cell_type": "code",
   "execution_count": 16,
   "metadata": {},
   "outputs": [],
   "source": [
    "### timestamp\n",
    "some_day = datetime.datetime(year=2019, month=10, day=25)\n",
    "other_day = datetime.datetime(year=2019, month=12, day=31)"
   ]
  },
  {
   "cell_type": "code",
   "execution_count": 14,
   "metadata": {},
   "outputs": [],
   "source": [
    "### timedelta = a difference between two timestamps\n",
    "some_diff = datetime.timedelta(10)"
   ]
  },
  {
   "cell_type": "code",
   "execution_count": 15,
   "metadata": {},
   "outputs": [
    {
     "data": {
      "text/plain": [
       "datetime.datetime(2019, 11, 4, 0, 0)"
      ]
     },
     "execution_count": 15,
     "metadata": {},
     "output_type": "execute_result"
    }
   ],
   "source": [
    "some_day + some_diff"
   ]
  },
  {
   "cell_type": "code",
   "execution_count": 17,
   "metadata": {},
   "outputs": [
    {
     "data": {
      "text/plain": [
       "datetime.timedelta(67)"
      ]
     },
     "execution_count": 17,
     "metadata": {},
     "output_type": "execute_result"
    }
   ],
   "source": [
    "other_day - some_day"
   ]
  },
  {
   "cell_type": "code",
   "execution_count": 28,
   "metadata": {},
   "outputs": [
    {
     "data": {
      "text/plain": [
       "'This is in year 2019.  Today is October 25th.  It is Friday in this week.'"
      ]
     },
     "execution_count": 28,
     "metadata": {},
     "output_type": "execute_result"
    }
   ],
   "source": [
    "some_day.strftime(\"This is in year %Y.  Today is %B %dth.  It is %A in this week.\")"
   ]
  },
  {
   "cell_type": "code",
   "execution_count": 25,
   "metadata": {},
   "outputs": [],
   "source": [
    "some_day.strftime"
   ]
  },
  {
   "cell_type": "code",
   "execution_count": 29,
   "metadata": {},
   "outputs": [],
   "source": [
    "birth_day = datetime.datetime(year=1987, month=3, day=21)"
   ]
  },
  {
   "cell_type": "code",
   "execution_count": 30,
   "metadata": {},
   "outputs": [
    {
     "data": {
      "text/plain": [
       "'Saturday'"
      ]
     },
     "execution_count": 30,
     "metadata": {},
     "output_type": "execute_result"
    }
   ],
   "source": [
    "birth_day.strftime(\"%A\")"
   ]
  },
  {
   "cell_type": "code",
   "execution_count": 31,
   "metadata": {},
   "outputs": [],
   "source": [
    "import dateutil"
   ]
  },
  {
   "cell_type": "code",
   "execution_count": 32,
   "metadata": {},
   "outputs": [
    {
     "data": {
      "text/plain": [
       "datetime.datetime(2020, 10, 10, 0, 0)"
      ]
     },
     "execution_count": 32,
     "metadata": {},
     "output_type": "execute_result"
    }
   ],
   "source": [
    "dateutil.parser.parse('20201010')"
   ]
  },
  {
   "cell_type": "code",
   "execution_count": 34,
   "metadata": {},
   "outputs": [
    {
     "data": {
      "text/plain": [
       "datetime.datetime(2020, 10, 10, 0, 0)"
      ]
     },
     "execution_count": 34,
     "metadata": {},
     "output_type": "execute_result"
    }
   ],
   "source": [
    "dateutil.parser.parse('2020-10-10')"
   ]
  },
  {
   "cell_type": "code",
   "execution_count": 35,
   "metadata": {},
   "outputs": [
    {
     "data": {
      "text/plain": [
       "datetime.datetime(2019, 10, 25, 0, 0)"
      ]
     },
     "execution_count": 35,
     "metadata": {},
     "output_type": "execute_result"
    }
   ],
   "source": [
    "dateutil.parser.parse('2019, October 25')"
   ]
  },
  {
   "cell_type": "code",
   "execution_count": 36,
   "metadata": {},
   "outputs": [
    {
     "data": {
      "text/plain": [
       "datetime.datetime(2019, 10, 25, 0, 0)"
      ]
     },
     "execution_count": 36,
     "metadata": {},
     "output_type": "execute_result"
    }
   ],
   "source": [
    "dateutil.parser.parse('October 25, 2019')"
   ]
  },
  {
   "cell_type": "markdown",
   "metadata": {},
   "source": [
    "Numpy: `datetime64` and `timedelta64`"
   ]
  },
  {
   "cell_type": "code",
   "execution_count": 37,
   "metadata": {},
   "outputs": [],
   "source": [
    "import numpy as np"
   ]
  },
  {
   "cell_type": "code",
   "execution_count": 40,
   "metadata": {},
   "outputs": [
    {
     "data": {
      "text/plain": [
       "numpy.datetime64('2019-10-25')"
      ]
     },
     "execution_count": 40,
     "metadata": {},
     "output_type": "execute_result"
    }
   ],
   "source": [
    "some_day = np.datetime64('2019-10-25')\n",
    "some_day"
   ]
  },
  {
   "cell_type": "code",
   "execution_count": 41,
   "metadata": {},
   "outputs": [],
   "source": [
    "some_diff = np.timedelta64('10')"
   ]
  },
  {
   "cell_type": "code",
   "execution_count": 42,
   "metadata": {},
   "outputs": [
    {
     "data": {
      "text/plain": [
       "numpy.datetime64('2019-11-04')"
      ]
     },
     "execution_count": 42,
     "metadata": {},
     "output_type": "execute_result"
    }
   ],
   "source": [
    "some_day + some_diff"
   ]
  },
  {
   "cell_type": "code",
   "execution_count": 43,
   "metadata": {},
   "outputs": [
    {
     "data": {
      "text/plain": [
       "array(['2019-10-25', '2019-10-26', '2019-10-27', '2019-10-28',\n",
       "       '2019-10-29', '2019-10-30', '2019-10-31', '2019-11-01',\n",
       "       '2019-11-02', '2019-11-03'], dtype='datetime64[D]')"
      ]
     },
     "execution_count": 43,
     "metadata": {},
     "output_type": "execute_result"
    }
   ],
   "source": [
    "some_day + np.arange(10)"
   ]
  },
  {
   "cell_type": "markdown",
   "metadata": {},
   "source": [
    "Pandas: `to_datetime`, `to_timedelta`, and `date_range`"
   ]
  },
  {
   "cell_type": "code",
   "execution_count": 44,
   "metadata": {},
   "outputs": [],
   "source": [
    "import pandas as pd"
   ]
  },
  {
   "cell_type": "code",
   "execution_count": 46,
   "metadata": {},
   "outputs": [
    {
     "data": {
      "text/plain": [
       "Timestamp('2019-10-25 00:00:00')"
      ]
     },
     "execution_count": 46,
     "metadata": {},
     "output_type": "execute_result"
    }
   ],
   "source": [
    "some_day = pd.to_datetime('2019-10-25')\n",
    "some_day"
   ]
  },
  {
   "cell_type": "code",
   "execution_count": 48,
   "metadata": {},
   "outputs": [
    {
     "data": {
      "text/plain": [
       "Timestamp('2019-10-25 00:00:00')"
      ]
     },
     "execution_count": 48,
     "metadata": {},
     "output_type": "execute_result"
    }
   ],
   "source": [
    "some_day = pd.to_datetime('Oct 25, 2019')\n",
    "some_day"
   ]
  },
  {
   "cell_type": "code",
   "execution_count": 52,
   "metadata": {},
   "outputs": [],
   "source": [
    "some_diff = pd.to_timedelta(10, unit='d')"
   ]
  },
  {
   "cell_type": "code",
   "execution_count": 53,
   "metadata": {},
   "outputs": [
    {
     "data": {
      "text/plain": [
       "Timestamp('2019-11-04 00:00:00')"
      ]
     },
     "execution_count": 53,
     "metadata": {},
     "output_type": "execute_result"
    }
   ],
   "source": [
    "some_day + some_diff"
   ]
  },
  {
   "cell_type": "code",
   "execution_count": 54,
   "metadata": {},
   "outputs": [
    {
     "data": {
      "text/plain": [
       "0    2019-10-25\n",
       "1    2019-10-26\n",
       "2    2019-10-27\n",
       "dtype: object"
      ]
     },
     "execution_count": 54,
     "metadata": {},
     "output_type": "execute_result"
    }
   ],
   "source": [
    "s = pd.Series(['2019-10-25',\n",
    "              '2019-10-26',\n",
    "              '2019-10-27'])\n",
    "s"
   ]
  },
  {
   "cell_type": "code",
   "execution_count": 55,
   "metadata": {},
   "outputs": [
    {
     "data": {
      "text/plain": [
       "0   2019-10-25\n",
       "1   2019-10-26\n",
       "2   2019-10-27\n",
       "dtype: datetime64[ns]"
      ]
     },
     "execution_count": 55,
     "metadata": {},
     "output_type": "execute_result"
    }
   ],
   "source": [
    "pd.to_datetime(s)"
   ]
  },
  {
   "cell_type": "code",
   "execution_count": 56,
   "metadata": {},
   "outputs": [],
   "source": [
    "s = pd.date_range?"
   ]
  },
  {
   "cell_type": "code",
   "execution_count": 59,
   "metadata": {},
   "outputs": [
    {
     "data": {
      "text/plain": [
       "DatetimeIndex(['2019-10-25', '2019-10-26', '2019-10-27', '2019-10-28',\n",
       "               '2019-10-29', '2019-10-30', '2019-10-31', '2019-11-01',\n",
       "               '2019-11-02', '2019-11-03', '2019-11-04'],\n",
       "              dtype='datetime64[ns]', freq='D')"
      ]
     },
     "execution_count": 59,
     "metadata": {},
     "output_type": "execute_result"
    }
   ],
   "source": [
    "s = pd.date_range('2019-10-25','2019-11-4', freq='D')\n",
    "s"
   ]
  },
  {
   "cell_type": "code",
   "execution_count": 61,
   "metadata": {},
   "outputs": [],
   "source": [
    "prices = 200 + np.arange(11) + np.random.randn(11)"
   ]
  },
  {
   "cell_type": "code",
   "execution_count": 62,
   "metadata": {},
   "outputs": [
    {
     "data": {
      "text/plain": [
       "2019-10-25    199.834385\n",
       "2019-10-26    201.640913\n",
       "2019-10-27    201.499231\n",
       "2019-10-28    203.462227\n",
       "2019-10-29    202.482018\n",
       "2019-10-30    203.763600\n",
       "2019-10-31    205.940757\n",
       "2019-11-01    206.729322\n",
       "2019-11-02    206.508707\n",
       "2019-11-03    207.543906\n",
       "2019-11-04    212.166298\n",
       "Freq: D, dtype: float64"
      ]
     },
     "execution_count": 62,
     "metadata": {},
     "output_type": "execute_result"
    }
   ],
   "source": [
    "TSM = pd.Series(prices, \n",
    "               index=s)\n",
    "TSM"
   ]
  },
  {
   "cell_type": "code",
   "execution_count": 67,
   "metadata": {},
   "outputs": [
    {
     "data": {
      "text/plain": [
       "Index(['Friday', 'Saturday', 'Sunday', 'Monday', 'Tuesday', 'Wednesday',\n",
       "       'Thursday', 'Friday', 'Saturday', 'Sunday', 'Monday'],\n",
       "      dtype='object')"
      ]
     },
     "execution_count": 67,
     "metadata": {},
     "output_type": "execute_result"
    }
   ],
   "source": [
    "TSM.index.strftime(\"%A\")"
   ]
  },
  {
   "cell_type": "code",
   "execution_count": 69,
   "metadata": {},
   "outputs": [
    {
     "data": {
      "text/plain": [
       "2019-10-25    199.834385\n",
       "2019-10-26    201.640913\n",
       "2019-10-27    201.499231\n",
       "2019-10-28    203.462227\n",
       "2019-10-29    202.482018\n",
       "2019-10-30    203.763600\n",
       "2019-10-31    205.940757\n",
       "2019-11-01    206.729322\n",
       "Freq: D, dtype: float64"
      ]
     },
     "execution_count": 69,
     "metadata": {},
     "output_type": "execute_result"
    }
   ],
   "source": [
    "TSM['2019-10-25':'2019-11-01']"
   ]
  },
  {
   "cell_type": "code",
   "execution_count": 71,
   "metadata": {},
   "outputs": [
    {
     "data": {
      "text/plain": [
       "2019-10-25    199.834385\n",
       "2019-10-26    201.640913\n",
       "2019-10-27    201.499231\n",
       "2019-10-28    203.462227\n",
       "2019-10-29    202.482018\n",
       "2019-10-30    203.763600\n",
       "2019-10-31    205.940757\n",
       "Freq: D, dtype: float64"
      ]
     },
     "execution_count": 71,
     "metadata": {},
     "output_type": "execute_result"
    }
   ],
   "source": [
    "TSM['2019-10']"
   ]
  },
  {
   "cell_type": "markdown",
   "metadata": {},
   "source": [
    "`eval()` and `query()`"
   ]
  },
  {
   "cell_type": "code",
   "execution_count": 1,
   "metadata": {},
   "outputs": [],
   "source": [
    "import numpy as np\n",
    "import pandas as pd"
   ]
  },
  {
   "cell_type": "code",
   "execution_count": 8,
   "metadata": {},
   "outputs": [
    {
     "data": {
      "text/plain": [
       "(100000, 100)"
      ]
     },
     "execution_count": 8,
     "metadata": {},
     "output_type": "execute_result"
    }
   ],
   "source": [
    "df1 = pd.DataFrame(np.random.randn(100000, 100))\n",
    "df2 = pd.DataFrame(np.random.randn(100000, 100))\n",
    "df3 = pd.DataFrame(np.random.randn(100000, 100))\n",
    "df4 = pd.DataFrame(np.random.randn(100000, 100))\n",
    "\n",
    "df1.shape"
   ]
  },
  {
   "cell_type": "code",
   "execution_count": 9,
   "metadata": {},
   "outputs": [
    {
     "name": "stdout",
     "output_type": "stream",
     "text": [
      "1 loop, best of 3: 146 ms per loop\n"
     ]
    }
   ],
   "source": [
    "%%timeit\n",
    "\n",
    "df1 + df2 + df3 + df4"
   ]
  },
  {
   "cell_type": "code",
   "execution_count": null,
   "metadata": {},
   "outputs": [],
   "source": [
    "tem1 = df1 + df2\n",
    "tem2 = tem1 + df3\n",
    "tem3 = tem2 + df4"
   ]
  },
  {
   "cell_type": "code",
   "execution_count": 10,
   "metadata": {},
   "outputs": [
    {
     "name": "stdout",
     "output_type": "stream",
     "text": [
      "10 loops, best of 3: 147 ms per loop\n"
     ]
    }
   ],
   "source": [
    "%%timeit\n",
    "\n",
    "pd.eval('df1 + df2 + df3 + df4')"
   ]
  },
  {
   "cell_type": "markdown",
   "metadata": {},
   "source": [
    "`+`, `-`, `*`, `/`, ..."
   ]
  },
  {
   "cell_type": "code",
   "execution_count": 11,
   "metadata": {
    "scrolled": true
   },
   "outputs": [
    {
     "data": {
      "text/html": [
       "<div>\n",
       "<style scoped>\n",
       "    .dataframe tbody tr th:only-of-type {\n",
       "        vertical-align: middle;\n",
       "    }\n",
       "\n",
       "    .dataframe tbody tr th {\n",
       "        vertical-align: top;\n",
       "    }\n",
       "\n",
       "    .dataframe thead th {\n",
       "        text-align: right;\n",
       "    }\n",
       "</style>\n",
       "<table border=\"1\" class=\"dataframe\">\n",
       "  <thead>\n",
       "    <tr style=\"text-align: right;\">\n",
       "      <th></th>\n",
       "      <th>0</th>\n",
       "      <th>1</th>\n",
       "      <th>2</th>\n",
       "      <th>3</th>\n",
       "      <th>4</th>\n",
       "      <th>5</th>\n",
       "      <th>6</th>\n",
       "      <th>7</th>\n",
       "      <th>8</th>\n",
       "      <th>9</th>\n",
       "      <th>...</th>\n",
       "      <th>90</th>\n",
       "      <th>91</th>\n",
       "      <th>92</th>\n",
       "      <th>93</th>\n",
       "      <th>94</th>\n",
       "      <th>95</th>\n",
       "      <th>96</th>\n",
       "      <th>97</th>\n",
       "      <th>98</th>\n",
       "      <th>99</th>\n",
       "    </tr>\n",
       "  </thead>\n",
       "  <tbody>\n",
       "    <tr>\n",
       "      <th>0</th>\n",
       "      <td>-2.062187</td>\n",
       "      <td>2.652629</td>\n",
       "      <td>4.980300</td>\n",
       "      <td>2.139690</td>\n",
       "      <td>-1.602544</td>\n",
       "      <td>-0.627224</td>\n",
       "      <td>-2.215872</td>\n",
       "      <td>1.320299</td>\n",
       "      <td>10.684332</td>\n",
       "      <td>-0.312572</td>\n",
       "      <td>...</td>\n",
       "      <td>-4.378124</td>\n",
       "      <td>-4.848419</td>\n",
       "      <td>0.519658</td>\n",
       "      <td>1.753211</td>\n",
       "      <td>74.898305</td>\n",
       "      <td>-3.897641</td>\n",
       "      <td>0.170642</td>\n",
       "      <td>1.655469</td>\n",
       "      <td>-3.246920</td>\n",
       "      <td>0.924213</td>\n",
       "    </tr>\n",
       "    <tr>\n",
       "      <th>1</th>\n",
       "      <td>-0.816783</td>\n",
       "      <td>-0.655444</td>\n",
       "      <td>-5.973452</td>\n",
       "      <td>0.267592</td>\n",
       "      <td>51.537249</td>\n",
       "      <td>0.189146</td>\n",
       "      <td>2.407347</td>\n",
       "      <td>0.037959</td>\n",
       "      <td>-3.983387</td>\n",
       "      <td>1.581811</td>\n",
       "      <td>...</td>\n",
       "      <td>-2.312995</td>\n",
       "      <td>791.369899</td>\n",
       "      <td>-0.454800</td>\n",
       "      <td>0.884469</td>\n",
       "      <td>-6.572774</td>\n",
       "      <td>-7.780174</td>\n",
       "      <td>7.560844</td>\n",
       "      <td>-2.632137</td>\n",
       "      <td>3.652286</td>\n",
       "      <td>2.291073</td>\n",
       "    </tr>\n",
       "    <tr>\n",
       "      <th>2</th>\n",
       "      <td>0.969070</td>\n",
       "      <td>-2.644673</td>\n",
       "      <td>-1.512008</td>\n",
       "      <td>0.965527</td>\n",
       "      <td>0.625778</td>\n",
       "      <td>2.259248</td>\n",
       "      <td>-0.923807</td>\n",
       "      <td>-1.181028</td>\n",
       "      <td>-0.601291</td>\n",
       "      <td>2.315596</td>\n",
       "      <td>...</td>\n",
       "      <td>0.348154</td>\n",
       "      <td>3.590523</td>\n",
       "      <td>-3.904637</td>\n",
       "      <td>-1.166786</td>\n",
       "      <td>0.182846</td>\n",
       "      <td>-0.979982</td>\n",
       "      <td>3.865090</td>\n",
       "      <td>-0.850729</td>\n",
       "      <td>-3.379885</td>\n",
       "      <td>-1.008932</td>\n",
       "    </tr>\n",
       "    <tr>\n",
       "      <th>3</th>\n",
       "      <td>4.976576</td>\n",
       "      <td>-0.985036</td>\n",
       "      <td>-0.474501</td>\n",
       "      <td>-0.665369</td>\n",
       "      <td>2.175882</td>\n",
       "      <td>-7.454850</td>\n",
       "      <td>0.180508</td>\n",
       "      <td>6.783729</td>\n",
       "      <td>-1.628206</td>\n",
       "      <td>-0.641968</td>\n",
       "      <td>...</td>\n",
       "      <td>-0.977737</td>\n",
       "      <td>0.677885</td>\n",
       "      <td>0.245173</td>\n",
       "      <td>-0.074130</td>\n",
       "      <td>1.689288</td>\n",
       "      <td>0.715807</td>\n",
       "      <td>2.676736</td>\n",
       "      <td>2.514096</td>\n",
       "      <td>-6.152811</td>\n",
       "      <td>-3.214402</td>\n",
       "    </tr>\n",
       "    <tr>\n",
       "      <th>4</th>\n",
       "      <td>-1.336823</td>\n",
       "      <td>-7.797253</td>\n",
       "      <td>0.273747</td>\n",
       "      <td>2.390426</td>\n",
       "      <td>8.091452</td>\n",
       "      <td>-5.757350</td>\n",
       "      <td>1.305063</td>\n",
       "      <td>1.775400</td>\n",
       "      <td>-0.649304</td>\n",
       "      <td>-3.123965</td>\n",
       "      <td>...</td>\n",
       "      <td>0.926734</td>\n",
       "      <td>0.769919</td>\n",
       "      <td>-9.567607</td>\n",
       "      <td>-2.492863</td>\n",
       "      <td>-0.923274</td>\n",
       "      <td>1.449439</td>\n",
       "      <td>-1.958739</td>\n",
       "      <td>1.827754</td>\n",
       "      <td>0.412697</td>\n",
       "      <td>3.217012</td>\n",
       "    </tr>\n",
       "    <tr>\n",
       "      <th>...</th>\n",
       "      <td>...</td>\n",
       "      <td>...</td>\n",
       "      <td>...</td>\n",
       "      <td>...</td>\n",
       "      <td>...</td>\n",
       "      <td>...</td>\n",
       "      <td>...</td>\n",
       "      <td>...</td>\n",
       "      <td>...</td>\n",
       "      <td>...</td>\n",
       "      <td>...</td>\n",
       "      <td>...</td>\n",
       "      <td>...</td>\n",
       "      <td>...</td>\n",
       "      <td>...</td>\n",
       "      <td>...</td>\n",
       "      <td>...</td>\n",
       "      <td>...</td>\n",
       "      <td>...</td>\n",
       "      <td>...</td>\n",
       "      <td>...</td>\n",
       "    </tr>\n",
       "    <tr>\n",
       "      <th>99995</th>\n",
       "      <td>-1.089232</td>\n",
       "      <td>-6.936742</td>\n",
       "      <td>1.259896</td>\n",
       "      <td>1.033288</td>\n",
       "      <td>-2.030108</td>\n",
       "      <td>0.388080</td>\n",
       "      <td>1.332277</td>\n",
       "      <td>0.539227</td>\n",
       "      <td>-1.128019</td>\n",
       "      <td>-1.473425</td>\n",
       "      <td>...</td>\n",
       "      <td>-18.571773</td>\n",
       "      <td>0.090512</td>\n",
       "      <td>-1.866536</td>\n",
       "      <td>3.711762</td>\n",
       "      <td>-1.009828</td>\n",
       "      <td>-1.107419</td>\n",
       "      <td>0.063171</td>\n",
       "      <td>0.532609</td>\n",
       "      <td>-13.858761</td>\n",
       "      <td>-69.211219</td>\n",
       "    </tr>\n",
       "    <tr>\n",
       "      <th>99996</th>\n",
       "      <td>10.920879</td>\n",
       "      <td>1.740719</td>\n",
       "      <td>-0.055152</td>\n",
       "      <td>-0.051854</td>\n",
       "      <td>-9.810960</td>\n",
       "      <td>-1.353868</td>\n",
       "      <td>2.217714</td>\n",
       "      <td>0.160597</td>\n",
       "      <td>-0.017868</td>\n",
       "      <td>0.554034</td>\n",
       "      <td>...</td>\n",
       "      <td>5.368351</td>\n",
       "      <td>0.409813</td>\n",
       "      <td>-2.380903</td>\n",
       "      <td>0.394155</td>\n",
       "      <td>-0.159474</td>\n",
       "      <td>-5.868232</td>\n",
       "      <td>-1.791293</td>\n",
       "      <td>-1.704740</td>\n",
       "      <td>0.948516</td>\n",
       "      <td>-1.846769</td>\n",
       "    </tr>\n",
       "    <tr>\n",
       "      <th>99997</th>\n",
       "      <td>-1.625064</td>\n",
       "      <td>-0.626945</td>\n",
       "      <td>-0.287079</td>\n",
       "      <td>0.674776</td>\n",
       "      <td>0.950174</td>\n",
       "      <td>-2.685941</td>\n",
       "      <td>-0.692071</td>\n",
       "      <td>-1.840357</td>\n",
       "      <td>-3.188209</td>\n",
       "      <td>-1.091987</td>\n",
       "      <td>...</td>\n",
       "      <td>1.350714</td>\n",
       "      <td>0.709999</td>\n",
       "      <td>0.504739</td>\n",
       "      <td>0.989039</td>\n",
       "      <td>-3.476572</td>\n",
       "      <td>3.838271</td>\n",
       "      <td>-1.278188</td>\n",
       "      <td>-2.640193</td>\n",
       "      <td>-0.517498</td>\n",
       "      <td>9.784832</td>\n",
       "    </tr>\n",
       "    <tr>\n",
       "      <th>99998</th>\n",
       "      <td>-0.014597</td>\n",
       "      <td>1.007785</td>\n",
       "      <td>-21.095094</td>\n",
       "      <td>3.593985</td>\n",
       "      <td>-2.082536</td>\n",
       "      <td>2.382687</td>\n",
       "      <td>1.689739</td>\n",
       "      <td>-2.675452</td>\n",
       "      <td>1.605033</td>\n",
       "      <td>-7.751373</td>\n",
       "      <td>...</td>\n",
       "      <td>1.505546</td>\n",
       "      <td>-0.652271</td>\n",
       "      <td>-157.516054</td>\n",
       "      <td>-0.421702</td>\n",
       "      <td>-1.110249</td>\n",
       "      <td>-0.912743</td>\n",
       "      <td>3.980201</td>\n",
       "      <td>-6.774522</td>\n",
       "      <td>-3.357197</td>\n",
       "      <td>0.835255</td>\n",
       "    </tr>\n",
       "    <tr>\n",
       "      <th>99999</th>\n",
       "      <td>1.522628</td>\n",
       "      <td>-4.004126</td>\n",
       "      <td>-0.941249</td>\n",
       "      <td>-0.453911</td>\n",
       "      <td>-0.881993</td>\n",
       "      <td>-0.749247</td>\n",
       "      <td>-2.637693</td>\n",
       "      <td>-1.188668</td>\n",
       "      <td>1.830179</td>\n",
       "      <td>1.243300</td>\n",
       "      <td>...</td>\n",
       "      <td>2.074476</td>\n",
       "      <td>-0.722055</td>\n",
       "      <td>-1.118333</td>\n",
       "      <td>-2.257821</td>\n",
       "      <td>0.678403</td>\n",
       "      <td>3.146432</td>\n",
       "      <td>-0.305444</td>\n",
       "      <td>1.573797</td>\n",
       "      <td>-2.588797</td>\n",
       "      <td>-2.043795</td>\n",
       "    </tr>\n",
       "  </tbody>\n",
       "</table>\n",
       "<p>100000 rows × 100 columns</p>\n",
       "</div>"
      ],
      "text/plain": [
       "              0         1          2         3          4         5   \\\n",
       "0      -2.062187  2.652629   4.980300  2.139690  -1.602544 -0.627224   \n",
       "1      -0.816783 -0.655444  -5.973452  0.267592  51.537249  0.189146   \n",
       "2       0.969070 -2.644673  -1.512008  0.965527   0.625778  2.259248   \n",
       "3       4.976576 -0.985036  -0.474501 -0.665369   2.175882 -7.454850   \n",
       "4      -1.336823 -7.797253   0.273747  2.390426   8.091452 -5.757350   \n",
       "...          ...       ...        ...       ...        ...       ...   \n",
       "99995  -1.089232 -6.936742   1.259896  1.033288  -2.030108  0.388080   \n",
       "99996  10.920879  1.740719  -0.055152 -0.051854  -9.810960 -1.353868   \n",
       "99997  -1.625064 -0.626945  -0.287079  0.674776   0.950174 -2.685941   \n",
       "99998  -0.014597  1.007785 -21.095094  3.593985  -2.082536  2.382687   \n",
       "99999   1.522628 -4.004126  -0.941249 -0.453911  -0.881993 -0.749247   \n",
       "\n",
       "             6         7          8         9   ...         90          91  \\\n",
       "0     -2.215872  1.320299  10.684332 -0.312572  ...  -4.378124   -4.848419   \n",
       "1      2.407347  0.037959  -3.983387  1.581811  ...  -2.312995  791.369899   \n",
       "2     -0.923807 -1.181028  -0.601291  2.315596  ...   0.348154    3.590523   \n",
       "3      0.180508  6.783729  -1.628206 -0.641968  ...  -0.977737    0.677885   \n",
       "4      1.305063  1.775400  -0.649304 -3.123965  ...   0.926734    0.769919   \n",
       "...         ...       ...        ...       ...  ...        ...         ...   \n",
       "99995  1.332277  0.539227  -1.128019 -1.473425  ... -18.571773    0.090512   \n",
       "99996  2.217714  0.160597  -0.017868  0.554034  ...   5.368351    0.409813   \n",
       "99997 -0.692071 -1.840357  -3.188209 -1.091987  ...   1.350714    0.709999   \n",
       "99998  1.689739 -2.675452   1.605033 -7.751373  ...   1.505546   -0.652271   \n",
       "99999 -2.637693 -1.188668   1.830179  1.243300  ...   2.074476   -0.722055   \n",
       "\n",
       "               92        93         94        95        96        97  \\\n",
       "0        0.519658  1.753211  74.898305 -3.897641  0.170642  1.655469   \n",
       "1       -0.454800  0.884469  -6.572774 -7.780174  7.560844 -2.632137   \n",
       "2       -3.904637 -1.166786   0.182846 -0.979982  3.865090 -0.850729   \n",
       "3        0.245173 -0.074130   1.689288  0.715807  2.676736  2.514096   \n",
       "4       -9.567607 -2.492863  -0.923274  1.449439 -1.958739  1.827754   \n",
       "...           ...       ...        ...       ...       ...       ...   \n",
       "99995   -1.866536  3.711762  -1.009828 -1.107419  0.063171  0.532609   \n",
       "99996   -2.380903  0.394155  -0.159474 -5.868232 -1.791293 -1.704740   \n",
       "99997    0.504739  0.989039  -3.476572  3.838271 -1.278188 -2.640193   \n",
       "99998 -157.516054 -0.421702  -1.110249 -0.912743  3.980201 -6.774522   \n",
       "99999   -1.118333 -2.257821   0.678403  3.146432 -0.305444  1.573797   \n",
       "\n",
       "              98         99  \n",
       "0      -3.246920   0.924213  \n",
       "1       3.652286   2.291073  \n",
       "2      -3.379885  -1.008932  \n",
       "3      -6.152811  -3.214402  \n",
       "4       0.412697   3.217012  \n",
       "...          ...        ...  \n",
       "99995 -13.858761 -69.211219  \n",
       "99996   0.948516  -1.846769  \n",
       "99997  -0.517498   9.784832  \n",
       "99998  -3.357197   0.835255  \n",
       "99999  -2.588797  -2.043795  \n",
       "\n",
       "[100000 rows x 100 columns]"
      ]
     },
     "execution_count": 11,
     "metadata": {},
     "output_type": "execute_result"
    }
   ],
   "source": [
    "pd.eval('df1 + df2 - df3 / df4')"
   ]
  },
  {
   "cell_type": "code",
   "execution_count": 15,
   "metadata": {
    "scrolled": true
   },
   "outputs": [
    {
     "data": {
      "text/html": [
       "<div>\n",
       "<style scoped>\n",
       "    .dataframe tbody tr th:only-of-type {\n",
       "        vertical-align: middle;\n",
       "    }\n",
       "\n",
       "    .dataframe tbody tr th {\n",
       "        vertical-align: top;\n",
       "    }\n",
       "\n",
       "    .dataframe thead th {\n",
       "        text-align: right;\n",
       "    }\n",
       "</style>\n",
       "<table border=\"1\" class=\"dataframe\">\n",
       "  <thead>\n",
       "    <tr style=\"text-align: right;\">\n",
       "      <th></th>\n",
       "      <th>A</th>\n",
       "      <th>B</th>\n",
       "      <th>C</th>\n",
       "      <th>D</th>\n",
       "    </tr>\n",
       "  </thead>\n",
       "  <tbody>\n",
       "    <tr>\n",
       "      <th>0</th>\n",
       "      <td>0.468116</td>\n",
       "      <td>0.727914</td>\n",
       "      <td>-1.042124</td>\n",
       "      <td>1.532085</td>\n",
       "    </tr>\n",
       "    <tr>\n",
       "      <th>1</th>\n",
       "      <td>-0.335058</td>\n",
       "      <td>1.066467</td>\n",
       "      <td>-0.005903</td>\n",
       "      <td>0.069709</td>\n",
       "    </tr>\n",
       "    <tr>\n",
       "      <th>2</th>\n",
       "      <td>-0.336378</td>\n",
       "      <td>0.153801</td>\n",
       "      <td>0.187738</td>\n",
       "      <td>0.063746</td>\n",
       "    </tr>\n",
       "    <tr>\n",
       "      <th>3</th>\n",
       "      <td>-0.379191</td>\n",
       "      <td>0.479328</td>\n",
       "      <td>-0.241734</td>\n",
       "      <td>-0.580085</td>\n",
       "    </tr>\n",
       "    <tr>\n",
       "      <th>4</th>\n",
       "      <td>0.639351</td>\n",
       "      <td>-1.504349</td>\n",
       "      <td>0.561449</td>\n",
       "      <td>1.120917</td>\n",
       "    </tr>\n",
       "  </tbody>\n",
       "</table>\n",
       "</div>"
      ],
      "text/plain": [
       "          A         B         C         D\n",
       "0  0.468116  0.727914 -1.042124  1.532085\n",
       "1 -0.335058  1.066467 -0.005903  0.069709\n",
       "2 -0.336378  0.153801  0.187738  0.063746\n",
       "3 -0.379191  0.479328 -0.241734 -0.580085\n",
       "4  0.639351 -1.504349  0.561449  1.120917"
      ]
     },
     "execution_count": 15,
     "metadata": {},
     "output_type": "execute_result"
    }
   ],
   "source": [
    "df = pd.DataFrame(np.random.randn(100,4), \n",
    "                 columns=list('ABCD'))\n",
    "df.head()"
   ]
  },
  {
   "cell_type": "code",
   "execution_count": 17,
   "metadata": {
    "scrolled": true
   },
   "outputs": [
    {
     "data": {
      "text/plain": [
       "0     0.468116\n",
       "1    -0.335058\n",
       "2    -0.336378\n",
       "3    -0.379191\n",
       "4     0.639351\n",
       "        ...   \n",
       "95   -2.237527\n",
       "96    0.628829\n",
       "97    0.223733\n",
       "98   -0.704893\n",
       "99   -0.518390\n",
       "Name: A, Length: 100, dtype: float64"
      ]
     },
     "execution_count": 17,
     "metadata": {},
     "output_type": "execute_result"
    }
   ],
   "source": [
    "df.A ### df['A']"
   ]
  },
  {
   "cell_type": "code",
   "execution_count": 18,
   "metadata": {},
   "outputs": [
    {
     "data": {
      "text/plain": [
       "0     1.685991\n",
       "1     0.795214\n",
       "2     0.068906\n",
       "3    -0.721683\n",
       "4     0.817368\n",
       "        ...   \n",
       "95    0.886191\n",
       "96   -0.251228\n",
       "97    0.473100\n",
       "98   -0.355611\n",
       "99    0.301006\n",
       "Length: 100, dtype: float64"
      ]
     },
     "execution_count": 18,
     "metadata": {},
     "output_type": "execute_result"
    }
   ],
   "source": [
    "pd.eval(' df.A + df.B + df.C + df.D ')"
   ]
  },
  {
   "cell_type": "code",
   "execution_count": 21,
   "metadata": {
    "scrolled": true
   },
   "outputs": [
    {
     "data": {
      "text/plain": [
       "0     1.685991\n",
       "1     0.795214\n",
       "2     0.068906\n",
       "3    -0.721683\n",
       "4     0.817368\n",
       "        ...   \n",
       "95    0.886191\n",
       "96   -0.251228\n",
       "97    0.473100\n",
       "98   -0.355611\n",
       "99    0.301006\n",
       "Length: 100, dtype: float64"
      ]
     },
     "execution_count": 21,
     "metadata": {},
     "output_type": "execute_result"
    }
   ],
   "source": [
    "df.eval(' A + B + C + D ')"
   ]
  },
  {
   "cell_type": "markdown",
   "metadata": {},
   "source": [
    "`query()`"
   ]
  },
  {
   "cell_type": "code",
   "execution_count": 24,
   "metadata": {
    "scrolled": true
   },
   "outputs": [
    {
     "data": {
      "text/html": [
       "<div>\n",
       "<style scoped>\n",
       "    .dataframe tbody tr th:only-of-type {\n",
       "        vertical-align: middle;\n",
       "    }\n",
       "\n",
       "    .dataframe tbody tr th {\n",
       "        vertical-align: top;\n",
       "    }\n",
       "\n",
       "    .dataframe thead th {\n",
       "        text-align: right;\n",
       "    }\n",
       "</style>\n",
       "<table border=\"1\" class=\"dataframe\">\n",
       "  <thead>\n",
       "    <tr style=\"text-align: right;\">\n",
       "      <th></th>\n",
       "      <th>A</th>\n",
       "      <th>B</th>\n",
       "      <th>C</th>\n",
       "      <th>D</th>\n",
       "    </tr>\n",
       "  </thead>\n",
       "  <tbody>\n",
       "    <tr>\n",
       "      <th>0</th>\n",
       "      <td>0.468116</td>\n",
       "      <td>0.727914</td>\n",
       "      <td>-1.042124</td>\n",
       "      <td>1.532085</td>\n",
       "    </tr>\n",
       "    <tr>\n",
       "      <th>4</th>\n",
       "      <td>0.639351</td>\n",
       "      <td>-1.504349</td>\n",
       "      <td>0.561449</td>\n",
       "      <td>1.120917</td>\n",
       "    </tr>\n",
       "    <tr>\n",
       "      <th>5</th>\n",
       "      <td>1.139319</td>\n",
       "      <td>0.880233</td>\n",
       "      <td>-2.121008</td>\n",
       "      <td>0.094869</td>\n",
       "    </tr>\n",
       "    <tr>\n",
       "      <th>7</th>\n",
       "      <td>1.797316</td>\n",
       "      <td>1.320260</td>\n",
       "      <td>0.842888</td>\n",
       "      <td>1.640422</td>\n",
       "    </tr>\n",
       "    <tr>\n",
       "      <th>8</th>\n",
       "      <td>0.896035</td>\n",
       "      <td>-0.302972</td>\n",
       "      <td>-1.283640</td>\n",
       "      <td>0.478745</td>\n",
       "    </tr>\n",
       "    <tr>\n",
       "      <th>10</th>\n",
       "      <td>0.339444</td>\n",
       "      <td>-0.522488</td>\n",
       "      <td>-0.249035</td>\n",
       "      <td>1.732643</td>\n",
       "    </tr>\n",
       "    <tr>\n",
       "      <th>12</th>\n",
       "      <td>0.421559</td>\n",
       "      <td>1.829282</td>\n",
       "      <td>-0.465249</td>\n",
       "      <td>-0.419592</td>\n",
       "    </tr>\n",
       "    <tr>\n",
       "      <th>13</th>\n",
       "      <td>0.863134</td>\n",
       "      <td>0.221408</td>\n",
       "      <td>-0.512303</td>\n",
       "      <td>0.561401</td>\n",
       "    </tr>\n",
       "    <tr>\n",
       "      <th>15</th>\n",
       "      <td>0.456254</td>\n",
       "      <td>-0.270838</td>\n",
       "      <td>1.865521</td>\n",
       "      <td>-0.635997</td>\n",
       "    </tr>\n",
       "    <tr>\n",
       "      <th>16</th>\n",
       "      <td>0.585512</td>\n",
       "      <td>-0.521221</td>\n",
       "      <td>1.415940</td>\n",
       "      <td>0.057755</td>\n",
       "    </tr>\n",
       "    <tr>\n",
       "      <th>18</th>\n",
       "      <td>1.254958</td>\n",
       "      <td>-0.086674</td>\n",
       "      <td>0.666108</td>\n",
       "      <td>-0.179936</td>\n",
       "    </tr>\n",
       "    <tr>\n",
       "      <th>19</th>\n",
       "      <td>0.172150</td>\n",
       "      <td>0.614698</td>\n",
       "      <td>0.285030</td>\n",
       "      <td>1.125211</td>\n",
       "    </tr>\n",
       "    <tr>\n",
       "      <th>22</th>\n",
       "      <td>0.904440</td>\n",
       "      <td>1.031435</td>\n",
       "      <td>-1.402701</td>\n",
       "      <td>2.258773</td>\n",
       "    </tr>\n",
       "    <tr>\n",
       "      <th>24</th>\n",
       "      <td>0.498638</td>\n",
       "      <td>0.394398</td>\n",
       "      <td>0.346137</td>\n",
       "      <td>-0.635885</td>\n",
       "    </tr>\n",
       "    <tr>\n",
       "      <th>29</th>\n",
       "      <td>0.969078</td>\n",
       "      <td>0.416639</td>\n",
       "      <td>-1.056063</td>\n",
       "      <td>-0.478506</td>\n",
       "    </tr>\n",
       "    <tr>\n",
       "      <th>30</th>\n",
       "      <td>0.282493</td>\n",
       "      <td>1.371601</td>\n",
       "      <td>0.033436</td>\n",
       "      <td>0.731605</td>\n",
       "    </tr>\n",
       "    <tr>\n",
       "      <th>33</th>\n",
       "      <td>0.617111</td>\n",
       "      <td>0.244328</td>\n",
       "      <td>-0.713104</td>\n",
       "      <td>1.511324</td>\n",
       "    </tr>\n",
       "    <tr>\n",
       "      <th>34</th>\n",
       "      <td>0.781663</td>\n",
       "      <td>-0.240414</td>\n",
       "      <td>-1.095982</td>\n",
       "      <td>1.656772</td>\n",
       "    </tr>\n",
       "    <tr>\n",
       "      <th>38</th>\n",
       "      <td>0.798013</td>\n",
       "      <td>-0.059424</td>\n",
       "      <td>-0.287552</td>\n",
       "      <td>0.202814</td>\n",
       "    </tr>\n",
       "    <tr>\n",
       "      <th>39</th>\n",
       "      <td>0.200599</td>\n",
       "      <td>-0.854046</td>\n",
       "      <td>0.657007</td>\n",
       "      <td>-1.325841</td>\n",
       "    </tr>\n",
       "    <tr>\n",
       "      <th>40</th>\n",
       "      <td>0.840989</td>\n",
       "      <td>0.815435</td>\n",
       "      <td>-1.093338</td>\n",
       "      <td>-0.097608</td>\n",
       "    </tr>\n",
       "    <tr>\n",
       "      <th>55</th>\n",
       "      <td>0.585450</td>\n",
       "      <td>-0.780606</td>\n",
       "      <td>0.076710</td>\n",
       "      <td>-1.732150</td>\n",
       "    </tr>\n",
       "    <tr>\n",
       "      <th>56</th>\n",
       "      <td>0.666489</td>\n",
       "      <td>-0.271554</td>\n",
       "      <td>-0.189705</td>\n",
       "      <td>1.420916</td>\n",
       "    </tr>\n",
       "    <tr>\n",
       "      <th>57</th>\n",
       "      <td>1.209022</td>\n",
       "      <td>1.621435</td>\n",
       "      <td>1.371824</td>\n",
       "      <td>1.247801</td>\n",
       "    </tr>\n",
       "    <tr>\n",
       "      <th>58</th>\n",
       "      <td>0.187194</td>\n",
       "      <td>1.394923</td>\n",
       "      <td>1.129562</td>\n",
       "      <td>-0.235603</td>\n",
       "    </tr>\n",
       "    <tr>\n",
       "      <th>59</th>\n",
       "      <td>1.732496</td>\n",
       "      <td>0.169720</td>\n",
       "      <td>-0.676698</td>\n",
       "      <td>1.008637</td>\n",
       "    </tr>\n",
       "    <tr>\n",
       "      <th>65</th>\n",
       "      <td>0.275208</td>\n",
       "      <td>1.024219</td>\n",
       "      <td>0.452849</td>\n",
       "      <td>0.757448</td>\n",
       "    </tr>\n",
       "    <tr>\n",
       "      <th>66</th>\n",
       "      <td>0.872049</td>\n",
       "      <td>-1.776226</td>\n",
       "      <td>1.811907</td>\n",
       "      <td>0.820232</td>\n",
       "    </tr>\n",
       "    <tr>\n",
       "      <th>67</th>\n",
       "      <td>1.423914</td>\n",
       "      <td>0.109174</td>\n",
       "      <td>1.794722</td>\n",
       "      <td>1.283392</td>\n",
       "    </tr>\n",
       "    <tr>\n",
       "      <th>68</th>\n",
       "      <td>1.491760</td>\n",
       "      <td>-1.304709</td>\n",
       "      <td>-0.842416</td>\n",
       "      <td>-0.959453</td>\n",
       "    </tr>\n",
       "    <tr>\n",
       "      <th>70</th>\n",
       "      <td>1.763160</td>\n",
       "      <td>0.897295</td>\n",
       "      <td>0.114292</td>\n",
       "      <td>0.012005</td>\n",
       "    </tr>\n",
       "    <tr>\n",
       "      <th>72</th>\n",
       "      <td>0.215086</td>\n",
       "      <td>-0.047135</td>\n",
       "      <td>-0.173511</td>\n",
       "      <td>0.030278</td>\n",
       "    </tr>\n",
       "    <tr>\n",
       "      <th>74</th>\n",
       "      <td>0.514769</td>\n",
       "      <td>0.297702</td>\n",
       "      <td>0.200287</td>\n",
       "      <td>1.111143</td>\n",
       "    </tr>\n",
       "    <tr>\n",
       "      <th>76</th>\n",
       "      <td>1.063708</td>\n",
       "      <td>0.649123</td>\n",
       "      <td>-1.834716</td>\n",
       "      <td>-1.438720</td>\n",
       "    </tr>\n",
       "    <tr>\n",
       "      <th>77</th>\n",
       "      <td>0.134570</td>\n",
       "      <td>-1.470564</td>\n",
       "      <td>0.888105</td>\n",
       "      <td>0.878431</td>\n",
       "    </tr>\n",
       "    <tr>\n",
       "      <th>78</th>\n",
       "      <td>0.756737</td>\n",
       "      <td>-0.781125</td>\n",
       "      <td>-0.429401</td>\n",
       "      <td>-1.027867</td>\n",
       "    </tr>\n",
       "    <tr>\n",
       "      <th>83</th>\n",
       "      <td>0.535350</td>\n",
       "      <td>1.011784</td>\n",
       "      <td>-0.774278</td>\n",
       "      <td>-1.472242</td>\n",
       "    </tr>\n",
       "    <tr>\n",
       "      <th>84</th>\n",
       "      <td>0.885752</td>\n",
       "      <td>0.117140</td>\n",
       "      <td>-1.673529</td>\n",
       "      <td>-0.462761</td>\n",
       "    </tr>\n",
       "    <tr>\n",
       "      <th>88</th>\n",
       "      <td>0.317772</td>\n",
       "      <td>0.444891</td>\n",
       "      <td>1.004420</td>\n",
       "      <td>-0.687517</td>\n",
       "    </tr>\n",
       "    <tr>\n",
       "      <th>89</th>\n",
       "      <td>1.189945</td>\n",
       "      <td>-0.663718</td>\n",
       "      <td>-0.203158</td>\n",
       "      <td>-1.043514</td>\n",
       "    </tr>\n",
       "    <tr>\n",
       "      <th>91</th>\n",
       "      <td>0.684324</td>\n",
       "      <td>0.704299</td>\n",
       "      <td>-1.135362</td>\n",
       "      <td>-0.620382</td>\n",
       "    </tr>\n",
       "    <tr>\n",
       "      <th>92</th>\n",
       "      <td>0.437311</td>\n",
       "      <td>-1.909173</td>\n",
       "      <td>0.147226</td>\n",
       "      <td>0.200887</td>\n",
       "    </tr>\n",
       "    <tr>\n",
       "      <th>94</th>\n",
       "      <td>0.790474</td>\n",
       "      <td>-0.199975</td>\n",
       "      <td>1.978910</td>\n",
       "      <td>-0.527775</td>\n",
       "    </tr>\n",
       "    <tr>\n",
       "      <th>96</th>\n",
       "      <td>0.628829</td>\n",
       "      <td>0.550148</td>\n",
       "      <td>-1.016270</td>\n",
       "      <td>-0.413935</td>\n",
       "    </tr>\n",
       "    <tr>\n",
       "      <th>97</th>\n",
       "      <td>0.223733</td>\n",
       "      <td>-0.714509</td>\n",
       "      <td>0.693081</td>\n",
       "      <td>0.270794</td>\n",
       "    </tr>\n",
       "  </tbody>\n",
       "</table>\n",
       "</div>"
      ],
      "text/plain": [
       "           A         B         C         D\n",
       "0   0.468116  0.727914 -1.042124  1.532085\n",
       "4   0.639351 -1.504349  0.561449  1.120917\n",
       "5   1.139319  0.880233 -2.121008  0.094869\n",
       "7   1.797316  1.320260  0.842888  1.640422\n",
       "8   0.896035 -0.302972 -1.283640  0.478745\n",
       "10  0.339444 -0.522488 -0.249035  1.732643\n",
       "12  0.421559  1.829282 -0.465249 -0.419592\n",
       "13  0.863134  0.221408 -0.512303  0.561401\n",
       "15  0.456254 -0.270838  1.865521 -0.635997\n",
       "16  0.585512 -0.521221  1.415940  0.057755\n",
       "18  1.254958 -0.086674  0.666108 -0.179936\n",
       "19  0.172150  0.614698  0.285030  1.125211\n",
       "22  0.904440  1.031435 -1.402701  2.258773\n",
       "24  0.498638  0.394398  0.346137 -0.635885\n",
       "29  0.969078  0.416639 -1.056063 -0.478506\n",
       "30  0.282493  1.371601  0.033436  0.731605\n",
       "33  0.617111  0.244328 -0.713104  1.511324\n",
       "34  0.781663 -0.240414 -1.095982  1.656772\n",
       "38  0.798013 -0.059424 -0.287552  0.202814\n",
       "39  0.200599 -0.854046  0.657007 -1.325841\n",
       "40  0.840989  0.815435 -1.093338 -0.097608\n",
       "55  0.585450 -0.780606  0.076710 -1.732150\n",
       "56  0.666489 -0.271554 -0.189705  1.420916\n",
       "57  1.209022  1.621435  1.371824  1.247801\n",
       "58  0.187194  1.394923  1.129562 -0.235603\n",
       "59  1.732496  0.169720 -0.676698  1.008637\n",
       "65  0.275208  1.024219  0.452849  0.757448\n",
       "66  0.872049 -1.776226  1.811907  0.820232\n",
       "67  1.423914  0.109174  1.794722  1.283392\n",
       "68  1.491760 -1.304709 -0.842416 -0.959453\n",
       "70  1.763160  0.897295  0.114292  0.012005\n",
       "72  0.215086 -0.047135 -0.173511  0.030278\n",
       "74  0.514769  0.297702  0.200287  1.111143\n",
       "76  1.063708  0.649123 -1.834716 -1.438720\n",
       "77  0.134570 -1.470564  0.888105  0.878431\n",
       "78  0.756737 -0.781125 -0.429401 -1.027867\n",
       "83  0.535350  1.011784 -0.774278 -1.472242\n",
       "84  0.885752  0.117140 -1.673529 -0.462761\n",
       "88  0.317772  0.444891  1.004420 -0.687517\n",
       "89  1.189945 -0.663718 -0.203158 -1.043514\n",
       "91  0.684324  0.704299 -1.135362 -0.620382\n",
       "92  0.437311 -1.909173  0.147226  0.200887\n",
       "94  0.790474 -0.199975  1.978910 -0.527775\n",
       "96  0.628829  0.550148 -1.016270 -0.413935\n",
       "97  0.223733 -0.714509  0.693081  0.270794"
      ]
     },
     "execution_count": 24,
     "metadata": {},
     "output_type": "execute_result"
    }
   ],
   "source": [
    "df[ df.A > 0 ]"
   ]
  },
  {
   "cell_type": "code",
   "execution_count": 25,
   "metadata": {},
   "outputs": [
    {
     "data": {
      "text/html": [
       "<div>\n",
       "<style scoped>\n",
       "    .dataframe tbody tr th:only-of-type {\n",
       "        vertical-align: middle;\n",
       "    }\n",
       "\n",
       "    .dataframe tbody tr th {\n",
       "        vertical-align: top;\n",
       "    }\n",
       "\n",
       "    .dataframe thead th {\n",
       "        text-align: right;\n",
       "    }\n",
       "</style>\n",
       "<table border=\"1\" class=\"dataframe\">\n",
       "  <thead>\n",
       "    <tr style=\"text-align: right;\">\n",
       "      <th></th>\n",
       "      <th>A</th>\n",
       "      <th>B</th>\n",
       "      <th>C</th>\n",
       "      <th>D</th>\n",
       "    </tr>\n",
       "  </thead>\n",
       "  <tbody>\n",
       "    <tr>\n",
       "      <th>0</th>\n",
       "      <td>0.468116</td>\n",
       "      <td>0.727914</td>\n",
       "      <td>-1.042124</td>\n",
       "      <td>1.532085</td>\n",
       "    </tr>\n",
       "    <tr>\n",
       "      <th>4</th>\n",
       "      <td>0.639351</td>\n",
       "      <td>-1.504349</td>\n",
       "      <td>0.561449</td>\n",
       "      <td>1.120917</td>\n",
       "    </tr>\n",
       "    <tr>\n",
       "      <th>5</th>\n",
       "      <td>1.139319</td>\n",
       "      <td>0.880233</td>\n",
       "      <td>-2.121008</td>\n",
       "      <td>0.094869</td>\n",
       "    </tr>\n",
       "    <tr>\n",
       "      <th>7</th>\n",
       "      <td>1.797316</td>\n",
       "      <td>1.320260</td>\n",
       "      <td>0.842888</td>\n",
       "      <td>1.640422</td>\n",
       "    </tr>\n",
       "    <tr>\n",
       "      <th>8</th>\n",
       "      <td>0.896035</td>\n",
       "      <td>-0.302972</td>\n",
       "      <td>-1.283640</td>\n",
       "      <td>0.478745</td>\n",
       "    </tr>\n",
       "    <tr>\n",
       "      <th>10</th>\n",
       "      <td>0.339444</td>\n",
       "      <td>-0.522488</td>\n",
       "      <td>-0.249035</td>\n",
       "      <td>1.732643</td>\n",
       "    </tr>\n",
       "    <tr>\n",
       "      <th>12</th>\n",
       "      <td>0.421559</td>\n",
       "      <td>1.829282</td>\n",
       "      <td>-0.465249</td>\n",
       "      <td>-0.419592</td>\n",
       "    </tr>\n",
       "    <tr>\n",
       "      <th>13</th>\n",
       "      <td>0.863134</td>\n",
       "      <td>0.221408</td>\n",
       "      <td>-0.512303</td>\n",
       "      <td>0.561401</td>\n",
       "    </tr>\n",
       "    <tr>\n",
       "      <th>15</th>\n",
       "      <td>0.456254</td>\n",
       "      <td>-0.270838</td>\n",
       "      <td>1.865521</td>\n",
       "      <td>-0.635997</td>\n",
       "    </tr>\n",
       "    <tr>\n",
       "      <th>16</th>\n",
       "      <td>0.585512</td>\n",
       "      <td>-0.521221</td>\n",
       "      <td>1.415940</td>\n",
       "      <td>0.057755</td>\n",
       "    </tr>\n",
       "    <tr>\n",
       "      <th>18</th>\n",
       "      <td>1.254958</td>\n",
       "      <td>-0.086674</td>\n",
       "      <td>0.666108</td>\n",
       "      <td>-0.179936</td>\n",
       "    </tr>\n",
       "    <tr>\n",
       "      <th>19</th>\n",
       "      <td>0.172150</td>\n",
       "      <td>0.614698</td>\n",
       "      <td>0.285030</td>\n",
       "      <td>1.125211</td>\n",
       "    </tr>\n",
       "    <tr>\n",
       "      <th>22</th>\n",
       "      <td>0.904440</td>\n",
       "      <td>1.031435</td>\n",
       "      <td>-1.402701</td>\n",
       "      <td>2.258773</td>\n",
       "    </tr>\n",
       "    <tr>\n",
       "      <th>24</th>\n",
       "      <td>0.498638</td>\n",
       "      <td>0.394398</td>\n",
       "      <td>0.346137</td>\n",
       "      <td>-0.635885</td>\n",
       "    </tr>\n",
       "    <tr>\n",
       "      <th>29</th>\n",
       "      <td>0.969078</td>\n",
       "      <td>0.416639</td>\n",
       "      <td>-1.056063</td>\n",
       "      <td>-0.478506</td>\n",
       "    </tr>\n",
       "    <tr>\n",
       "      <th>30</th>\n",
       "      <td>0.282493</td>\n",
       "      <td>1.371601</td>\n",
       "      <td>0.033436</td>\n",
       "      <td>0.731605</td>\n",
       "    </tr>\n",
       "    <tr>\n",
       "      <th>33</th>\n",
       "      <td>0.617111</td>\n",
       "      <td>0.244328</td>\n",
       "      <td>-0.713104</td>\n",
       "      <td>1.511324</td>\n",
       "    </tr>\n",
       "    <tr>\n",
       "      <th>34</th>\n",
       "      <td>0.781663</td>\n",
       "      <td>-0.240414</td>\n",
       "      <td>-1.095982</td>\n",
       "      <td>1.656772</td>\n",
       "    </tr>\n",
       "    <tr>\n",
       "      <th>38</th>\n",
       "      <td>0.798013</td>\n",
       "      <td>-0.059424</td>\n",
       "      <td>-0.287552</td>\n",
       "      <td>0.202814</td>\n",
       "    </tr>\n",
       "    <tr>\n",
       "      <th>39</th>\n",
       "      <td>0.200599</td>\n",
       "      <td>-0.854046</td>\n",
       "      <td>0.657007</td>\n",
       "      <td>-1.325841</td>\n",
       "    </tr>\n",
       "    <tr>\n",
       "      <th>40</th>\n",
       "      <td>0.840989</td>\n",
       "      <td>0.815435</td>\n",
       "      <td>-1.093338</td>\n",
       "      <td>-0.097608</td>\n",
       "    </tr>\n",
       "    <tr>\n",
       "      <th>55</th>\n",
       "      <td>0.585450</td>\n",
       "      <td>-0.780606</td>\n",
       "      <td>0.076710</td>\n",
       "      <td>-1.732150</td>\n",
       "    </tr>\n",
       "    <tr>\n",
       "      <th>56</th>\n",
       "      <td>0.666489</td>\n",
       "      <td>-0.271554</td>\n",
       "      <td>-0.189705</td>\n",
       "      <td>1.420916</td>\n",
       "    </tr>\n",
       "    <tr>\n",
       "      <th>57</th>\n",
       "      <td>1.209022</td>\n",
       "      <td>1.621435</td>\n",
       "      <td>1.371824</td>\n",
       "      <td>1.247801</td>\n",
       "    </tr>\n",
       "    <tr>\n",
       "      <th>58</th>\n",
       "      <td>0.187194</td>\n",
       "      <td>1.394923</td>\n",
       "      <td>1.129562</td>\n",
       "      <td>-0.235603</td>\n",
       "    </tr>\n",
       "    <tr>\n",
       "      <th>59</th>\n",
       "      <td>1.732496</td>\n",
       "      <td>0.169720</td>\n",
       "      <td>-0.676698</td>\n",
       "      <td>1.008637</td>\n",
       "    </tr>\n",
       "    <tr>\n",
       "      <th>65</th>\n",
       "      <td>0.275208</td>\n",
       "      <td>1.024219</td>\n",
       "      <td>0.452849</td>\n",
       "      <td>0.757448</td>\n",
       "    </tr>\n",
       "    <tr>\n",
       "      <th>66</th>\n",
       "      <td>0.872049</td>\n",
       "      <td>-1.776226</td>\n",
       "      <td>1.811907</td>\n",
       "      <td>0.820232</td>\n",
       "    </tr>\n",
       "    <tr>\n",
       "      <th>67</th>\n",
       "      <td>1.423914</td>\n",
       "      <td>0.109174</td>\n",
       "      <td>1.794722</td>\n",
       "      <td>1.283392</td>\n",
       "    </tr>\n",
       "    <tr>\n",
       "      <th>68</th>\n",
       "      <td>1.491760</td>\n",
       "      <td>-1.304709</td>\n",
       "      <td>-0.842416</td>\n",
       "      <td>-0.959453</td>\n",
       "    </tr>\n",
       "    <tr>\n",
       "      <th>70</th>\n",
       "      <td>1.763160</td>\n",
       "      <td>0.897295</td>\n",
       "      <td>0.114292</td>\n",
       "      <td>0.012005</td>\n",
       "    </tr>\n",
       "    <tr>\n",
       "      <th>72</th>\n",
       "      <td>0.215086</td>\n",
       "      <td>-0.047135</td>\n",
       "      <td>-0.173511</td>\n",
       "      <td>0.030278</td>\n",
       "    </tr>\n",
       "    <tr>\n",
       "      <th>74</th>\n",
       "      <td>0.514769</td>\n",
       "      <td>0.297702</td>\n",
       "      <td>0.200287</td>\n",
       "      <td>1.111143</td>\n",
       "    </tr>\n",
       "    <tr>\n",
       "      <th>76</th>\n",
       "      <td>1.063708</td>\n",
       "      <td>0.649123</td>\n",
       "      <td>-1.834716</td>\n",
       "      <td>-1.438720</td>\n",
       "    </tr>\n",
       "    <tr>\n",
       "      <th>77</th>\n",
       "      <td>0.134570</td>\n",
       "      <td>-1.470564</td>\n",
       "      <td>0.888105</td>\n",
       "      <td>0.878431</td>\n",
       "    </tr>\n",
       "    <tr>\n",
       "      <th>78</th>\n",
       "      <td>0.756737</td>\n",
       "      <td>-0.781125</td>\n",
       "      <td>-0.429401</td>\n",
       "      <td>-1.027867</td>\n",
       "    </tr>\n",
       "    <tr>\n",
       "      <th>83</th>\n",
       "      <td>0.535350</td>\n",
       "      <td>1.011784</td>\n",
       "      <td>-0.774278</td>\n",
       "      <td>-1.472242</td>\n",
       "    </tr>\n",
       "    <tr>\n",
       "      <th>84</th>\n",
       "      <td>0.885752</td>\n",
       "      <td>0.117140</td>\n",
       "      <td>-1.673529</td>\n",
       "      <td>-0.462761</td>\n",
       "    </tr>\n",
       "    <tr>\n",
       "      <th>88</th>\n",
       "      <td>0.317772</td>\n",
       "      <td>0.444891</td>\n",
       "      <td>1.004420</td>\n",
       "      <td>-0.687517</td>\n",
       "    </tr>\n",
       "    <tr>\n",
       "      <th>89</th>\n",
       "      <td>1.189945</td>\n",
       "      <td>-0.663718</td>\n",
       "      <td>-0.203158</td>\n",
       "      <td>-1.043514</td>\n",
       "    </tr>\n",
       "    <tr>\n",
       "      <th>91</th>\n",
       "      <td>0.684324</td>\n",
       "      <td>0.704299</td>\n",
       "      <td>-1.135362</td>\n",
       "      <td>-0.620382</td>\n",
       "    </tr>\n",
       "    <tr>\n",
       "      <th>92</th>\n",
       "      <td>0.437311</td>\n",
       "      <td>-1.909173</td>\n",
       "      <td>0.147226</td>\n",
       "      <td>0.200887</td>\n",
       "    </tr>\n",
       "    <tr>\n",
       "      <th>94</th>\n",
       "      <td>0.790474</td>\n",
       "      <td>-0.199975</td>\n",
       "      <td>1.978910</td>\n",
       "      <td>-0.527775</td>\n",
       "    </tr>\n",
       "    <tr>\n",
       "      <th>96</th>\n",
       "      <td>0.628829</td>\n",
       "      <td>0.550148</td>\n",
       "      <td>-1.016270</td>\n",
       "      <td>-0.413935</td>\n",
       "    </tr>\n",
       "    <tr>\n",
       "      <th>97</th>\n",
       "      <td>0.223733</td>\n",
       "      <td>-0.714509</td>\n",
       "      <td>0.693081</td>\n",
       "      <td>0.270794</td>\n",
       "    </tr>\n",
       "  </tbody>\n",
       "</table>\n",
       "</div>"
      ],
      "text/plain": [
       "           A         B         C         D\n",
       "0   0.468116  0.727914 -1.042124  1.532085\n",
       "4   0.639351 -1.504349  0.561449  1.120917\n",
       "5   1.139319  0.880233 -2.121008  0.094869\n",
       "7   1.797316  1.320260  0.842888  1.640422\n",
       "8   0.896035 -0.302972 -1.283640  0.478745\n",
       "10  0.339444 -0.522488 -0.249035  1.732643\n",
       "12  0.421559  1.829282 -0.465249 -0.419592\n",
       "13  0.863134  0.221408 -0.512303  0.561401\n",
       "15  0.456254 -0.270838  1.865521 -0.635997\n",
       "16  0.585512 -0.521221  1.415940  0.057755\n",
       "18  1.254958 -0.086674  0.666108 -0.179936\n",
       "19  0.172150  0.614698  0.285030  1.125211\n",
       "22  0.904440  1.031435 -1.402701  2.258773\n",
       "24  0.498638  0.394398  0.346137 -0.635885\n",
       "29  0.969078  0.416639 -1.056063 -0.478506\n",
       "30  0.282493  1.371601  0.033436  0.731605\n",
       "33  0.617111  0.244328 -0.713104  1.511324\n",
       "34  0.781663 -0.240414 -1.095982  1.656772\n",
       "38  0.798013 -0.059424 -0.287552  0.202814\n",
       "39  0.200599 -0.854046  0.657007 -1.325841\n",
       "40  0.840989  0.815435 -1.093338 -0.097608\n",
       "55  0.585450 -0.780606  0.076710 -1.732150\n",
       "56  0.666489 -0.271554 -0.189705  1.420916\n",
       "57  1.209022  1.621435  1.371824  1.247801\n",
       "58  0.187194  1.394923  1.129562 -0.235603\n",
       "59  1.732496  0.169720 -0.676698  1.008637\n",
       "65  0.275208  1.024219  0.452849  0.757448\n",
       "66  0.872049 -1.776226  1.811907  0.820232\n",
       "67  1.423914  0.109174  1.794722  1.283392\n",
       "68  1.491760 -1.304709 -0.842416 -0.959453\n",
       "70  1.763160  0.897295  0.114292  0.012005\n",
       "72  0.215086 -0.047135 -0.173511  0.030278\n",
       "74  0.514769  0.297702  0.200287  1.111143\n",
       "76  1.063708  0.649123 -1.834716 -1.438720\n",
       "77  0.134570 -1.470564  0.888105  0.878431\n",
       "78  0.756737 -0.781125 -0.429401 -1.027867\n",
       "83  0.535350  1.011784 -0.774278 -1.472242\n",
       "84  0.885752  0.117140 -1.673529 -0.462761\n",
       "88  0.317772  0.444891  1.004420 -0.687517\n",
       "89  1.189945 -0.663718 -0.203158 -1.043514\n",
       "91  0.684324  0.704299 -1.135362 -0.620382\n",
       "92  0.437311 -1.909173  0.147226  0.200887\n",
       "94  0.790474 -0.199975  1.978910 -0.527775\n",
       "96  0.628829  0.550148 -1.016270 -0.413935\n",
       "97  0.223733 -0.714509  0.693081  0.270794"
      ]
     },
     "execution_count": 25,
     "metadata": {},
     "output_type": "execute_result"
    }
   ],
   "source": [
    "df.query(' A > 0 ')"
   ]
  },
  {
   "cell_type": "code",
   "execution_count": 2,
   "metadata": {},
   "outputs": [],
   "source": [
    "import matplotlib.pyplot as plt\n",
    "import numpy as np"
   ]
  },
  {
   "cell_type": "markdown",
   "metadata": {},
   "source": [
    "`plt.plot([x coordinates], [y coordinates])`"
   ]
  },
  {
   "cell_type": "code",
   "execution_count": 3,
   "metadata": {
    "scrolled": false
   },
   "outputs": [
    {
     "data": {
      "text/plain": [
       "[<matplotlib.lines.Line2D at 0x7f975c9e70b8>]"
      ]
     },
     "execution_count": 3,
     "metadata": {},
     "output_type": "execute_result"
    },
    {
     "data": {
      "image/png": "[encoded data removed]",
      "text/plain": [
       "<Figure size 432x288 with 1 Axes>"
      ]
     },
     "metadata": {
      "image/png": {
       "height": 248,
       "width": 372
      }
     },
     "output_type": "display_data"
    }
   ],
   "source": [
    "x = np.linspace(-3,3,50)\n",
    "y = np.exp(-x**2)\n",
    "plt.plot(x, y)"
   ]
  },
  {
   "cell_type": "markdown",
   "metadata": {},
   "source": [
    "`plt.scatter(x, y)`"
   ]
  },
  {
   "cell_type": "code",
   "execution_count": 35,
   "metadata": {},
   "outputs": [
    {
     "data": {
      "text/plain": [
       "<matplotlib.collections.PathCollection at 0x7f3ead490358>"
      ]
     },
     "execution_count": 35,
     "metadata": {},
     "output_type": "execute_result"
    },
    {
     "data": {
      "image/png": "[encoded data removed]",
      "text/plain": [
       "<Figure size 432x288 with 1 Axes>"
      ]
     },
     "metadata": {
      "image/png": {
       "height": 248,
       "width": 372
      }
     },
     "output_type": "display_data"
    }
   ],
   "source": [
    "x = np.linspace(-3,3,50)\n",
    "y = np.exp(-x**2)\n",
    "plt.scatter(x, y)"
   ]
  },
  {
   "cell_type": "markdown",
   "metadata": {},
   "source": [
    "`plt.hist( [lots of samples] )`"
   ]
  },
  {
   "cell_type": "code",
   "execution_count": 42,
   "metadata": {
    "scrolled": true
   },
   "outputs": [
    {
     "data": {
      "text/plain": [
       "(array([  1.,   0.,   4.,   4.,   4.,  11.,  19.,  19.,  14.,  33.,  57.,\n",
       "         59.,  88., 116., 132., 193., 230., 276., 319., 387., 409., 444.,\n",
       "        464., 567., 576., 526., 579., 544., 527., 513., 454., 418., 412.,\n",
       "        305., 289., 237., 184., 138., 121.,  87.,  66.,  54.,  39.,  21.,\n",
       "         26.,  13.,   6.,   8.,   2.,   5.]),\n",
       " array([-3.69498765, -3.55372045, -3.41245325, -3.27118605, -3.12991885,\n",
       "        -2.98865165, -2.84738445, -2.70611725, -2.56485005, -2.42358285,\n",
       "        -2.28231565, -2.14104845, -1.99978125, -1.85851405, -1.71724685,\n",
       "        -1.57597965, -1.43471245, -1.29344525, -1.15217805, -1.01091085,\n",
       "        -0.86964365, -0.72837645, -0.58710925, -0.44584205, -0.30457485,\n",
       "        -0.16330765, -0.02204045,  0.11922675,  0.26049395,  0.40176115,\n",
       "         0.54302835,  0.68429555,  0.82556275,  0.96682995,  1.10809715,\n",
       "         1.24936435,  1.39063155,  1.53189875,  1.67316595,  1.81443314,\n",
       "         1.95570034,  2.09696754,  2.23823474,  2.37950194,  2.52076914,\n",
       "         2.66203634,  2.80330354,  2.94457074,  3.08583794,  3.22710514,\n",
       "         3.36837234]),\n",
       " <a list of 50 Patch objects>)"
      ]
     },
     "execution_count": 42,
     "metadata": {},
     "output_type": "execute_result"
    },
    {
     "data": {
      "image/png": "[encoded data removed]",
      "text/plain": [
       "<Figure size 432x288 with 1 Axes>"
      ]
     },
     "metadata": {
      "image/png": {
       "height": 249,
       "width": 375
      }
     },
     "output_type": "display_data"
    }
   ],
   "source": [
    "dist = np.random.randn(10000)\n",
    "plt.hist(dist, bins=50)"
   ]
  },
  {
   "cell_type": "code",
   "execution_count": 14,
   "metadata": {},
   "outputs": [
    {
     "data": {
      "text/plain": [
       "[<matplotlib.lines.Line2D at 0x7f9755dff6d8>]"
      ]
     },
     "execution_count": 14,
     "metadata": {},
     "output_type": "execute_result"
    },
    {
     "data": {
      "image/png": "[encoded data removed]",
      "text/plain": [
       "<Figure size 432x288 with 1 Axes>"
      ]
     },
     "metadata": {
      "image/png": {
       "height": 248,
       "width": 372
      }
     },
     "output_type": "display_data"
    }
   ],
   "source": [
    "plt.plot(x, y, 'mv:')"
   ]
  },
  {
   "cell_type": "code",
   "execution_count": null,
   "metadata": {},
   "outputs": [],
   "source": []
  }
 ],
 "metadata": {
  "kernelspec": {
   "display_name": "Python 3 (Ubuntu Linux)",
   "language": "python",
   "name": "python3"
  },
  "language_info": {
   "codemirror_mode": {
    "name": "ipython",
    "version": 3
   },
   "file_extension": ".py",
   "mimetype": "text/x-python",
   "name": "python",
   "nbconvert_exporter": "python",
   "pygments_lexer": "ipython3",
   "version": "3.6.7"
  }
 },
 "nbformat": 4,
 "nbformat_minor": 2
}
